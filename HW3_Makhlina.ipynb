{
  "nbformat": 4,
  "nbformat_minor": 0,
  "metadata": {
    "colab": {
      "name": "HW3_Makhlina.ipynb",
      "provenance": []
    },
    "kernelspec": {
      "name": "python3",
      "display_name": "Python 3"
    }
  },
  "cells": [
    {
      "cell_type": "markdown",
      "metadata": {
        "id": "Vz2XaxAUveuG"
      },
      "source": [
        "В качестве домашнего задания мы предлагаем вам решить задачу бинарной классификации на большом корпусе imdb рецензий на фильмы. \n",
        "Корпус можно скачать по ссылке http://ai.stanford.edu/~amaas/data/sentiment/\n",
        "\n",
        "Ваша задача в sklearn, используя один из алгоритмов, рассмотренных на паре, построить и обучить классификатор, посчитать метрики качества (precision, recall, F-мера), построить ROC кривую и посчитайте величину ROC AUC.  - 4 балла\n",
        "\n",
        "Используя предсказания вероятностей класса, найдите 15 самых негативных и самых позитивных рецензий по мнению модели.  - 3 балла\n",
        "\n",
        "Написать свои функции, которые бы считали tp, fp, tn, fn, и возвращали точность, полноту и ф-меру и применить их к результатам, полученным вашими классификаторами (если все сделано правильно, то результаты должны совпадать с полученными  sklearn метриками). - 3 балла"
      ]
    },
    {
      "cell_type": "code",
      "metadata": {
        "id": "WfBTBviRmc4m"
      },
      "source": [
        "import os\n",
        "import random\n",
        "import numpy as np"
      ],
      "execution_count": 1,
      "outputs": []
    },
    {
      "cell_type": "code",
      "metadata": {
        "id": "vtiLloXNl5v5"
      },
      "source": [
        "!wget http://ai.stanford.edu/~amaas/data/sentiment/aclImdb_v1.tar.gz\n",
        "!gunzip aclImdb_v1.tar.gz\n",
        "!tar -xvf aclImdb_v1.tar"
      ],
      "execution_count": null,
      "outputs": []
    },
    {
      "cell_type": "code",
      "metadata": {
        "id": "E20ScJHEl-ga",
        "cellView": "form"
      },
      "source": [
        "#@title\n",
        "#@Data_downloading\n",
        "#this code was taken from https://developers.google.com/machine-learning/guides/text-classification/step-2\n",
        "\n",
        "\n",
        "def load_imdb_sentiment_analysis_dataset(data_path, seed=123):\n",
        "    imdb_data_path = os.path.join(data_path, 'aclImdb')\n",
        "\n",
        "    # Load the training data\n",
        "    train_texts = []\n",
        "    train_labels = []\n",
        "    for category in ['pos', 'neg']:\n",
        "        train_path = os.path.join(imdb_data_path, 'train', category)\n",
        "        for fname in sorted(os.listdir(train_path)):\n",
        "            if fname.endswith('.txt'):\n",
        "                with open(os.path.join(train_path, fname)) as f:\n",
        "                    train_texts.append(f.read())\n",
        "                train_labels.append(0 if category == 'neg' else 1)\n",
        "\n",
        "    # Load the validation data.\n",
        "    test_texts = []\n",
        "    test_labels = []\n",
        "    for category in ['pos', 'neg']:\n",
        "        test_path = os.path.join(imdb_data_path, 'test', category)\n",
        "        for fname in sorted(os.listdir(test_path)):\n",
        "            if fname.endswith('.txt'):\n",
        "                with open(os.path.join(test_path, fname)) as f:\n",
        "                    test_texts.append(f.read())\n",
        "                test_labels.append(0 if category == 'neg' else 1)\n",
        "\n",
        "    # Shuffle the training data and labels.\n",
        "    random.seed(seed)\n",
        "    random.shuffle(train_texts)\n",
        "    random.seed(seed)\n",
        "    random.shuffle(train_labels)\n",
        "\n",
        "    return ((train_texts, np.array(train_labels)),\n",
        "            (test_texts, np.array(test_labels)))"
      ],
      "execution_count": 3,
      "outputs": []
    },
    {
      "cell_type": "code",
      "metadata": {
        "id": "qboRWuHimXT6"
      },
      "source": [
        "train_data, test_data = load_imdb_sentiment_analysis_dataset('')"
      ],
      "execution_count": 13,
      "outputs": []
    },
    {
      "cell_type": "code",
      "metadata": {
        "id": "jy6Md-RdmZoP"
      },
      "source": [
        "from sklearn.feature_extraction.text import CountVectorizer\n",
        "count_vect = CountVectorizer()\n",
        "X_train_counts = count_vect.fit_transform(train_data[0]) #Learn the vocabulary dictionary and return term-document matrix.\n",
        "X_test = count_vect.transform(test_data[0])"
      ],
      "execution_count": 14,
      "outputs": []
    },
    {
      "cell_type": "code",
      "metadata": {
        "id": "uRMXGv3smiJg"
      },
      "source": [
        "from sklearn.linear_model import LogisticRegression\n",
        "clf = LogisticRegression(max_iter=2000).fit(X_train_counts, train_data[1])\n",
        "predicted = clf.predict(X_test)\n",
        "predicted_score = clf.score(X_train_counts, train_data[1])"
      ],
      "execution_count": 15,
      "outputs": []
    },
    {
      "cell_type": "code",
      "metadata": {
        "id": "bo9IMY_OmmIg"
      },
      "source": [
        "from sklearn.metrics import roc_auc_score, roc_curve, accuracy_score, f1_score, precision_score, recall_score\n",
        "from matplotlib import pyplot"
      ],
      "execution_count": 16,
      "outputs": []
    },
    {
      "cell_type": "code",
      "metadata": {
        "id": "9Dykj3vDmn5l",
        "outputId": "bd376588-f882-498b-ac4c-c7d1b1442b75",
        "colab": {
          "base_uri": "https://localhost:8080/",
          "height": 51
        }
      },
      "source": [
        "sklearn_acc = accuracy_score(test_data[1], predicted)\n",
        "sklearn_f1 = f1_score(test_data[1], predicted)\n",
        "sklearn_precision = precision_score(test_data[1], predicted)\n",
        "sklearn_recall = recall_score(test_data[1], predicted)\n",
        "\n",
        "print('acc={0:1.4f}'.format(sklearn_acc))\n",
        "print('F1={0:1.4f}, P={1:1.4f}, R={2:1.4f}'.format(sklearn_f1, sklearn_precision, sklearn_recall))"
      ],
      "execution_count": 17,
      "outputs": [
        {
          "output_type": "stream",
          "text": [
            "acc=0.8667\n",
            "F1=0.8657, P=0.8726, R=0.8588\n"
          ],
          "name": "stdout"
        }
      ]
    },
    {
      "cell_type": "code",
      "metadata": {
        "id": "WeF9f224mwgX",
        "outputId": "bd028b6c-6608-44f3-ce5c-7a7260c19781",
        "colab": {
          "base_uri": "https://localhost:8080/",
          "height": 279
        }
      },
      "source": [
        "y_true = test_data[1]\n",
        "y_predicted = predicted\n",
        "y_predicted_proba = clf.predict_proba(X_test)\n",
        "y_predicted_score = [max(i) for i in y_predicted_proba]\n",
        "fpr, tpr, thrhld = roc_curve(y_true, y_predicted_score)\n",
        "pyplot.plot(fpr, tpr, marker='.', label='Test')\n",
        "# axis labels\n",
        "pyplot.xlabel('False Positive Rate')\n",
        "pyplot.ylabel('True Positive Rate')\n",
        "# show the legend\n",
        "pyplot.legend()\n",
        "# show the plot\n",
        "pyplot.show()"
      ],
      "execution_count": 18,
      "outputs": [
        {
          "output_type": "display_data",
          "data": {
            "image/png": "[encoded data removed]",
            "text/plain": [
              "<Figure size 432x288 with 1 Axes>"
            ]
          },
          "metadata": {
            "tags": [],
            "needs_background": "light"
          }
        }
      ]
    },
    {
      "cell_type": "code",
      "metadata": {
        "id": "7lbRbXzymz9V",
        "outputId": "f2ba5ff1-e6eb-4589-b495-c152b0c24ff0",
        "colab": {
          "base_uri": "https://localhost:8080/",
          "height": 34
        }
      },
      "source": [
        "print(f'roc auc score: {roc_auc_score(y_true, y_predicted_score)}')"
      ],
      "execution_count": 19,
      "outputs": [
        {
          "output_type": "stream",
          "text": [
            "roc auc score: 0.4515235872\n"
          ],
          "name": "stdout"
        }
      ]
    },
    {
      "cell_type": "code",
      "metadata": {
        "id": "w_qX3r7JSl44",
        "outputId": "92481a56-86b4-4207-dd6c-755d09e1bc79",
        "colab": {
          "base_uri": "https://localhost:8080/",
          "height": 367
        }
      },
      "source": [
        "#Видимо, такой плохой рок аук у нас получился из-за небалансированности классов\n",
        "pyplot.hist(y_predicted_score)"
      ],
      "execution_count": 27,
      "outputs": [
        {
          "output_type": "execute_result",
          "data": {
            "text/plain": [
              "(array([  533.,   569.,   580.,   596.,   697.,   741.,   883.,  1261.,\n",
              "         1977., 17163.]),\n",
              " array([0.50031127, 0.55028015, 0.60024902, 0.65021789, 0.70018676,\n",
              "        0.75015564, 0.80012451, 0.85009338, 0.90006225, 0.95003113,\n",
              "        1.        ]),\n",
              " <a list of 10 Patch objects>)"
            ]
          },
          "metadata": {
            "tags": []
          },
          "execution_count": 27
        },
        {
          "output_type": "display_data",
          "data": {
            "image/png": "[encoded data removed]",
            "text/plain": [
              "<Figure size 432x288 with 1 Axes>"
            ]
          },
          "metadata": {
            "tags": [],
            "needs_background": "light"
          }
        }
      ]
    },
    {
      "cell_type": "code",
      "metadata": {
        "id": "vjg6yqpSm2jA"
      },
      "source": [
        "def tp(y_predicted, y_true):\n",
        "    tp = 0\n",
        "    for i in range(len(y_true)):\n",
        "        if y_true[i]==1 and y_predicted[i]==1:\n",
        "            tp+=1\n",
        "    return tp\n",
        "\n",
        "\n",
        "def tn(y_predicted, y_true):\n",
        "    tn = 0\n",
        "    for i in range(len(y_true)):\n",
        "        if y_true[i]==0 and y_predicted[i]==0:\n",
        "            tn+=1\n",
        "    return tn\n",
        "\n",
        "\n",
        "def fp(y_predicted, y_true):\n",
        "    fp = 0\n",
        "    for i in range(len(y_true)):\n",
        "        if y_true[i]==0 and y_predicted[i]==1:\n",
        "            fp+=1\n",
        "    return fp\n",
        "\n",
        "\n",
        "def fn(y_predicted, y_true):\n",
        "    fn = 0\n",
        "    for i in range(len(y_true)):\n",
        "        if y_true[i]==1 and y_predicted[i]==0:\n",
        "            fn+=1\n",
        "    return fn\n",
        "\n",
        "\n",
        "def my_accuracy(y_predicted, y_true):\n",
        "    return (tp(y_predicted, y_true) + tn(y_predicted, y_true))/(tp(y_predicted, y_true) + tn(y_predicted, y_true) + \n",
        "            fp(y_predicted, y_true) + fn(y_predicted, y_true))\n",
        "\n",
        "\n",
        "def my_precision(y_predicted, y_true):\n",
        "    return tp(y_predicted, y_true)/(tp(y_predicted, y_true) + fp(y_predicted, y_true))\n",
        "\n",
        "\n",
        "def my_recall(y_predicted, y_true):\n",
        "    return tp(y_predicted, y_true)/(tp(y_predicted, y_true)+fn(y_predicted, y_true))\n",
        "\n",
        "\n",
        "def my_f(y_predicted, y_true):\n",
        "    return 2*my_precision(y_predicted, y_true)*my_recall(y_predicted, y_true)/(my_precision(y_predicted, y_true) + my_recall(y_predicted, y_true))"
      ],
      "execution_count": 28,
      "outputs": []
    },
    {
      "cell_type": "code",
      "metadata": {
        "id": "J7Obi8-rxQn1",
        "outputId": "e0fe4291-d0d8-41a9-bed1-082faf046191",
        "colab": {
          "base_uri": "https://localhost:8080/",
          "height": 374
        }
      },
      "source": [
        "print('F1={0:1.4f}, P={1:1.4f}, R={2:1.4f}'.format(sklearn_f1, sklearn_precision, sklearn_recall))\n",
        "print('These are sklearn metrics:')\n",
        "print(f'F1={sklearn_f1}, P={sklearn_precision}, R={sklearn_recall}')\n",
        "print('These are my metrics:')\n",
        "print(f'F1={my_f(y_predicted, y_true)}, P={my_precision(y_predicted, y_true)}, R={my_recall(y_predicted, y_true)}')\n",
        "print('\\nThis is catapillar:')\n",
        "print('╚═( ͡° ͜ʖ ͡°)═╝\\n╚═(███)═╝\\n╚═(███)═╝\\n.╚═(███)═╝\\n..╚═(███)═╝\\n.╚═(███)═╝\\n╚═(███)═╝\\n.╚═(███)═╝\\n..╚═(███)═╝\\n…╚═(███)═╝\\n…╚═(███)═╝\\n…..╚(███)╝\\n……╚(██)╝\\n………(█)')"
      ],
      "execution_count": 29,
      "outputs": [
        {
          "output_type": "stream",
          "text": [
            "F1=0.8657, P=0.8726, R=0.8588\n",
            "These are sklearn metrics:\n",
            "F1=0.8656559954842351, P=0.872622337831247, R=0.8588\n",
            "These are my metrics:\n",
            "F1=0.8656559954842351, P=0.872622337831247, R=0.8588\n",
            "\n",
            "This is catapillar:\n",
            "╚═( ͡° ͜ʖ ͡°)═╝\n",
            "╚═(███)═╝\n",
            "╚═(███)═╝\n",
            ".╚═(███)═╝\n",
            "..╚═(███)═╝\n",
            ".╚═(███)═╝\n",
            "╚═(███)═╝\n",
            ".╚═(███)═╝\n",
            "..╚═(███)═╝\n",
            "…╚═(███)═╝\n",
            "…╚═(███)═╝\n",
            "…..╚(███)╝\n",
            "……╚(██)╝\n",
            "………(█)\n"
          ],
          "name": "stdout"
        }
      ]
    }
  ]
}