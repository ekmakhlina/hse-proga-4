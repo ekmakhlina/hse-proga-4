{
  "nbformat": 4,
  "nbformat_minor": 0,
  "metadata": {
    "colab": {
      "name": "hse-proga-hw5",
      "provenance": [],
      "collapsed_sections": []
    },
    "kernelspec": {
      "name": "python3",
      "display_name": "Python 3"
    }
  },
  "cells": [
    {
      "cell_type": "markdown",
      "metadata": {
        "id": "aShQpl0UpZQ6"
      },
      "source": [
        "## ДЗ Перцептрон\n",
        "\n",
        "Реализуйте класс MLP, представляющий многослойный перцептрон. Релизуйте возможность сохранить веса в файлы и загрузить их обратно. Убедитесь в том, чтоб перцептрон обучается.\n",
        "\n",
        "Реализуйте классы\n",
        "\n",
        "ActivationF, TanhF(ActivationF)\n",
        "Unit\n",
        "Layer\n",
        "MLP"
      ]
    },
    {
      "cell_type": "markdown",
      "metadata": {
        "id": "TsRYMYJso2IO"
      },
      "source": [
        "## ActivationF, TanhF\n",
        "\n",
        "класс, представляющий функцию активации.\n",
        "\n",
        "умеет при заданном входном числе (если вам нужно, то каких-то ещё параметрах) вычислить значение функции активации.\n",
        "умеет при заданном том же входном числе (если вам нужно, то каких-то ещё параметрах) вычислить значение производной функции активации.\n",
        "математика активации -- та, что указана в имени класса (tanh), можно реализовать ещё несколько."
      ]
    },
    {
      "cell_type": "code",
      "metadata": {
        "id": "T475P9SinaWT"
      },
      "source": [
        "import math\n",
        "import abc\n",
        "import random"
      ],
      "execution_count": 1,
      "outputs": []
    },
    {
      "cell_type": "code",
      "metadata": {
        "id": "bxoYedLVSBto"
      },
      "source": [
        "class ActivationF(abc.ABC):\n",
        "\n",
        "    @abc.abstractmethod\n",
        "    def calc(self, x):\n",
        "        pass\n",
        "\n",
        "    @abc.abstractmethod\n",
        "    def derive(self, x):\n",
        "        pass\n",
        "\n",
        "    @staticmethod\n",
        "    def from_name(name=\"tanh\"):\n",
        "        if name == \"tanh\":\n",
        "            return TanhF()\n",
        "        if name == 'sigmoid':\n",
        "            return Sigmoid()\n",
        "\n",
        "class TanhF(ActivationF):\n",
        "    def calc(self, x):\n",
        "        return (math.e**(2*x)-1)/(math.e**(2*x)+1)\n",
        "\n",
        "    def derive(self, x):\n",
        "        return 1 - self.calc(x)\n",
        "\n",
        "class Sigmoid(ActivationF):\n",
        "    def calc(self, x):\n",
        "        return 1 / (1 + math.exp(-x))\n",
        "\n",
        "    def derive(self, x):\n",
        "        return self.calc(x)*(1-self.calc(x))"
      ],
      "execution_count": 2,
      "outputs": []
    },
    {
      "cell_type": "markdown",
      "metadata": {
        "id": "ZX9ZHJBvo6_H"
      },
      "source": [
        "## Unit\n",
        "\n",
        "класс Unit будет представлять нейрон в нейронной сети.\n",
        "словесно работает нейрон так:\n",
        "\n",
        "нейрону на вход подаётся набор чисел,\n",
        "он считает их взвешенную сумму,\n",
        "применяет к ней функцию активации.\n",
        "обычно нейрон также умеет, зная, как он вложился в ошибку, обновить свои веса. это -- работа метода backward."
      ]
    },
    {
      "cell_type": "code",
      "metadata": {
        "id": "Eq5DkmwCo-Dh"
      },
      "source": [
        "class Unit:\n",
        "    def __init__(self, input_size, prev_layer: \"Layer\" = None, activation=\"tanh\"):\n",
        "        self.activation = ActivationF.from_name(activation)\n",
        "        self.weights = [random.uniform(-1, 1) for weight_n in range(input_size)]\n",
        "        self.prev_layer = prev_layer\n",
        "        self.input_size = input_size\n",
        "        self.features = [None]\n",
        "        # your code here\n",
        "\n",
        "    def features_f(self):\n",
        "        if self.features[0] == None:\n",
        "            return self.prev_layer.forward()\n",
        "        else:\n",
        "            return self.features\n",
        "\n",
        "\n",
        "    def forward(self):\n",
        "        # your code here\n",
        "        self.sum_f = 0\n",
        "        self.features = self.features_f()\n",
        "        for w, f in zip(self.weights, self.features):\n",
        "            self.sum_f += w*f\n",
        "        self.sum_f = self.sum_f + self.weights[-1]\n",
        "        return self.activation.calc(self.sum_f)\n",
        "\n",
        "    def backward(self, dLoss_dLastLayerOutput, learning_rate=0.01):\n",
        "        for w, dLoss_dLastLayerOutput_w, x, i in zip(self.weights, dLoss_dLastLayerOutput, self.features, range(len(self.weights))):\n",
        "            slope = dLoss_dLastLayerOutput_w*self.activation.derive(self.sum_f)*x\n",
        "            w -= learning_rate*slope\n",
        "            self.weights[i] = w\n",
        "        #print(self.weights)"
      ],
      "execution_count": 3,
      "outputs": []
    },
    {
      "cell_type": "markdown",
      "metadata": {
        "id": "DiUm7H7XpAvn"
      },
      "source": [
        "## Layer\n",
        "\n",
        "Должен иметь возможность создать очередной слой перцептрона. Например,"
      ]
    },
    {
      "cell_type": "code",
      "metadata": {
        "id": "SjDYqtOVpEDG"
      },
      "source": [
        "class Layer:\n",
        "    def __init__(self, input_size, size, prev_layer = None, activation=\"tanh\"):\n",
        "        self.activation = activation\n",
        "        self.units = [Unit(input_size, prev_layer=prev_layer, activation=activation)\n",
        "                      for unit_n in range(size)]\n",
        "    \n",
        "    def forward(self):\n",
        "        return [unit.forward() for unit in self.units]\n",
        "\n",
        "    def backward(self, dLoss_dLastLayerOutput):\n",
        "        return [unit.backward(dLoss_dLastLayerOutput) for unit in self.units]"
      ],
      "execution_count": 4,
      "outputs": []
    },
    {
      "cell_type": "markdown",
      "metadata": {
        "id": "NCLV61vgpGmr"
      },
      "source": [
        "## MLP\n",
        "\n",
        "MLP должен\n",
        "\n",
        "иметь произвольное кол-во слоёв произвольных размерностей\n",
        "обучатьтся\n",
        "уметь сохранять/загружать веса\n",
        "Например,"
      ]
    },
    {
      "cell_type": "code",
      "metadata": {
        "id": "UzF_v_xKpIrW"
      },
      "source": [
        "class MLP:\n",
        "    def __init__(self, input_size, output_size, sizes, activations):\n",
        "        self.activations = activations\n",
        "        self.all_losses = []\n",
        "        \n",
        "        layers_sizes = [input_size] + sizes + [output_size]\n",
        "        \n",
        "        self.layers = []\n",
        "        prev_added_layer = None\n",
        "        for layer_in_size, layer_out_size, act_f in zip(layers_sizes[:-1], layers_sizes[1:], self.activations):\n",
        "            self.layers.append(Layer(layer_in_size, layer_out_size, prev_layer=prev_added_layer, activation=act_f))\n",
        "            prev_added_layer = self.layers[-1]\n",
        "    \n",
        "    def train_single_entry(self, features, target_mhe):\n",
        "        # region forward pass\n",
        "        for unit in self.layers[0].units:\n",
        "            unit.features = features\n",
        "        i = 0\n",
        "        for layer in self.layers:\n",
        "            i += 1\n",
        "            curr_layer_output = layer.forward()\n",
        "        last_layer_output = curr_layer_output\n",
        "        # endregion forward pass\n",
        "        def softmax(some_data):\n",
        "            es_x = [math.e ** x for x in some_data]\n",
        "            return [e_x / sum(es_x) for e_x in es_x]\n",
        "\n",
        "        pred = softmax(last_layer_output)\n",
        "        loss = - sum(class_target * math.log(class_pred)\n",
        "                     for class_target, class_pred in zip(target_mhe, pred))\n",
        "        # region backward pass\n",
        "        dLoss_dLastLayerOutput = [class_pred - class_target\n",
        "                                  for class_target, class_pred in zip(target_mhe, pred)]\n",
        "        \n",
        "        for layer in self.layers:\n",
        "            layer.backward(dLoss_dLastLayerOutput)\n",
        "        # your code here\n",
        "        # endregion backward pass\n",
        "        self.all_losses.append(loss)\n",
        "        #print(loss)\n",
        "        return loss\n",
        "\n",
        "    def train_model(self, features, target_mhe, n_epoch=100):\n",
        "        for i in range(n_epoch):\n",
        "            self.train_single_entry(features, target_mhe)\n",
        "        \n",
        "    def save_model(file_name):\n",
        "        import pickle\n",
        "        pickle.dump(self, file_name)\n",
        "    \n",
        "    def load_model(file_name):\n",
        "        import pickle\n",
        "        pickle.load(file_name)"
      ],
      "execution_count": 5,
      "outputs": []
    },
    {
      "cell_type": "code",
      "metadata": {
        "id": "Brio5qEkTugk"
      },
      "source": [
        "my_MLP = MLP(input_size=4, output_size=4, sizes=[5, 6, 7], activations=['tanh', 'tanh', 'tanh'])"
      ],
      "execution_count": 6,
      "outputs": []
    },
    {
      "cell_type": "code",
      "metadata": {
        "id": "uzVel-TUT1iT"
      },
      "source": [
        "import numpy as np\n",
        "\n",
        "data_input = np.random.normal(size=4)\n",
        "\n",
        "data_label = -(data_input)"
      ],
      "execution_count": 7,
      "outputs": []
    },
    {
      "cell_type": "code",
      "metadata": {
        "id": "yD-s6-qpo6J7"
      },
      "source": [
        "my_MLP.train_model(data_input, data_label, n_epoch=400)"
      ],
      "execution_count": 8,
      "outputs": []
    },
    {
      "cell_type": "code",
      "metadata": {
        "id": "WHompQr279Ns"
      },
      "source": [
        "import matplotlib.pyplot as plt"
      ],
      "execution_count": 9,
      "outputs": []
    },
    {
      "cell_type": "code",
      "metadata": {
        "colab": {
          "base_uri": "https://localhost:8080/"
        },
        "id": "Ma05NqWDrGlx",
        "outputId": "6e83e60b-6166-434e-8375-1d1fcb1dcaf4"
      },
      "source": [
        "print(my_MLP.all_losses)"
      ],
      "execution_count": 10,
      "outputs": [
        {
          "output_type": "stream",
          "text": [
            "[-5.082526095959903, -5.077526944926255, -5.072578390326823, -5.067685410429399, -5.062852984907234, -5.058086082147501, -5.053389646253056, -5.048768583836551, -5.044227750711995, -5.0397719385938125, -5.035405861916859, -5.031134144892841, -5.026961308918827, -5.022891760452079, -5.018929779462228, -5.015079508566844, -5.0113449429496475, -5.007729921152306, -5.0042381168207415, -5.000873031475626, -4.997637988364123, -4.994536127436487, -4.9915704014768005, -4.9887435734023935, -4.986058214731487, -4.983516705203629, -4.981121233522879, -4.978873799179605, -4.976776215293449, -4.974830112407798, -4.97303694315502, -4.971397987701954, -4.969914359876992, -4.96858701387331, -4.967416751417758, -4.966404229291402, -4.965549967085794, -4.9648543550787, -4.964317662114012, -4.96394004337307, -4.963721547928214, -4.96366212597416, -4.963761635638534, -4.964019849279436, -4.9644364591852135, -4.965011082599429, -4.965743266002335, -4.966632488588832, -4.9676781648918205, -4.968879646508972, -4.970236222900204, -4.971747121232545, -4.973411505258407, -4.975228473222872, -4.977197054804968, -4.979316207107607, -4.9815848097203705, -4.984001658889037, -4.986565460835499, -4.989274824281541, -4.992128252239795, -4.995124133145264, -4.998260731410625, -5.0015361774986635, -5.004948457614933, -5.0084954031335585, -5.012174679878473, -5.015983777391463, -5.019919998326792, -5.023980448119967, -5.028162025084891, -5.032461411099319, -5.0368750630426815, -5.0413992051529215, -5.046029822469699, -5.050762655529848, -5.055593196477245, -5.060516686742927, -5.065528116442318, -5.070622225624591, -5.075793507494519, -5.081036213709514, -5.086344361834153, -5.091711745011352, -5.097131943883715, -5.102598340770825, -5.108104136078662, -5.113642366886467, -5.119205927624724, -5.12478759272604, -5.130380041099441, -5.135975882248296, -5.141567683823817, -5.147148000380184, -5.152709403074757, -5.158244510037945, -5.163746017122792, -5.169206728734496, -5.174619588435336, -5.1799777090209815, -5.185274401769935, -5.190503204578897, -5.195657908712819, -5.2007325839191525, -5.205721601680554, -5.210619656408816, -5.215421784414184, -5.220123380517739, -5.224720212209647, -5.229208431291728, -5.233584582978357, -5.237845612464521, -5.2419888690029905, -5.246012107563642, -5.249913488176374, -5.2536915730843115, -5.257345321855873, -5.260874084622479, -5.2642775936231105, -5.267555953247614, -5.270709628777575, -5.273739434026961, -5.27664651808483, -5.279432351359315, -5.282098711116409, -5.2846476666988345, -5.287081564600156, -5.2894030135573615, -5.291614869812001, -5.293720222675798, -5.295722380521857, -5.297624857307481, -5.29943135971936, -5.301145775016857, -5.302772159634337, -5.304314728589304, -5.305777845729484, -5.307166014839068, -5.308483871612272, -5.309736176491022, -5.310927808353124, -5.312063759027588, -5.313149128604917, -5.314189121502084, -5.315189043234411, -5.316154297839894, -5.31709038589527, -5.318002903057471, -5.3188975390589475, -5.319780077080539, -5.320656393421174, -5.321532457379577, -5.322414331259332, -5.323308170405149, -5.32422022317483, -5.325156830748375, -5.326124426672887, -5.327129536039402, -5.3281787741855124, -5.329278844815885, -5.330436537431292, -5.3316587239558935, -5.3329523544522, -5.334324451813506, -5.335782105324801, -5.337332462985267, -5.338982722488661, -5.340740120762218, -5.342611921970428, -5.3446054038971145, -5.346727842628031, -5.348986495466507, -5.3513885820269635, -5.3539412634651775, -5.356651619820235, -5.3595266254611795, -5.362573122651434, -5.3657977932660845, -5.369207128721081, -5.372807398199165, -5.376604615284672, -5.3806045031481995, -5.384812458452035, -5.389233514178036, -5.393872301610894, -5.398733011740946, -5.403819356381503, -5.409134529325486, -5.414681167894405, -5.420461315258757, -5.426476383932264, -5.432727120862106, -5.439213574553013, -5.44593506467395, -5.452890154601574, -5.460076627354019, -5.467491465361361, -5.475130834504813, -5.482990072834882, -5.4910636843491085, -5.4993453381725494, -5.507827873438583, -5.5165033101144365, -5.525362865955135, -5.534396979701888, -5.543595340567444, -5.552946923971905, -5.562440033409859, -5.572062348244308, -5.581800977136497, -5.5916425167351615, -5.601573115165537, -5.611578539779805, -5.621644248558189, -5.631755464485611, -5.6418972521743, -5.652054595959692, -5.662212478666388, -5.672355960224254, -5.682470255312145, -5.6925408092189, -5.702553371137822, -5.712494064151421, -5.722349451216798, -5.732106596527475, -5.741753121703098, -5.751277256342417, -5.760667882565238, -5.769914573263446, -5.779007623877484, -5.787938077610692, -5.796697744087408, -5.805279211549957, -5.813675852772647, -5.821881824946406, -5.829892063854364, -5.837702272715717, -5.845308906122108, -5.852709149527124, -5.859900894775575, -5.866882712175103, -5.873653819619046, -5.880214049267042, -5.8865638122793715, -5.892704062083707, -5.898636256629496, -5.904362320057075, -5.909884604176595, -5.915205850116977, -5.920329150468686, -5.92525791220649, -5.9299958206408725, -5.934546804609736, -5.93891500308621, -5.94310473334421, -5.94712046079133, -5.950966770548851, -5.954648340831365, -5.9581699181540735, -5.961536294373716, -5.964752285550062, -5.9678227125981955, -5.970752383687742, -5.973546078333541, -5.9762085331126436, -5.978744428935185, -5.981158379790954, -5.983454922889594, -5.985638510109856, -5.98771350067215, -5.989684154948564, -5.991554629325387, -5.993328972034857, -5.9950111198751515, -5.996604895740524, -5.998114006886699, -5.999542043860235, -6.000892480024301, -6.002168671617274, -6.003373858284469, -6.004511164027381, -6.005583598518684, -6.006594058735176, -6.007545330864578, -6.008440092445742, -6.009280914705292, -6.010070265057044, -6.010810509733661, -6.011503916522994, -6.012152657584264, -6.0127588123218985, -6.013324370297175, -6.013851234160103, -6.014341222585966, -6.014796073202927, -6.015217445498725, -6.015606923696163, -6.015966019588485, -6.016296175327029, -6.016598766154797, -6.016875103080573, -6.017126435489221, -6.017353953684647, -6.017558791362685, -6.01774202801183, -6.01790469124037, -6.018047759028984, -6.018172161908346, -6.0182787850617245, -6.018368470352838, -6.018442018279631, -6.018500189854837, -6.0185437084144615, -6.018573261355438, -6.018589501804003, -6.018593050216291, -6.018584495912912, -6.018564398549268, -6.018533289523439, -6.018491673323554, -6.018440028816561, -6.018378810480293, -6.018308449580846, -6.018229355297124, -6.018141915794552, -6.018046499249778, -6.0179434548283135, -6.017833113616909, -6.017715789512482, -6.01759178006936, -6.017461367306562, -6.017324818476798, -6.017182386798786, -6.017034312154502, -6.016880821752862, -6.016722130761322, -6.016558442906824, -6.016389951047462, -6.016216837716191, -6.016039275637853, -6.01585742822076, -6.01567145002399, -6.0154814872015505, -6.01528767792448, -6.015090152781928, -6.014889035162222, -6.01468444161486, -6.0144764821943655, -6.0142652607868285, -6.014050875420045, -6.013833418557972, -6.013612977380315, -6.013389634047946, -6.01316346595486, -6.012934545967328, -6.012702942650867, -6.0124687204856535, -6.01223194007092, -6.011992658318906, -6.01175092863889, -6.0115068011117545, -6.011260322655604, -6.011011537182866, -6.0107604857492944, -6.0105072066952845, -6.0102517357799, -6.009994106307968, -6.009734349250574, -6.00947249335934, -6.009208565274732, -6.00894258962877, -6.00867458914236, -6.008404584717563, -6.008132595525041, -6.007858639086932, -6.00758273135537, -6.007304886786894, -6.0070251184129395, -6.006743437906606, -6.006459855645927, -6.006174380773755, -6.005887021254506, -6.00559778392786, -6.005306674559628, -6.005013697889884, -6.004718857678523, -6.004422156748385, -6.004123597026037, -6.0038231795803725, -6.003520904659096, -6.003216771723248, -6.002910779479824, -6.002602925912612, -6.002293208311334, -6.001981623299174, -6.001668166858767, -6.0013528343567435, -6.001035620566898, -6.000716519692027, -6.000395525384547]\n"
          ],
          "name": "stdout"
        }
      ]
    },
    {
      "cell_type": "code",
      "metadata": {
        "colab": {
          "base_uri": "https://localhost:8080/",
          "height": 265
        },
        "id": "-On8bOSq75ss",
        "outputId": "b81f315d-d487-46a1-c114-39d61be8513b"
      },
      "source": [
        "plt.plot(my_MLP.all_losses)\n",
        "plt.ylabel('loss')\n",
        "plt.show()"
      ],
      "execution_count": 11,
      "outputs": [
        {
          "output_type": "display_data",
          "data": {
            "image/png": "[encoded data removed]",
            "text/plain": [
              "<Figure size 432x288 with 1 Axes>"
            ]
          },
          "metadata": {
            "tags": [],
            "needs_background": "light"
          }
        }
      ]
    }
  ]
}