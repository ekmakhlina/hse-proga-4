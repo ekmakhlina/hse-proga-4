{
  "nbformat": 4,
  "nbformat_minor": 0,
  "metadata": {
    "colab": {
      "name": "hse-proga-hw5",
      "provenance": [],
      "collapsed_sections": []
    },
    "kernelspec": {
      "name": "python3",
      "display_name": "Python 3"
    }
  },
  "cells": [
    {
      "cell_type": "markdown",
      "metadata": {
        "id": "aShQpl0UpZQ6"
      },
      "source": [
        "## ДЗ Перцептрон\n",
        "\n",
        "Реализуйте класс MLP, представляющий многослойный перцептрон. Релизуйте возможность сохранить веса в файлы и загрузить их обратно. Убедитесь в том, чтоб перцептрон обучается.\n",
        "\n",
        "Реализуйте классы\n",
        "\n",
        "ActivationF, TanhF(ActivationF)\n",
        "Unit\n",
        "Layer\n",
        "MLP"
      ]
    },
    {
      "cell_type": "markdown",
      "metadata": {
        "id": "TsRYMYJso2IO"
      },
      "source": [
        "## ActivationF, TanhF\n",
        "\n",
        "класс, представляющий функцию активации.\n",
        "\n",
        "умеет при заданном входном числе (если вам нужно, то каких-то ещё параметрах) вычислить значение функции активации.\n",
        "умеет при заданном том же входном числе (если вам нужно, то каких-то ещё параметрах) вычислить значение производной функции активации.\n",
        "математика активации -- та, что указана в имени класса (tanh), можно реализовать ещё несколько."
      ]
    },
    {
      "cell_type": "code",
      "metadata": {
        "id": "T475P9SinaWT"
      },
      "source": [
        "import math\n",
        "import abc\n",
        "import random"
      ],
      "execution_count": 1,
      "outputs": []
    },
    {
      "cell_type": "code",
      "metadata": {
        "id": "bxoYedLVSBto"
      },
      "source": [
        "class ActivationF(abc.ABC):\n",
        "\n",
        "    @abc.abstractmethod\n",
        "    def calc(self, x):\n",
        "        pass\n",
        "\n",
        "    @abc.abstractmethod\n",
        "    def derive(self, x):\n",
        "        pass\n",
        "\n",
        "    @staticmethod\n",
        "    def from_name(name=\"tanh\"):\n",
        "        if name == \"tanh\":\n",
        "            return TanhF()\n",
        "        if name == 'sigmoid':\n",
        "            return Sigmoid()\n",
        "\n",
        "class TanhF(ActivationF):\n",
        "    def calc(self, x):\n",
        "        return (math.e**(2*x)-1)/(math.e**(2*x)+1)\n",
        "\n",
        "    def derive(self, x):\n",
        "        return 1 - self.calc(x)\n",
        "\n",
        "class Sigmoid(ActivationF):\n",
        "    def calc(self, x):\n",
        "        return 1 / (1 + math.exp(-x))\n",
        "\n",
        "    def derive(self, x):\n",
        "        return self.calc(x)*(1-self.calc(x))"
      ],
      "execution_count": 2,
      "outputs": []
    },
    {
      "cell_type": "markdown",
      "metadata": {
        "id": "ZX9ZHJBvo6_H"
      },
      "source": [
        "## Unit\n",
        "\n",
        "класс Unit будет представлять нейрон в нейронной сети.\n",
        "словесно работает нейрон так:\n",
        "\n",
        "нейрону на вход подаётся набор чисел,\n",
        "он считает их взвешенную сумму,\n",
        "применяет к ней функцию активации.\n",
        "обычно нейрон также умеет, зная, как он вложился в ошибку, обновить свои веса. это -- работа метода backward."
      ]
    },
    {
      "cell_type": "code",
      "metadata": {
        "id": "Eq5DkmwCo-Dh"
      },
      "source": [
        "class Unit:\n",
        "    def __init__(self, input_size, prev_layer: \"Layer\" = None, activation=\"tanh\"):\n",
        "        self.activation = ActivationF.from_name(activation)\n",
        "        self.weights = [random.uniform(-1, 1) for weight_n in range(input_size)]\n",
        "        self.prev_layer = prev_layer\n",
        "        self.input_size = input_size\n",
        "        self.features = [None]\n",
        "        # your code here\n",
        "\n",
        "    def features_f(self):\n",
        "        if self.features[0] == None:\n",
        "            return self.prev_layer.forward()\n",
        "        else:\n",
        "            return self.features\n",
        "\n",
        "\n",
        "    def forward(self):\n",
        "        # your code here\n",
        "        self.sum_f = 0\n",
        "        self.features = self.features_f()\n",
        "        for w, f in zip(self.weights, self.features):\n",
        "            self.sum_f += w*f\n",
        "        self.sum_f = self.sum_f + self.weights[-1]\n",
        "        return self.activation.calc(self.sum_f)\n",
        "\n",
        "    def backward(self, dLoss_dLastLayerOutput, learning_rate=0.01):\n",
        "        for w, dLoss_dLastLayerOutput_w, x, i in zip(self.weights, dLoss_dLastLayerOutput, self.features, range(len(self.weights))):\n",
        "            slope = dLoss_dLastLayerOutput_w*self.activation.derive(self.sum_f)*x\n",
        "            w -= learning_rate*slope\n",
        "            self.weights[i] = w\n",
        "        #print(self.weights)"
      ],
      "execution_count": 3,
      "outputs": []
    },
    {
      "cell_type": "markdown",
      "metadata": {
        "id": "DiUm7H7XpAvn"
      },
      "source": [
        "## Layer\n",
        "\n",
        "Должен иметь возможность создать очередной слой перцептрона. Например,"
      ]
    },
    {
      "cell_type": "code",
      "metadata": {
        "id": "SjDYqtOVpEDG"
      },
      "source": [
        "class Layer:\n",
        "    def __init__(self, input_size, size, prev_layer = None, activation=\"tanh\"):\n",
        "        self.activation = activation\n",
        "        self.units = [Unit(input_size, prev_layer=prev_layer, activation=activation)\n",
        "                      for unit_n in range(size)]\n",
        "    \n",
        "    def forward(self):\n",
        "        return [unit.forward() for unit in self.units]\n",
        "\n",
        "    def backward(self, dLoss_dLastLayerOutput):\n",
        "        return [unit.backward(dLoss_dLastLayerOutput) for unit in self.units]"
      ],
      "execution_count": 4,
      "outputs": []
    },
    {
      "cell_type": "markdown",
      "metadata": {
        "id": "NCLV61vgpGmr"
      },
      "source": [
        "## MLP\n",
        "\n",
        "MLP должен\n",
        "\n",
        "иметь произвольное кол-во слоёв произвольных размерностей\n",
        "обучатьтся\n",
        "уметь сохранять/загружать веса\n",
        "Например,"
      ]
    },
    {
      "cell_type": "code",
      "metadata": {
        "id": "UzF_v_xKpIrW"
      },
      "source": [
        "class MLP:\n",
        "    def __init__(self, input_size, output_size, sizes, activations):\n",
        "        self.activations = activations\n",
        "        self.all_losses = []\n",
        "        \n",
        "        layers_sizes = [input_size] + sizes + [output_size]\n",
        "        \n",
        "        self.layers = []\n",
        "        prev_added_layer = None\n",
        "        for layer_in_size, layer_out_size, act_f in zip(layers_sizes[:-1], layers_sizes[1:], self.activations):\n",
        "            self.layers.append(Layer(layer_in_size, layer_out_size, prev_layer=prev_added_layer, activation=act_f))\n",
        "            prev_added_layer = self.layers[-1]\n",
        "    \n",
        "    def train_single_entry(self, features, target_mhe):\n",
        "        # region forward pass\n",
        "        for unit in self.layers[0].units:\n",
        "            unit.features = features\n",
        "        i = 0\n",
        "        for layer in self.layers:\n",
        "            i += 1\n",
        "            curr_layer_output = layer.forward()\n",
        "        last_layer_output = curr_layer_output\n",
        "        # endregion forward pass\n",
        "        def softmax(some_data):\n",
        "            es_x = [math.e ** x for x in some_data]\n",
        "            return [e_x / sum(es_x) for e_x in es_x]\n",
        "\n",
        "        pred = softmax(last_layer_output)\n",
        "        loss = - sum(class_target * math.log(class_pred)\n",
        "                     for class_target, class_pred in zip(target_mhe, pred))\n",
        "        # region backward pass\n",
        "        dLoss_dLastLayerOutput = [class_pred - class_target\n",
        "                                  for class_target, class_pred in zip(target_mhe, pred)]\n",
        "        \n",
        "        for layer in self.layers:\n",
        "            layer.backward(dLoss_dLastLayerOutput)\n",
        "        # your code here\n",
        "        # endregion backward pass\n",
        "        self.all_losses.append(loss)\n",
        "        #print(loss)\n",
        "        return loss\n",
        "\n",
        "    def train_model(self, features, target_mhe, n_epoch=100):\n",
        "        for i in range(n_epoch):\n",
        "            self.train_single_entry(features, target_mhe)\n",
        "        \n",
        "    def save_model(file_name):\n",
        "        import pickle\n",
        "        pickle.dump(self, file_name)\n",
        "    \n",
        "    def load_model(file_name):\n",
        "        import pickle\n",
        "        pickle.load(file_name)"
      ],
      "execution_count": 5,
      "outputs": []
    },
    {
      "cell_type": "code",
      "metadata": {
        "id": "Brio5qEkTugk"
      },
      "source": [
        "my_MLP = MLP(input_size=4, output_size=4, sizes=[5, 6, 7], activations=['tanh', 'tanh', 'tanh'])"
      ],
      "execution_count": 6,
      "outputs": []
    },
    {
      "cell_type": "code",
      "metadata": {
        "id": "uzVel-TUT1iT"
      },
      "source": [
        "import numpy as np\n",
        "\n",
        "data_input = np.random.normal(size=4)\n",
        "\n",
        "data_label = -(data_input)"
      ],
      "execution_count": 7,
      "outputs": []
    },
    {
      "cell_type": "code",
      "metadata": {
        "id": "yD-s6-qpo6J7"
      },
      "source": [
        "my_MLP.train_model(data_input, data_label, n_epoch=400)"
      ],
      "execution_count": 8,
      "outputs": []
    },
    {
      "cell_type": "code",
      "metadata": {
        "id": "WHompQr279Ns"
      },
      "source": [
        "import matplotlib.pyplot as plt"
      ],
      "execution_count": 9,
      "outputs": []
    },
    {
      "cell_type": "code",
      "metadata": {
        "colab": {
          "base_uri": "https://localhost:8080/",
          "height": 265
        },
        "id": "-On8bOSq75ss",
        "outputId": "b81f315d-d487-46a1-c114-39d61be8513b"
      },
      "source": [
        "plt.plot(my_MLP.all_losses)\n",
        "plt.ylabel('loss')\n",
        "plt.show()"
      ],
      "execution_count": 11,
      "outputs": [
        {
          "output_type": "display_data",
          "data": {
            "image/png": "[encoded data removed]",
            "text/plain": [
              "<Figure size 432x288 with 1 Axes>"
            ]
          },
          "metadata": {
            "tags": [],
            "needs_background": "light"
          }
        }
      ]
    }
  ]
}