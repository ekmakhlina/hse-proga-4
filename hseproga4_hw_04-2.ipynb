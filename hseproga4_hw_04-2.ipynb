{
  "nbformat": 4,
  "nbformat_minor": 0,
  "metadata": {
    "colab": {
      "name": "hseproga4_hw_04.ipynb",
      "provenance": [],
      "collapsed_sections": [],
      "toc_visible": true
    },
    "kernelspec": {
      "name": "python3",
      "display_name": "Python 3"
    }
  },
  "cells": [
    {
      "cell_type": "markdown",
      "metadata": {
        "id": "XB_LxRzSbrBl"
      },
      "source": [
        "## Домашнее задание №4\n",
        "\n",
        "В качестве домашнего задания предлагаются следующие задачи:\n",
        "\n",
        "1) Реализовать метод аугментации текстовых данных на основе дистрибутивных векторных представлений, который можно применить в перечисленных ниже задачах (на выбор) и проанализировать итоговое качество с/без аугментации.\n",
        "\n",
        "2) Решить задачу регрессии с использованием текстовых признаков на англоязычном датасете [Medium Stories](https://www.kaggle.com/harrisonjansma/medium-stories).\n",
        "\n",
        "3) Решить задачу детекции парафразов.\n",
        "\n",
        "4) Использовать методы для нахождения оптимальных гиперпараметров модели.\n",
        "\n",
        "5) Использовать кросс-валидацию и/или методы семплирования данных.\n",
        "\n",
        "Это домашнее задание является \"конструктором\": вы можете выполнить интересующие вас блоки или получить больше 10 баллов.\n",
        "\n",
        "Если качество моделей не повысилось, но попытка реализована верно, вы все равно получаете баллы (например, при конструировании собственных текстовых признаков). \n",
        "\n",
        "Дедлайн: **18 октября 23:59**\n"
      ]
    },
    {
      "cell_type": "markdown",
      "metadata": {
        "id": "GJntJKWGe3Ux"
      },
      "source": [
        "### Блок 1: Аугментация с заменой слов на основе ```word2vec``` (2 балла)\n",
        "\n",
        "* Можно использовать библиотеку ```gensim``` и модели [rusvectores](https://rusvectores.org/ru/models/)\n",
        "\n"
      ]
    },
    {
      "cell_type": "code",
      "metadata": {
        "id": "Mih7oZG512LR",
        "outputId": "2a914542-6f14-4610-e642-cd1caea08f94",
        "colab": {
          "base_uri": "https://localhost:8080/"
        }
      },
      "source": [
        "!wget http://download.cdn.yandex.net/mystem/mystem-3.0-linux3.1-64bit.tar.gz\n",
        "!tar -xvf mystem-3.0-linux3.1-64bit.tar.gz\n",
        "!mkdir /root/.local/bin\n",
        "!cp mystem /root/.local/bin/mystem"
      ],
      "execution_count": 125,
      "outputs": [
        {
          "output_type": "stream",
          "text": [
            "--2020-11-08 19:03:00--  http://download.cdn.yandex.net/mystem/mystem-3.0-linux3.1-64bit.tar.gz\n",
            "Resolving download.cdn.yandex.net (download.cdn.yandex.net)... 5.45.205.243, 5.45.205.242, 5.45.205.245, ...\n",
            "Connecting to download.cdn.yandex.net (download.cdn.yandex.net)|5.45.205.243|:80... connected.\n",
            "HTTP request sent, awaiting response... 302 Found\n",
            "Location: http://cache-mskstoredata03.cdn.yandex.net/download.cdn.yandex.net/mystem/mystem-3.0-linux3.1-64bit.tar.gz [following]\n",
            "--2020-11-08 19:03:00--  http://cache-mskstoredata03.cdn.yandex.net/download.cdn.yandex.net/mystem/mystem-3.0-linux3.1-64bit.tar.gz\n",
            "Resolving cache-mskstoredata03.cdn.yandex.net (cache-mskstoredata03.cdn.yandex.net)... 37.9.96.14, 2a02:6b8:0:3706::12\n",
            "Connecting to cache-mskstoredata03.cdn.yandex.net (cache-mskstoredata03.cdn.yandex.net)|37.9.96.14|:80... connected.\n",
            "HTTP request sent, awaiting response... 200 OK\n",
            "Length: 16457938 (16M) [application/octet-stream]\n",
            "Saving to: ‘mystem-3.0-linux3.1-64bit.tar.gz’\n",
            "\n",
            "mystem-3.0-linux3.1 100%[===================>]  15.70M  8.44MB/s    in 1.9s    \n",
            "\n",
            "2020-11-08 19:03:03 (8.44 MB/s) - ‘mystem-3.0-linux3.1-64bit.tar.gz’ saved [16457938/16457938]\n",
            "\n",
            "mystem\n"
          ],
          "name": "stdout"
        }
      ]
    },
    {
      "cell_type": "code",
      "metadata": {
        "id": "mR7tuRTwf_cz",
        "outputId": "287a3bd7-dc2e-444f-ed44-43549f13da6e",
        "colab": {
          "base_uri": "https://localhost:8080/"
        }
      },
      "source": [
        "!wget -c http://vectors.nlpl.eu/repository/20/180.zip\n",
        "!unzip 180.zip"
      ],
      "execution_count": 126,
      "outputs": [
        {
          "output_type": "stream",
          "text": [
            "--2020-11-08 19:03:04--  http://vectors.nlpl.eu/repository/20/180.zip\n",
            "Resolving vectors.nlpl.eu (vectors.nlpl.eu)... 129.240.189.225\n",
            "Connecting to vectors.nlpl.eu (vectors.nlpl.eu)|129.240.189.225|:80... connected.\n",
            "HTTP request sent, awaiting response... 200 OK\n",
            "Length: 484452317 (462M) [application/zip]\n",
            "Saving to: ‘180.zip’\n",
            "\n",
            "180.zip             100%[===================>] 462.01M  21.9MB/s    in 27s     \n",
            "\n",
            "2020-11-08 19:03:31 (17.2 MB/s) - ‘180.zip’ saved [484452317/484452317]\n",
            "\n",
            "Archive:  180.zip\n",
            "  inflating: meta.json               \n",
            "  inflating: model.bin               \n",
            "  inflating: model.txt               \n",
            "  inflating: README                  \n"
          ],
          "name": "stdout"
        }
      ]
    },
    {
      "cell_type": "code",
      "metadata": {
        "id": "P64Ge3mLZ4zn"
      },
      "source": [
        "import gensim\n",
        "\n",
        "model = gensim.models.KeyedVectors.load_word2vec_format(\"model.bin\", binary=True)\n",
        "model.init_sims(replace=True)"
      ],
      "execution_count": 127,
      "outputs": []
    },
    {
      "cell_type": "code",
      "metadata": {
        "id": "94TjMspB1b7A",
        "outputId": "2a461f27-5c73-4019-d22a-03b87509bd60",
        "colab": {
          "base_uri": "https://localhost:8080/"
        }
      },
      "source": [
        "import nltk\n",
        "nltk.download('stopwords')\n",
        "from nltk.corpus import stopwords"
      ],
      "execution_count": 128,
      "outputs": [
        {
          "output_type": "stream",
          "text": [
            "[nltk_data] Downloading package stopwords to /root/nltk_data...\n",
            "[nltk_data]   Unzipping corpora/stopwords.zip.\n"
          ],
          "name": "stdout"
        }
      ]
    },
    {
      "cell_type": "code",
      "metadata": {
        "id": "xQT7NWn21iMa"
      },
      "source": [
        "!pip install natasha"
      ],
      "execution_count": null,
      "outputs": []
    },
    {
      "cell_type": "code",
      "metadata": {
        "id": "MqiGlXp_1eMF"
      },
      "source": [
        "from razdel import tokenize\n",
        "import string\n",
        "from pymystem3 import Mystem\n",
        "import numpy as np\n",
        "\n",
        "\n",
        "mystem = Mystem()\n",
        "stopwords_ru = stopwords.words(\"russian\")\n",
        "\n",
        "def is_sw(x, stopwords=stopwords_ru):\n",
        "  #if x in stopwords_ru:\n",
        "    #return False\n",
        "  if x in string.punctuation:\n",
        "    return False\n",
        "  else:\n",
        "    return True\n",
        "\n",
        "\n",
        "def get_tokens(text):\n",
        "    tokenized_text = tokenize(text)\n",
        "    return [t.text for t in tokenized_text if is_sw(t.text)]\n",
        "    \n",
        "\n",
        "def my_lemmatize(texts, mystem=mystem):\n",
        "    texts = [texts]\n",
        "    lol = lambda lst, sz: [lst[i:i+sz] for i in range(0, len(lst), sz)]\n",
        "    txtpart = lol(texts, 1000)\n",
        "    res = []\n",
        "    for txtp in txtpart:\n",
        "        alltexts = ' '.join([txt + ' brf ' for txt in txtp])\n",
        "        words = mystem.lemmatize(alltexts)\n",
        "        doc = []\n",
        "        for txt in words:\n",
        "            if txt != '\\n' and txt.strip() != '':\n",
        "                if txt == 'brf':\n",
        "                    res.append(doc)\n",
        "                    doc = []\n",
        "                else:\n",
        "                    doc.append(txt)\n",
        "    return res[0]\n",
        "\n",
        "\n",
        "from pymorphy2 import MorphAnalyzer\n",
        "morph = MorphAnalyzer()\n",
        "\n",
        "def pos_tags(text, morph=morph):\n",
        "    tokens = get_tokens(text)\n",
        "    analyses = [morph.parse(word) for word in tokens]\n",
        "    pos_tags = [a[0].tag.POS for a in analyses]\n",
        "    return pos_tags\n",
        "\n",
        "def lemmatize_and_pos_tag(text):\n",
        "    lemmas = my_lemmatize(text)\n",
        "    pos_tags_list = pos_tags(text)\n",
        "    lemmas_pos = []\n",
        "    for i in range(len(pos_tags_list)):\n",
        "        try:\n",
        "            if lemmas[i][0] not in string.punctuation:\n",
        "                lemmas_pos.append(lemmas[i] + '_' + pos_tags_list[i])\n",
        "        except:\n",
        "            continue\n",
        "    return lemmas_pos"
      ],
      "execution_count": 161,
      "outputs": []
    },
    {
      "cell_type": "markdown",
      "metadata": {
        "id": "kdUdpIiDhpFA"
      },
      "source": [
        "Напишите функцию, которая заменяет слова во входном предложении их ближайшими семантическими ассоциатами (1 балл)."
      ]
    },
    {
      "cell_type": "code",
      "metadata": {
        "id": "9PcdwIL0hHBv"
      },
      "source": [
        "def augment_word2vec(sentence, model=model):\n",
        "    lemmas = lemmatize_and_pos_tag(sentence)\n",
        "    similar_lemmas_list = [model.most_similar(l, topn=1)[0][0].split('_')[0] for l in lemmas]\n",
        "    return ' ' .join(similar_lemmas_list)"
      ],
      "execution_count": 131,
      "outputs": []
    },
    {
      "cell_type": "code",
      "metadata": {
        "id": "L4xscKdqkpPy",
        "outputId": "77539fba-6150-4d48-f0fb-b681f11dab3c",
        "colab": {
          "base_uri": "https://localhost:8080/",
          "height": 37
        }
      },
      "source": [
        "import warnings\n",
        "warnings.simplefilter(action='ignore', category=FutureWarning)\n",
        "\n",
        "sent = \"мама помыла окно\"\n",
        "\n",
        "# пример работы наивной функции\n",
        "augment_word2vec(sent)"
      ],
      "execution_count": 132,
      "outputs": [
        {
          "output_type": "execute_result",
          "data": {
            "application/vnd.google.colaboratory.intrinsic+json": {
              "type": "string"
            },
            "text/plain": [
              "'мама вымывать окошко'"
            ]
          },
          "metadata": {
            "tags": []
          },
          "execution_count": 132
        }
      ]
    },
    {
      "cell_type": "code",
      "metadata": {
        "id": "ErR5FsHNUv7b",
        "outputId": "2c218564-6690-494d-ffb0-1c7b9ea6de45",
        "colab": {
          "base_uri": "https://localhost:8080/"
        }
      },
      "source": [
        "a = morph.parse('маме')[0]\n",
        "b = morph.parse('папа')[0]\n",
        "tags = a.tag\n",
        "dir(tags)\n",
        "b.inflect(tags.grammemes) == None\n",
        "#tags.grammemes"
      ],
      "execution_count": 133,
      "outputs": [
        {
          "output_type": "execute_result",
          "data": {
            "text/plain": [
              "True"
            ]
          },
          "metadata": {
            "tags": []
          },
          "execution_count": 133
        }
      ]
    },
    {
      "cell_type": "code",
      "metadata": {
        "id": "w8P5tHIgQu0h",
        "outputId": "b9a052e2-a07c-417e-dcfe-bf2d7ed26f87",
        "colab": {
          "base_uri": "https://localhost:8080/"
        }
      },
      "source": [
        "word = 'мама_NOUN'\n",
        "my_sim = None\n",
        "for w in model.most_similar(word, topn=100):\n",
        "    if w[0].split('_')[1] == word.split('_')[1]:\n",
        "        my_sim = w\n",
        "        break\n",
        "my_sim"
      ],
      "execution_count": 134,
      "outputs": [
        {
          "output_type": "execute_result",
          "data": {
            "text/plain": [
              "('бабушка_NOUN', 0.7570064067840576)"
            ]
          },
          "metadata": {
            "tags": []
          },
          "execution_count": 134
        }
      ]
    },
    {
      "cell_type": "markdown",
      "metadata": {
        "id": "WWFKcZshiBDY"
      },
      "source": [
        "Измените функцию так, чтобы заменялись слова, относящиеся к \n",
        "заданному набору пос-тегов (например, ADJ, NOUN), и сохранялась грамматика (1 балл). "
      ]
    },
    {
      "cell_type": "code",
      "metadata": {
        "id": "AvukGlGgiWnI",
        "outputId": "6f050ab0-0482-4d1a-a45d-9e774fdb0270",
        "colab": {
          "base_uri": "https://localhost:8080/",
          "height": 37
        }
      },
      "source": [
        "def same_pos_w(word, model=model):\n",
        "    try:\n",
        "        for w in model.most_similar(word, topn=100):\n",
        "            if w[0].split('_')[1] == word.split('_')[1]:\n",
        "                return w[0]\n",
        "        return ' '\n",
        "    except:\n",
        "        return ' '\n",
        "\n",
        "\n",
        "def save_grammar(sentence):\n",
        "    tokens = get_tokens(sentence)\n",
        "    grammemes_list = [morph.parse(w)[0].tag.grammemes for w in tokens]\n",
        "    return grammemes_list, tokens\n",
        "    \n",
        "\n",
        "def augment_word2vec_pos(sentence, model=model):\n",
        "    \"\"\"если среди первых 100 совпадений не найдено слово с таким же pos или\n",
        "       такими же грамматическими характеристиками, я его не заменяю. \n",
        "       для агументации данных этого должно быть достаточно\"\"\"\n",
        "\n",
        "    lemmas = lemmatize_and_pos_tag(sentence)\n",
        "    #similar_lemmas_list = [same_pos_w(l).split('_')[0] for l in lemmas]\n",
        "    similar_lemmas_list = []\n",
        "    grammemes_list, tokens = save_grammar(sentence)\n",
        "    for i in range(len(lemmas)):\n",
        "        l = lemmas[i]\n",
        "        sim_pos_w = same_pos_w(l).split('_')[0]\n",
        "        sim_pos_gram_w = morph.parse(sim_pos_w)[0].inflect(grammemes_list[i])\n",
        "        if sim_pos_w==None or sim_pos_gram_w==None:\n",
        "            similar_lemmas_list.append(tokens[i])\n",
        "        else:\n",
        "            similar_lemmas_list.append(sim_pos_gram_w[0])\n",
        "    return ' '.join(similar_lemmas_list)\n",
        "\n",
        "\n",
        "sent = \"мамы помыла окна\"\n",
        "augment_word2vec_pos(sent)"
      ],
      "execution_count": 137,
      "outputs": [
        {
          "output_type": "execute_result",
          "data": {
            "application/vnd.google.colaboratory.intrinsic+json": {
              "type": "string"
            },
            "text/plain": [
              "'бабушки помыла окошка'"
            ]
          },
          "metadata": {
            "tags": []
          },
          "execution_count": 137
        }
      ]
    },
    {
      "cell_type": "markdown",
      "metadata": {
        "id": "73dUkvww8xzM"
      },
      "source": [
        "### Блок 2: Регрессия; Medium Stories (до 8 баллов)\n",
        "\n",
        "Датасет можно скачать [здесь](https://yadi.sk/d/90JykTO48fL6qw) или со страницы кегли. Можно взять подвыборку.\n",
        "\n",
        "\n",
        "\n",
        "Подзадачи:\n",
        "\n",
        "1.   Эксплоративный анализ данных (1 балл)\n",
        "2.   Отбор важных признаков, поиск гиперпараметров, минимизация переобучения (2 балла)\n",
        "3.   Адаптация аугментации данных с заменой слов (1 балл)\n",
        "4.   Конструирование текстовых признаков (2 балла)\n",
        "5.   Сравнение качества моделей, выбор наилучшей (1 балл)\n",
        "6.   Анализ ошибок (1 балл)  "
      ]
    },
    {
      "cell_type": "code",
      "metadata": {
        "id": "LaPmyEyH-09l",
        "outputId": "4047fd53-2cec-4ff6-aa2d-4cc0bd4ab8e8",
        "colab": {
          "base_uri": "https://localhost:8080/"
        }
      },
      "source": [
        "!pip3 install wldhx.yadisk-direct\n",
        "!curl -L $(yadisk-direct https://disk.yandex.ru/d/90JykTO48fL6qw) -o medium_stories.zip"
      ],
      "execution_count": 62,
      "outputs": [
        {
          "output_type": "stream",
          "text": [
            "Requirement already satisfied: wldhx.yadisk-direct in /usr/local/lib/python3.6/dist-packages (0.0.6)\n",
            "Requirement already satisfied: requests in /usr/local/lib/python3.6/dist-packages (from wldhx.yadisk-direct) (2.23.0)\n",
            "Requirement already satisfied: idna<3,>=2.5 in /usr/local/lib/python3.6/dist-packages (from requests->wldhx.yadisk-direct) (2.10)\n",
            "Requirement already satisfied: urllib3!=1.25.0,!=1.25.1,<1.26,>=1.21.1 in /usr/local/lib/python3.6/dist-packages (from requests->wldhx.yadisk-direct) (1.24.3)\n",
            "Requirement already satisfied: certifi>=2017.4.17 in /usr/local/lib/python3.6/dist-packages (from requests->wldhx.yadisk-direct) (2020.6.20)\n",
            "Requirement already satisfied: chardet<4,>=3.0.2 in /usr/local/lib/python3.6/dist-packages (from requests->wldhx.yadisk-direct) (3.0.4)\n",
            "  % Total    % Received % Xferd  Average Speed   Time    Time     Time  Current\n",
            "                                 Dload  Upload   Total   Spent    Left  Speed\n",
            "  0     0    0     0    0     0      0      0 --:--:--  0:00:01 --:--:--     0\n",
            "100  157M  100  157M    0     0  14.1M      0  0:00:11  0:00:11 --:--:-- 20.3M\n"
          ],
          "name": "stdout"
        }
      ]
    },
    {
      "cell_type": "code",
      "metadata": {
        "id": "jRPNWXzmCK1P",
        "outputId": "5374db4d-0823-4788-cfd3-421fee45d295",
        "colab": {
          "base_uri": "https://localhost:8080/"
        }
      },
      "source": [
        "#%cd gdrive/My\\ Drive/\n",
        "\n",
        "!unzip medium_stories.zip"
      ],
      "execution_count": 63,
      "outputs": [
        {
          "output_type": "stream",
          "text": [
            "Archive:  medium_stories.zip\n",
            "replace Medium_Clean.csv? [y]es, [n]o, [A]ll, [N]one, [r]ename: a\n",
            "error:  invalid response [a]\n",
            "replace Medium_Clean.csv? [y]es, [n]o, [A]ll, [N]one, [r]ename: A\n",
            "  inflating: Medium_Clean.csv        \n"
          ],
          "name": "stdout"
        }
      ]
    },
    {
      "cell_type": "code",
      "metadata": {
        "id": "S9lwAfsLAM_k"
      },
      "source": [
        "import pandas as pd\n",
        "\n",
        "# можно не использовать колонки с тегами\n",
        "usecols = [\"Title\", \"Subtitle\", \"Image\", \"Author\", \"Publication\", \"Year\", \"Month\", \"Day\", \"Reading_Time\", \"Claps\", \"url\", \"Author_url\"]\n",
        "\n",
        "medium = pd.read_csv(\"Medium_Clean.csv\", sep=\",\", usecols=usecols)\n",
        "medium[\"Claps\"] = medium[\"Claps\"].astype(int)\n",
        "medium.head()"
      ],
      "execution_count": null,
      "outputs": []
    },
    {
      "cell_type": "markdown",
      "metadata": {
        "id": "v4u1If6BxfuA"
      },
      "source": [
        "## 1. Эксплоративный анализ данных \n"
      ]
    },
    {
      "cell_type": "code",
      "metadata": {
        "id": "SwZ4jOuwek4j",
        "outputId": "59bee4cf-f124-47c1-de32-5f0cd6bd9647",
        "colab": {
          "base_uri": "https://localhost:8080/"
        }
      },
      "source": [
        "\"\"\"вот здесь https://github.com/harrisonjansma/Analyzing_Medium/blob/master/Medium_EDA_expanded.ipynb \n",
        "есть хороший анализ этих данных, так что большую часть я просто оттуда взяла\"\"\"\n",
        "\n",
        "print(\"Number of Articles: \", medium.shape[0])\n",
        "print(\"Number of Authors: \", medium.Author.value_counts().shape[0])\n",
        "print(\"Number of Publications: \", medium.Publication.value_counts().shape[0])\n",
        "print('\\n')\n",
        "print(\"Minimum # CLaps by an Article: \", int(medium.Claps.min()), )\n",
        "print(\"Maximum # Claps by an Article: \", int(medium.Claps.max()))\n",
        "print(\"Median # Claps by an Article: \", int(medium.Claps.median()))\n",
        "print(\"Mean # Claps by an Article: \", int(medium.Claps.mean()))"
      ],
      "execution_count": 284,
      "outputs": [
        {
          "output_type": "stream",
          "text": [
            "Number of Articles:  1391033\n",
            "Number of Authors:  351584\n",
            "Number of Publications:  43045\n",
            "\n",
            "\n",
            "Minimum # CLaps by an Article:  0\n",
            "Maximum # Claps by an Article:  291000\n",
            "Median # Claps by an Article:  1\n",
            "Mean # Claps by an Article:  109\n"
          ],
          "name": "stdout"
        }
      ]
    },
    {
      "cell_type": "code",
      "metadata": {
        "id": "70cqpKJsfqPd",
        "outputId": "29c0d85a-2a15-4bfd-ebe9-b5bfca91d93a",
        "colab": {
          "base_uri": "https://localhost:8080/",
          "height": 412
        }
      },
      "source": [
        "import matplotlib.pyplot as plt\n",
        "import seaborn as sns\n",
        "\n",
        "\n",
        "def plot_frequency(kde_data, clip=[0,10000],bw_adjust=0.1,yvariable = \"Article\", xvariable = \"claps\", title = \"Exceptional\",shorten=False, claplocs=[], kclaps=[]):\n",
        "    plt.figure(figsize=(12,6))\n",
        "    sns.kdeplot(kde_data, shade=True, bw=0.3, legend=False, clip=clip, color = \"mediumseagreen\" )\n",
        "    ninenine = kde_data.quantile(q=0.99)\n",
        "    plt.axvline(x=ninenine, color=\"mediumseagreen\")\n",
        "    plt.axvspan(ninenine, clip[1], alpha=0.1, color='lightgreen')\n",
        "    plt.text(ninenine+(clip[1]-ninenine)*0.075,\n",
        "                       plt.yticks()[0][-1]/2.5,\n",
        "                       \"Top 1% = \"+str(int(ninenine))+ \" \"+xvariable+\".\",\n",
        "                       fontsize=14)\n",
        "\n",
        "    plt.title(title, fontsize=15)\n",
        "    plt.ylabel(\"Frequency of \"+yvariable.title(), fontsize=13)\n",
        "    plt.yticks([])\n",
        "\n",
        "    plt.xlabel(xvariable.title(), fontsize=13)\n",
        "    if shorten:\n",
        "        plt.xticks(claplocs,kclaps, fontsize=12)\n",
        "    plt.xlim(1,clip[1])\n",
        "\n",
        "kclaps = [\"0\",\"2.5k\", \"5k\", \"7.5k\", \"10k\", \"12.5k\", \"15k\", \"17.5k\", \"20k\"]\n",
        "claplocs = [0,2500, 5000,7500, 10000,12500,15000,17500,20000]\n",
        "#KDE plot, shade below curve, clip arg includes values of 0 to 20000\n",
        "\n",
        "plot_frequency(medium.Claps,\n",
        "              clip=[0,10000],\n",
        "               yvariable=\"Articles\",\n",
        "               xvariable=\"claps\",\n",
        "              title=\"Top 1% of Medium Articles Receive Sixteen-Hundred Claps\",\n",
        "               shorten=True,\n",
        "              claplocs=claplocs,\n",
        "              kclaps=kclaps)\n",
        "\n",
        "\n",
        "plt.show()"
      ],
      "execution_count": 285,
      "outputs": [
        {
          "output_type": "display_data",
          "data": {
            "image/png": "[encoded data removed]",
            "text/plain": [
              "<Figure size 864x432 with 1 Axes>"
            ]
          },
          "metadata": {
            "tags": [],
            "needs_background": "light"
          }
        }
      ]
    },
    {
      "cell_type": "code",
      "metadata": {
        "id": "D97eJi1DjUmO",
        "outputId": "ddf83c74-4616-4c75-8fd9-4585f33ac06a",
        "colab": {
          "base_uri": "https://localhost:8080/",
          "height": 354
        }
      },
      "source": [
        "avs=[]\n",
        "medians=[]\n",
        "total_cs = []\n",
        "readts=[]\n",
        "entries = []\n",
        "for x in range(15):\n",
        "    medians.append(medium[medium.Reading_Time==x].Claps.quantile(q=0.5))\n",
        "    readts.append(x)\n",
        "    entries.append(medium[medium.Reading_Time==x].shape[0])\n",
        "    total_cs.append(medium[medium.Reading_Time==x].Claps.sum())\n",
        "\n",
        "plt.figure(figsize=(12,5))\n",
        "plt.bar(readts,entries, color=\"mediumseagreen\")\n",
        "plt.vlines(medium.Reading_Time.median(),0,350000,\n",
        "           color=\"black\",\n",
        "           linestyle=\"dashed\",\n",
        "           label=\"Median Read Time\")\n",
        "plt.title(\"Most Medium articles are 2-3 minutes in length.\", fontsize=14)\n",
        "#plt.yticks([0,100000,200000,300000], [\"0\",\"100k\", \"200k\", \"300k\"])\n",
        "plt.yticks([])\n",
        "plt.ylim(0,350000)\n",
        "plt.ylabel(\"Articles\")\n",
        "plt.xlabel(\"Read Time (min)\", fontsize=13)\n",
        "plt.legend()\n",
        "\n",
        "plt.show()"
      ],
      "execution_count": 286,
      "outputs": [
        {
          "output_type": "display_data",
          "data": {
            "image/png": "[encoded data removed]",
            "text/plain": [
              "<Figure size 864x360 with 1 Axes>"
            ]
          },
          "metadata": {
            "tags": [],
            "needs_background": "light"
          }
        }
      ]
    },
    {
      "cell_type": "code",
      "metadata": {
        "id": "FLrMjwkjzEUO"
      },
      "source": [
        "import pandas as pd\n",
        "import numpy as np\n",
        "import spacy\n",
        "from tqdm import tqdm\n",
        "import re\n",
        "import time\n",
        "import pickle"
      ],
      "execution_count": 287,
      "outputs": []
    },
    {
      "cell_type": "markdown",
      "metadata": {
        "id": "TKZKx1chxy-Z"
      },
      "source": [
        "# Конструирование текстовых признаков\n"
      ]
    },
    {
      "cell_type": "code",
      "metadata": {
        "id": "PeWI0gBq3OZL"
      },
      "source": [
        "medium = medium.sample(1000)"
      ],
      "execution_count": 288,
      "outputs": []
    },
    {
      "cell_type": "code",
      "metadata": {
        "id": "Z2g0I8bVzGgy"
      },
      "source": [
        "from sklearn.model_selection import train_test_split\n",
        "\n",
        "train, test = train_test_split(medium, test_size=0.2)"
      ],
      "execution_count": 289,
      "outputs": []
    },
    {
      "cell_type": "code",
      "metadata": {
        "id": "sk0S1STv3bk0"
      },
      "source": [
        "punctuation = ',!\"#$%&()*+-/:;<=>?@[\\\\]^_`{|}~'\n",
        "\n",
        "medium['Clean_subtitle'] = medium['Subtitle'].apply(lambda x: re.sub(r'http\\S+', '', x) if not pd.isnull(x) else '')\n",
        "medium['Clean_subtitle'] = medium['Subtitle'].apply(lambda x: re.sub(r'http\\S+', '', x) if not pd.isnull(x) else '')\n",
        "\n",
        "medium['Clean_subtitle'] = medium['Clean_subtitle'].apply(lambda x: ''.join(ch for ch in x if ch not in set(punctuation)))\n",
        "medium['Clean_subtitle'] = medium['Clean_subtitle'].apply(lambda x: ''.join(ch for ch in x if ch not in set(punctuation)))\n",
        "\n",
        "# convert text to lowercase\n",
        "medium['Clean_subtitle'] = medium['Clean_subtitle'].str.lower()\n",
        "medium['Clean_subtitle'] = medium['Clean_subtitle'].str.lower()\n",
        "\n",
        "# remove numbers\n",
        "medium['Clean_subtitle'] = medium['Clean_subtitle'].str.replace(\"[0-9]\", \" \")\n",
        "medium['Clean_subtitle'] = medium['Clean_subtitle'].str.replace(\"[0-9]\", \" \")\n",
        "\n",
        "# remove whitespaces\n",
        "medium['Clean_subtitle'] = medium['Clean_subtitle'].apply(lambda x:' '.join(x.split()))\n",
        "medium['Clean_subtitle'] = medium['Clean_subtitle'].apply(lambda x: ' '.join(x.split()))"
      ],
      "execution_count": 290,
      "outputs": []
    },
    {
      "cell_type": "code",
      "metadata": {
        "id": "QuHXL0rHYMiA"
      },
      "source": [
        "medium['Clean_title'] = medium['Title'].apply(lambda x: re.sub(r'http\\S+', '', x) if not pd.isnull(x) else '')\n",
        "medium['Clean_title'] = medium['Title'].apply(lambda x: re.sub(r'http\\S+', '', x) if not pd.isnull(x) else '')\n",
        "\n",
        "medium['Clean_title'] = medium['Clean_title'].apply(lambda x: ''.join(ch for ch in x if ch not in set(punctuation)))\n",
        "medium['Clean_title'] = medium['Clean_title'].apply(lambda x: ''.join(ch for ch in x if ch not in set(punctuation)))\n",
        "\n",
        "# convert text to lowercase\n",
        "medium['Clean_title'] = medium['Clean_title'].str.lower()\n",
        "medium['Clean_title'] = medium['Clean_title'].str.lower()\n",
        "\n",
        "# remove numbers\n",
        "medium['Clean_title'] = medium['Clean_title'].str.replace(\"[0-9]\", \" \")\n",
        "medium['Clean_title'] = medium['Clean_title'].str.replace(\"[0-9]\", \" \")\n",
        "\n",
        "# remove whitespaces\n",
        "medium['Clean_title'] = medium['Clean_title'].apply(lambda x:' '.join(x.split()))\n",
        "medium['Clean_title'] = medium['Clean_title'].apply(lambda x: ' '.join(x.split()))"
      ],
      "execution_count": 291,
      "outputs": []
    },
    {
      "cell_type": "code",
      "metadata": {
        "id": "8DRliJua-Q-E"
      },
      "source": [
        "nlp = spacy.load('en', disable=['parser', 'ner'])\n",
        "\n",
        "# function to lemmatize text\n",
        "def lemmatization(texts):\n",
        "    output = []\n",
        "    j = 0\n",
        "    l = len(texts)\n",
        "    for i in texts:\n",
        "        if j%1000 == 0:\n",
        "            print(j*100/l)\n",
        "        j += 1\n",
        "        s = [token.lemma_ for token in nlp(i)]\n",
        "        output.append(' '.join(s))\n",
        "    return output"
      ],
      "execution_count": 292,
      "outputs": []
    },
    {
      "cell_type": "code",
      "metadata": {
        "id": "6wogm_HyQ19Z"
      },
      "source": [
        "!pip install \"tensorflow>=1.7.0\"\n",
        "!pip install tensorflow-hub"
      ],
      "execution_count": null,
      "outputs": []
    },
    {
      "cell_type": "code",
      "metadata": {
        "id": "OTKdRiYMGo11"
      },
      "source": [
        "!pip install tensorflow==1.15\n",
        "!pip install \"tensorflow_hub>=0.6.0\"\n",
        "!pip3 install tensorflow_text==1.15\n",
        "\n",
        "import tensorflow as tf\n",
        "import tensorflow_hub as hub\n",
        "import numpy as np\n",
        "import tensorflow_text\n",
        "\n",
        "elmo = hub.Module(\"https://tfhub.dev/google/elmo/2\", trainable=True)"
      ],
      "execution_count": null,
      "outputs": []
    },
    {
      "cell_type": "code",
      "metadata": {
        "id": "2X9G8tUlGrCK"
      },
      "source": [
        "import tensorflow_hub as hub\n",
        "import tensorflow as tf\n",
        "\n",
        "\n",
        "def elmo_vectors(x):\n",
        "  embeddings = elmo(x.tolist(), signature=\"default\", as_dict=True)[\"elmo\"]\n",
        "\n",
        "  with tf.Session() as sess:\n",
        "    sess.run(tf.global_variables_initializer())\n",
        "    sess.run(tf.tables_initializer())\n",
        "    # return average of ELMo features\n",
        "    return sess.run(tf.reduce_mean(embeddings,1))"
      ],
      "execution_count": 171,
      "outputs": []
    },
    {
      "cell_type": "code",
      "metadata": {
        "id": "hJPsd1EodBIz"
      },
      "source": [
        "medium['Lemmas_title'] = lemmatization(medium['Clean_title'])"
      ],
      "execution_count": null,
      "outputs": []
    },
    {
      "cell_type": "code",
      "metadata": {
        "id": "BgLp_SpJdVDT"
      },
      "source": [
        "medium['Lemmas_subtitle'] = lemmatization(medium['Clean_subtitle'])"
      ],
      "execution_count": null,
      "outputs": []
    },
    {
      "cell_type": "code",
      "metadata": {
        "id": "D6dXkF9azOIf"
      },
      "source": [
        "list_medium = [medium[i:i+100] for i in range(0,medium.shape[0],100)]\n",
        "elmo_subt = [elmo_vectors(x['Clean_subtitle']) for x in list_medium]\n",
        "elmo_title = [elmo_vectors(x['Clean_title']) for x in list_medium]"
      ],
      "execution_count": null,
      "outputs": []
    },
    {
      "cell_type": "code",
      "metadata": {
        "id": "Z0i2pNsw0jI4"
      },
      "source": [
        "elmo_subt_new = np.concatenate(elmo_subt, axis = 0)\n",
        "elmo_title_new = np.concatenate(elmo_title, axis = 0)"
      ],
      "execution_count": 299,
      "outputs": []
    },
    {
      "cell_type": "code",
      "metadata": {
        "id": "vEQPVtqgUdqH"
      },
      "source": [
        "medium['elmo_subt'] = medium['Title']\n",
        "medium['elmo_title'] = medium['Title']\n",
        "\n",
        "medium['elmo_subt'] = list(elmo_subt_new)\n",
        "medium['elmo_title'] = list(elmo_title_new)"
      ],
      "execution_count": 300,
      "outputs": []
    },
    {
      "cell_type": "code",
      "metadata": {
        "id": "szYnqfbUjDZZ"
      },
      "source": [
        "medium.reset_index(inplace=True)"
      ],
      "execution_count": 302,
      "outputs": []
    },
    {
      "cell_type": "code",
      "metadata": {
        "id": "zjZocx5rbfgf"
      },
      "source": [
        "!wget https://s3.amazonaws.com/dl4j-distribution/GoogleNews-vectors-negative300.bin.gz\n",
        "!gunzip GoogleNews-vectors-negative300.bin\n",
        "# Try Word2Vec with Gensim\n",
        "import gensim\n",
        "# Load pretrained vectors from Google\n",
        "model = gensim.models.KeyedVectors.load_word2vec_format('GoogleNews-vectors-negative300.bin', binary=True, limit=500000)"
      ],
      "execution_count": null,
      "outputs": []
    },
    {
      "cell_type": "code",
      "metadata": {
        "id": "y-AacGPXfDtQ"
      },
      "source": [
        "medium['w2vec_title'] = np.zeros(len(medium['Title']))\n",
        "medium['w2vec_subtitle'] = np.zeros(len(medium['Title']))\n",
        "lemmas_vectors_title = np.zeros((len(medium['Lemmas_title']), model.vector_size))\n",
        "lemmas_vectors_subtitle = np.zeros((len(medium['Lemmas_title']), model.vector_size))\n",
        "vec_title = np.zeros((model.vector_size,))\n",
        "vec_subtitle = np.zeros((model.vector_size,))\n",
        "w2vec_title = []\n",
        "w2vec_subtitle = []\n",
        "\n",
        "for i, title in enumerate(medium['Lemmas_title']):\n",
        "    for idx, lemma in enumerate(title.split(' ')):\n",
        "        if lemma in model:\n",
        "            lemmas_vectors_title[idx] = model[lemma]\n",
        "    if lemmas_vectors_title.shape[0] is not 0:\n",
        "        vec_title = np.mean(lemmas_vectors_title, axis=0)\n",
        "        w2vec_title.append(vec_title)\n",
        "medium['w2vec_title'] = w2vec_title\n",
        "\n",
        "for i, subtitle in enumerate(medium['Lemmas_subtitle']):\n",
        "    for idx, lemma in enumerate(subtitle.split(' ')):\n",
        "        if lemma in model:\n",
        "            lemmas_vectors_subtitle[idx] = model[lemma]\n",
        "    if lemmas_vectors_subtitle.shape[0] is not 0:\n",
        "        vec_subtitle = np.mean(lemmas_vectors_subtitle, axis=0)\n",
        "        w2vec_subtitle.append(vec_title)\n",
        "medium['w2vec_subtitle'] = w2vec_subtitle\n",
        "\n",
        "\n",
        "medium.head()"
      ],
      "execution_count": null,
      "outputs": []
    },
    {
      "cell_type": "code",
      "metadata": {
        "id": "ZknwcAVSwe4s"
      },
      "source": [
        "#medium = DataFrame.from_csv('medium100.csv')"
      ],
      "execution_count": 306,
      "outputs": []
    },
    {
      "cell_type": "markdown",
      "metadata": {
        "id": "7H7HUzA0ygJi"
      },
      "source": [
        "# Адаптация аугментации данных с заменой слов "
      ]
    },
    {
      "cell_type": "code",
      "metadata": {
        "id": "kyRYjAz6qJkQ",
        "outputId": "e8575ba3-ce78-4af9-e2db-0ead0d52e421",
        "colab": {
          "base_uri": "https://localhost:8080/",
          "height": 37
        }
      },
      "source": [
        "def augment_word2vec_en(sentence, model=model):\n",
        "    lemmas = sentence.split(' ')\n",
        "    similar_lemmas_list = []\n",
        "    for l in lemmas:\n",
        "        try:\n",
        "            ms = model.most_similar(l, topn=1)[0][0]\n",
        "        except KeyError:\n",
        "            ms = l\n",
        "        similar_lemmas_list.append(ms)\n",
        "    return ' ' .join(similar_lemmas_list)\n",
        "\n",
        "augment_word2vec_en('Online animation tool provide game to designer', model=model)"
      ],
      "execution_count": 307,
      "outputs": [
        {
          "output_type": "execute_result",
          "data": {
            "application/vnd.google.colaboratory.intrinsic+json": {
              "type": "string"
            },
            "text/plain": [
              "'online 3D_animation tools providing games to Designer'"
            ]
          },
          "metadata": {
            "tags": []
          },
          "execution_count": 307
        }
      ]
    },
    {
      "cell_type": "code",
      "metadata": {
        "id": "eE6vbxDEwq3t"
      },
      "source": [
        "medium['title_aug'] = [augment_word2vec_en(title) for title in medium['Clean_title']]"
      ],
      "execution_count": 308,
      "outputs": []
    },
    {
      "cell_type": "code",
      "metadata": {
        "id": "4sMuU_3zxpaS"
      },
      "source": [
        "medium['subtitle_aug'] = [augment_word2vec_en(title) for title in medium['Clean_subtitle']]"
      ],
      "execution_count": 309,
      "outputs": []
    },
    {
      "cell_type": "code",
      "metadata": {
        "id": "N1_CZculzHd3",
        "outputId": "fed9a452-2b02-4f79-febf-3caaa3bfac93",
        "colab": {
          "base_uri": "https://localhost:8080/",
          "height": 496
        }
      },
      "source": [
        "medium['w2vec_title_aug'] = np.zeros(len(medium['Title']))\n",
        "medium['w2vec_subtitle_aug'] = np.zeros(len(medium['Title']))\n",
        "lemmas_vectors_title = np.zeros((len(medium['Lemmas_title']), model.vector_size))\n",
        "lemmas_vectors_subtitle = np.zeros((len(medium['Lemmas_title']), model.vector_size))\n",
        "vec_title = np.zeros((model.vector_size,))\n",
        "vec_subtitle = np.zeros((model.vector_size,))\n",
        "w2vec_title = []\n",
        "w2vec_subtitle = []\n",
        "\n",
        "for i, title in enumerate(medium['title_aug']):\n",
        "    for idx, lemma in enumerate(title.split(' ')):\n",
        "        if lemma in model:\n",
        "            lemmas_vectors_title[idx] = model[lemma]\n",
        "    if lemmas_vectors_title.shape[0] is not 0:\n",
        "        vec_title = np.mean(lemmas_vectors_title, axis=0)\n",
        "        w2vec_title.append(vec_title)\n",
        "medium['w2vec_title_aug'] = w2vec_title\n",
        "\n",
        "for i, subtitle in enumerate(medium['subtitle_aug']):\n",
        "    for idx, lemma in enumerate(subtitle.split(' ')):\n",
        "        if lemma in model:\n",
        "            lemmas_vectors_subtitle[idx] = model[lemma]\n",
        "    if lemmas_vectors_subtitle.shape[0] is not 0:\n",
        "        vec_subtitle = np.mean(lemmas_vectors_subtitle, axis=0)\n",
        "        w2vec_subtitle.append(vec_title)\n",
        "medium['w2vec_subtitle_aug'] = w2vec_subtitle\n",
        "\n",
        "\n",
        "medium.head()"
      ],
      "execution_count": 310,
      "outputs": [
        {
          "output_type": "execute_result",
          "data": {
            "text/html": [
              "<div>\n",
              "<style scoped>\n",
              "    .dataframe tbody tr th:only-of-type {\n",
              "        vertical-align: middle;\n",
              "    }\n",
              "\n",
              "    .dataframe tbody tr th {\n",
              "        vertical-align: top;\n",
              "    }\n",
              "\n",
              "    .dataframe thead th {\n",
              "        text-align: right;\n",
              "    }\n",
              "</style>\n",
              "<table border=\"1\" class=\"dataframe\">\n",
              "  <thead>\n",
              "    <tr style=\"text-align: right;\">\n",
              "      <th></th>\n",
              "      <th>index</th>\n",
              "      <th>Title</th>\n",
              "      <th>Subtitle</th>\n",
              "      <th>Image</th>\n",
              "      <th>Author</th>\n",
              "      <th>Publication</th>\n",
              "      <th>Year</th>\n",
              "      <th>Month</th>\n",
              "      <th>Day</th>\n",
              "      <th>Reading_Time</th>\n",
              "      <th>Claps</th>\n",
              "      <th>url</th>\n",
              "      <th>Author_url</th>\n",
              "      <th>Clean_subtitle</th>\n",
              "      <th>Clean_title</th>\n",
              "      <th>Lemmas_title</th>\n",
              "      <th>Lemmas_subtitle</th>\n",
              "      <th>elmo_subt</th>\n",
              "      <th>elmo_title</th>\n",
              "      <th>w2vec_title</th>\n",
              "      <th>w2vec_subtitle</th>\n",
              "      <th>title_aug</th>\n",
              "      <th>subtitle_aug</th>\n",
              "      <th>w2vec_title_aug</th>\n",
              "      <th>w2vec_subtitle_aug</th>\n",
              "    </tr>\n",
              "  </thead>\n",
              "  <tbody>\n",
              "    <tr>\n",
              "      <th>0</th>\n",
              "      <td>1313109</td>\n",
              "      <td>The Magic of Techstars</td>\n",
              "      <td>Maslos journey through the LA accelerator.</td>\n",
              "      <td>1</td>\n",
              "      <td>Ross Ingram</td>\n",
              "      <td>Your Virtual Self</td>\n",
              "      <td>2018</td>\n",
              "      <td>2</td>\n",
              "      <td>5</td>\n",
              "      <td>5</td>\n",
              "      <td>112</td>\n",
              "      <td>https://medium.com/maslo/the-magic-of-techstar...</td>\n",
              "      <td>https://medium.com/@rossingram</td>\n",
              "      <td>maslos journey through the la accelerator.</td>\n",
              "      <td>the magic of techstars</td>\n",
              "      <td>the magic of techstar</td>\n",
              "      <td>maslos journey through the la accelerator .</td>\n",
              "      <td>[-0.04853706, -0.023921939, 0.03507502, -0.009...</td>\n",
              "      <td>[-0.061915077, -0.02682703, 0.1259984, 0.04157...</td>\n",
              "      <td>[0.000595703125, 0.00026708984375, 2.34375e-05...</td>\n",
              "      <td>[0.00099859619140625, -0.001431396484375, 0.00...</td>\n",
              "      <td>this magical of techstars</td>\n",
              "      <td>maslos journeys thru this à_la accelerator.</td>\n",
              "      <td>[0.000455078125, 0.0001597900390625, -4.980468...</td>\n",
              "      <td>[0.001406585693359375, -0.00058648681640625, 0...</td>\n",
              "    </tr>\n",
              "    <tr>\n",
              "      <th>1</th>\n",
              "      <td>66684</td>\n",
              "      <td>LBTC Airdrop/Trading Competition(May 18, 2018 ...</td>\n",
              "      <td>1) Retweet and follow @SwftCoin.2) Join Telegr...</td>\n",
              "      <td>0</td>\n",
              "      <td>SWFT Blockchain</td>\n",
              "      <td>NaN</td>\n",
              "      <td>2018</td>\n",
              "      <td>5</td>\n",
              "      <td>18</td>\n",
              "      <td>1</td>\n",
              "      <td>1</td>\n",
              "      <td>https://medium.com/@SwftCoin/lbtc-airdrop-trad...</td>\n",
              "      <td>https://medium.com/@SwftCoin</td>\n",
              "      <td>retweet and follow swftcoin. join telegram t.m...</td>\n",
              "      <td>lbtc airdroptrading competitionmay may</td>\n",
              "      <td>lbtc airdroptrade competitionmay may</td>\n",
              "      <td>retweet and follow swftcoin . join telegram t....</td>\n",
              "      <td>[0.097530626, -0.026002742, 0.04355757, -0.004...</td>\n",
              "      <td>[0.019684669, 0.008933432, 0.15614727, -0.0294...</td>\n",
              "      <td>[0.000655517578125, 0.0002908935546875, 9.0820...</td>\n",
              "      <td>[0.00099859619140625, -0.001431396484375, 0.00...</td>\n",
              "      <td>lbtc airdroptrading competitionmay might</td>\n",
              "      <td>retweeting and Follow swftcoin. joining telegr...</td>\n",
              "      <td>[0.0006826171875, 0.0002799072265625, 1.855468...</td>\n",
              "      <td>[0.001406585693359375, -0.00058648681640625, 0...</td>\n",
              "    </tr>\n",
              "    <tr>\n",
              "      <th>2</th>\n",
              "      <td>1275432</td>\n",
              "      <td>Standards, progress and Sisyphus</td>\n",
              "      <td>The story of Sisyphus, the cunning yet deplora...</td>\n",
              "      <td>1</td>\n",
              "      <td>Robbie Heygate</td>\n",
              "      <td>Birdie</td>\n",
              "      <td>2018</td>\n",
              "      <td>6</td>\n",
              "      <td>3</td>\n",
              "      <td>5</td>\n",
              "      <td>13</td>\n",
              "      <td>https://medium.com/birdiecare/standards-progre...</td>\n",
              "      <td>https://medium.com/@r.heygate.dev</td>\n",
              "      <td>the story of sisyphus the cunning yet deplorab...</td>\n",
              "      <td>standards progress and sisyphus</td>\n",
              "      <td>standard progress and sisyphus</td>\n",
              "      <td>the story of sisyphus the cunning yet deplorab...</td>\n",
              "      <td>[-0.028576218, -0.10448623, 0.06018492, -0.047...</td>\n",
              "      <td>[-0.099755056, 0.01083775, 0.07674182, -0.0063...</td>\n",
              "      <td>[-0.000168212890625, 0.0002869873046875, 0.000...</td>\n",
              "      <td>[0.00099859619140625, -0.001431396484375, 0.00...</td>\n",
              "      <td>standard progess and sisyphus</td>\n",
              "      <td>this stories of sisyphus this devious not appa...</td>\n",
              "      <td>[0.00030615234375, 0.00055029296875, 0.0001577...</td>\n",
              "      <td>[0.001406585693359375, -0.00058648681640625, 0...</td>\n",
              "    </tr>\n",
              "    <tr>\n",
              "      <th>3</th>\n",
              "      <td>868932</td>\n",
              "      <td>Banyumala; The Hidden Paradise of Bali</td>\n",
              "      <td>Banyumala; The Hidden Paradise of Bali</td>\n",
              "      <td>1</td>\n",
              "      <td>New Bali</td>\n",
              "      <td>NaN</td>\n",
              "      <td>2018</td>\n",
              "      <td>3</td>\n",
              "      <td>16</td>\n",
              "      <td>3</td>\n",
              "      <td>0</td>\n",
              "      <td>https://medium.com/@newbalilistings/banyumala-...</td>\n",
              "      <td>https://medium.com/@newbalilistings</td>\n",
              "      <td>banyumala the hidden paradise of bali</td>\n",
              "      <td>banyumala the hidden paradise of bali</td>\n",
              "      <td>banyumala the hide paradise of bali</td>\n",
              "      <td>banyumala the hide paradise of bali</td>\n",
              "      <td>[-0.047672395, 0.004356642, 0.07308206, -0.054...</td>\n",
              "      <td>[-0.12769243, 0.20327926, 0.20509268, -0.18665...</td>\n",
              "      <td>[0.0002685546875, 0.0002606201171875, -9.76562...</td>\n",
              "      <td>[0.00099859619140625, -0.001431396484375, 0.00...</td>\n",
              "      <td>banyumala this concealed tropical_paradise of ...</td>\n",
              "      <td>banyumala this concealed tropical_paradise of ...</td>\n",
              "      <td>[0.0002392578125, 8.5418701171875e-05, 0.00022...</td>\n",
              "      <td>[0.001406585693359375, -0.00058648681640625, 0...</td>\n",
              "    </tr>\n",
              "    <tr>\n",
              "      <th>4</th>\n",
              "      <td>724138</td>\n",
              "      <td>Decisions, Decisions, Decisions.</td>\n",
              "      <td>Why do some find it so hard to make a decision?</td>\n",
              "      <td>1</td>\n",
              "      <td>Darlene Durling</td>\n",
              "      <td>NaN</td>\n",
              "      <td>2018</td>\n",
              "      <td>7</td>\n",
              "      <td>13</td>\n",
              "      <td>1</td>\n",
              "      <td>2</td>\n",
              "      <td>https://medium.com/@darlenedurling/decisions-d...</td>\n",
              "      <td>https://medium.com/@darlenedurling</td>\n",
              "      <td>why do some find it so hard to make a decision</td>\n",
              "      <td>decisions decisions decisions.</td>\n",
              "      <td>decision decision decision .</td>\n",
              "      <td>why do some find -PRON- so hard to make a deci...</td>\n",
              "      <td>[-0.024256662, -0.00030070764, -0.028854074, -...</td>\n",
              "      <td>[-0.11300109, 0.1128686, 0.105815835, -0.02933...</td>\n",
              "      <td>[-3.9794921875e-05, 0.0002825927734375, 1.3000...</td>\n",
              "      <td>[0.00099859619140625, -0.001431396484375, 0.00...</td>\n",
              "      <td>decision decision decisions.</td>\n",
              "      <td>created_Benzinga_Pro want many discover that t...</td>\n",
              "      <td>[0.0001376953125, 4.0008544921875e-05, 0.00011...</td>\n",
              "      <td>[0.001406585693359375, -0.00058648681640625, 0...</td>\n",
              "    </tr>\n",
              "  </tbody>\n",
              "</table>\n",
              "</div>"
            ],
            "text/plain": [
              "     index  ...                                 w2vec_subtitle_aug\n",
              "0  1313109  ...  [0.001406585693359375, -0.00058648681640625, 0...\n",
              "1    66684  ...  [0.001406585693359375, -0.00058648681640625, 0...\n",
              "2  1275432  ...  [0.001406585693359375, -0.00058648681640625, 0...\n",
              "3   868932  ...  [0.001406585693359375, -0.00058648681640625, 0...\n",
              "4   724138  ...  [0.001406585693359375, -0.00058648681640625, 0...\n",
              "\n",
              "[5 rows x 25 columns]"
            ]
          },
          "metadata": {
            "tags": []
          },
          "execution_count": 310
        }
      ]
    },
    {
      "cell_type": "code",
      "metadata": {
        "id": "8krwLoKVzmLe"
      },
      "source": [
        "list_medium = [medium[i:i+100] for i in range(0,medium.shape[0],100)]\n",
        "elmo_subt_aug = [elmo_vectors(x['subtitle_aug']) for x in list_medium]\n",
        "elmo_title_aug = [elmo_vectors(x['title_aug']) for x in list_medium]\n",
        "\n",
        "elmo_subt_new_aug = np.concatenate(elmo_subt_aug, axis = 0)\n",
        "elmo_title_new_aug = np.concatenate(elmo_title_aug, axis = 0)\n",
        "\n",
        "medium['elmo_subt_aug'] = list(elmo_subt_new_aug)\n",
        "medium['elmo_title_aug'] = list(elmo_title_new_aug)"
      ],
      "execution_count": null,
      "outputs": []
    },
    {
      "cell_type": "code",
      "metadata": {
        "id": "gfxd7Uj30ltY"
      },
      "source": [
        "medium['elmo_subt_aug'] = medium['elmo_subt_aug'].apply(list)\n",
        "medium['elmo_title_aug'] = medium['elmo_title_aug'].apply(list)\n",
        "medium['elmo_subt'] = medium['elmo_subt'].apply(list)\n",
        "medium['elmo_title'] = medium['elmo_title'].apply(list)\n",
        "medium['w2vec_title'] = medium['w2vec_title'].apply(list)\n",
        "medium['w2vec_subtitle'] = medium['w2vec_subtitle'].apply(list)\n",
        "medium['w2vec_title_aug'] = medium['w2vec_title_aug'].apply(list)\n",
        "medium['w2vec_subtitle_aug'] = medium['w2vec_subtitle_aug'].apply(list)"
      ],
      "execution_count": 312,
      "outputs": []
    },
    {
      "cell_type": "code",
      "metadata": {
        "id": "6z6-1btH05N_"
      },
      "source": [
        "#сохраняю получившийся датасет, чтобы не обрабатывать по новой каждый раз данные\n",
        "import csv\n",
        "medium.to_csv('medium1000_aug.tsv', sep='\\t')\n",
        "              #quoting=csv.QUOTE_ALL)"
      ],
      "execution_count": null,
      "outputs": []
    },
    {
      "cell_type": "code",
      "metadata": {
        "id": "fgSOo71fWoMo"
      },
      "source": [
        "import pandas as pd\n",
        "import numpy as np"
      ],
      "execution_count": 13,
      "outputs": []
    },
    {
      "cell_type": "code",
      "metadata": {
        "id": "ReZhdiG8W3AT",
        "outputId": "8e1691f8-88be-445f-e57a-230ded540505",
        "colab": {
          "base_uri": "https://localhost:8080/",
          "height": 267
        }
      },
      "source": [
        "medium = pd.read_csv('medium1000_aug.tsv', sep='\\t')\n",
        "medium.head(2)"
      ],
      "execution_count": 14,
      "outputs": [
        {
          "output_type": "execute_result",
          "data": {
            "text/html": [
              "<div>\n",
              "<style scoped>\n",
              "    .dataframe tbody tr th:only-of-type {\n",
              "        vertical-align: middle;\n",
              "    }\n",
              "\n",
              "    .dataframe tbody tr th {\n",
              "        vertical-align: top;\n",
              "    }\n",
              "\n",
              "    .dataframe thead th {\n",
              "        text-align: right;\n",
              "    }\n",
              "</style>\n",
              "<table border=\"1\" class=\"dataframe\">\n",
              "  <thead>\n",
              "    <tr style=\"text-align: right;\">\n",
              "      <th></th>\n",
              "      <th>Unnamed: 0</th>\n",
              "      <th>index</th>\n",
              "      <th>Title</th>\n",
              "      <th>Subtitle</th>\n",
              "      <th>Image</th>\n",
              "      <th>Author</th>\n",
              "      <th>Publication</th>\n",
              "      <th>Year</th>\n",
              "      <th>Month</th>\n",
              "      <th>Day</th>\n",
              "      <th>Reading_Time</th>\n",
              "      <th>Claps</th>\n",
              "      <th>url</th>\n",
              "      <th>Author_url</th>\n",
              "      <th>Clean_subtitle</th>\n",
              "      <th>Clean_title</th>\n",
              "      <th>Lemmas_title</th>\n",
              "      <th>Lemmas_subtitle</th>\n",
              "      <th>elmo_subt</th>\n",
              "      <th>elmo_title</th>\n",
              "      <th>w2vec_title</th>\n",
              "      <th>w2vec_subtitle</th>\n",
              "      <th>title_aug</th>\n",
              "      <th>subtitle_aug</th>\n",
              "      <th>w2vec_title_aug</th>\n",
              "      <th>w2vec_subtitle_aug</th>\n",
              "      <th>elmo_subt_aug</th>\n",
              "      <th>elmo_title_aug</th>\n",
              "    </tr>\n",
              "  </thead>\n",
              "  <tbody>\n",
              "    <tr>\n",
              "      <th>0</th>\n",
              "      <td>0</td>\n",
              "      <td>1313109</td>\n",
              "      <td>The Magic of Techstars</td>\n",
              "      <td>Maslos journey through the LA accelerator.</td>\n",
              "      <td>1</td>\n",
              "      <td>Ross Ingram</td>\n",
              "      <td>Your Virtual Self</td>\n",
              "      <td>2018</td>\n",
              "      <td>2</td>\n",
              "      <td>5</td>\n",
              "      <td>5</td>\n",
              "      <td>112</td>\n",
              "      <td>https://medium.com/maslo/the-magic-of-techstar...</td>\n",
              "      <td>https://medium.com/@rossingram</td>\n",
              "      <td>maslos journey through the la accelerator.</td>\n",
              "      <td>the magic of techstars</td>\n",
              "      <td>the magic of techstar</td>\n",
              "      <td>maslos journey through the la accelerator .</td>\n",
              "      <td>[-0.04853706, -0.023921939, 0.03507502, -0.009...</td>\n",
              "      <td>[-0.061915077, -0.02682703, 0.1259984, 0.04157...</td>\n",
              "      <td>[0.000595703125, 0.00026708984375, 2.34375e-05...</td>\n",
              "      <td>[0.00099859619140625, -0.001431396484375, 0.00...</td>\n",
              "      <td>this magical of techstars</td>\n",
              "      <td>maslos journeys thru this à_la accelerator.</td>\n",
              "      <td>[0.000455078125, 0.0001597900390625, -4.980468...</td>\n",
              "      <td>[0.001406585693359375, -0.00058648681640625, 0...</td>\n",
              "      <td>[-0.052981656, -0.013130262, 0.05838853, -0.02...</td>\n",
              "      <td>[-0.037630267, -0.065115124, 0.16386811, 0.055...</td>\n",
              "    </tr>\n",
              "    <tr>\n",
              "      <th>1</th>\n",
              "      <td>1</td>\n",
              "      <td>66684</td>\n",
              "      <td>LBTC Airdrop/Trading Competition(May 18, 2018 ...</td>\n",
              "      <td>1) Retweet and follow @SwftCoin.2) Join Telegr...</td>\n",
              "      <td>0</td>\n",
              "      <td>SWFT Blockchain</td>\n",
              "      <td>NaN</td>\n",
              "      <td>2018</td>\n",
              "      <td>5</td>\n",
              "      <td>18</td>\n",
              "      <td>1</td>\n",
              "      <td>1</td>\n",
              "      <td>https://medium.com/@SwftCoin/lbtc-airdrop-trad...</td>\n",
              "      <td>https://medium.com/@SwftCoin</td>\n",
              "      <td>retweet and follow swftcoin. join telegram t.m...</td>\n",
              "      <td>lbtc airdroptrading competitionmay may</td>\n",
              "      <td>lbtc airdroptrade competitionmay may</td>\n",
              "      <td>retweet and follow swftcoin . join telegram t....</td>\n",
              "      <td>[0.097530626, -0.026002742, 0.04355757, -0.004...</td>\n",
              "      <td>[0.019684669, 0.008933432, 0.15614727, -0.0294...</td>\n",
              "      <td>[0.000655517578125, 0.0002908935546875, 9.0820...</td>\n",
              "      <td>[0.00099859619140625, -0.001431396484375, 0.00...</td>\n",
              "      <td>lbtc airdroptrading competitionmay might</td>\n",
              "      <td>retweeting and Follow swftcoin. joining telegr...</td>\n",
              "      <td>[0.0006826171875, 0.0002799072265625, 1.855468...</td>\n",
              "      <td>[0.001406585693359375, -0.00058648681640625, 0...</td>\n",
              "      <td>[0.029712413, 0.018943787, 0.07163218, -0.0082...</td>\n",
              "      <td>[0.017589757, -0.0126325255, 0.1587871, -0.011...</td>\n",
              "    </tr>\n",
              "  </tbody>\n",
              "</table>\n",
              "</div>"
            ],
            "text/plain": [
              "   Unnamed: 0  ...                                     elmo_title_aug\n",
              "0           0  ...  [-0.037630267, -0.065115124, 0.16386811, 0.055...\n",
              "1           1  ...  [0.017589757, -0.0126325255, 0.1587871, -0.011...\n",
              "\n",
              "[2 rows x 28 columns]"
            ]
          },
          "metadata": {
            "tags": []
          },
          "execution_count": 14
        }
      ]
    },
    {
      "cell_type": "markdown",
      "metadata": {
        "id": "UEkMkhGWy6ho"
      },
      "source": [
        "# Сравнение качества моделей, выбор наилучшей\n",
        "# Анализ ошибок \n",
        "# Отбор важных признаков, поиск гиперпараметров, минимизация переобучения "
      ]
    },
    {
      "cell_type": "code",
      "metadata": {
        "id": "2V0RvQ9h2izx",
        "outputId": "ce4832fe-0236-4fa6-d405-7c5b47be2abb",
        "colab": {
          "base_uri": "https://localhost:8080/"
        }
      },
      "source": [
        "#предобработка датасетов – нормализация численных данных \n",
        "#превращение категориальных аднных в one-hot вектора\n",
        "\n",
        "from sklearn.preprocessing import scale\n",
        "\n",
        "elmo_medium_data = medium[['Author', 'Image', 'Year', 'Month', 'Day', \n",
        "                     'Reading_Time', 'Claps', 'elmo_subt', 'elmo_title',\n",
        "                      'elmo_subt_aug', 'elmo_title_aug']]\n",
        "\n",
        "#elmo_medium_data['Reading_Time'] = scale(elmo_medium_data['Reading_Time'])\n",
        "elmo_medium_data['Reading_Time'] = [i/elmo_medium_data['Reading_Time'].max() for i in elmo_medium_data['Reading_Time']]\n",
        "\n",
        "one_hot = pd.get_dummies(elmo_medium_data['Year'], prefix='year')\n",
        "elmo_medium_data = elmo_medium_data.drop('Year',axis = 1)\n",
        "elmo_medium_data = elmo_medium_data.join(one_hot)\n",
        "\n",
        "one_hot = pd.get_dummies(elmo_medium_data['Month'], prefix='month')\n",
        "elmo_medium_data = elmo_medium_data.drop('Month',axis = 1)\n",
        "elmo_medium_data = elmo_medium_data.join(one_hot)\n",
        "\n",
        "one_hot = pd.get_dummies(elmo_medium_data['Day'], prefix='day')\n",
        "elmo_medium_data = elmo_medium_data.drop('Day',axis = 1)\n",
        "elmo_medium_data = elmo_medium_data.join(one_hot)\n",
        "\n",
        "one_hot = pd.get_dummies(elmo_medium_data['Image'], prefix='image')\n",
        "elmo_medium_data = elmo_medium_data.drop('Image',axis = 1)\n",
        "elmo_medium_data = elmo_medium_data.join(one_hot)\n",
        "\n",
        "one_hot = pd.get_dummies(elmo_medium_data['Author'], prefix='author')\n",
        "elmo_medium_data = elmo_medium_data.drop('Author',axis = 1)\n",
        "elmo_medium_data = elmo_medium_data.join(one_hot)\n",
        "\n",
        "w2vec_medium_data = medium[['Author', 'Image', 'Year', 'Month', 'Day', \n",
        "                     'Reading_Time', 'Claps', \n",
        "                     'w2vec_title',\t'w2vec_subtitle', 'w2vec_title_aug', \n",
        "                     'w2vec_subtitle_aug']]\n",
        "\n",
        "w2vec_medium_data['Reading_Time'] = [i/w2vec_medium_data['Reading_Time'].max() for i in w2vec_medium_data['Reading_Time']]\n",
        "\n",
        "one_hot = pd.get_dummies(w2vec_medium_data['Year'], prefix='year')\n",
        "w2vec_medium_data = w2vec_medium_data.drop('Year',axis = 1)\n",
        "w2vec_medium_data = w2vec_medium_data.join(one_hot)\n",
        "\n",
        "one_hot = pd.get_dummies(w2vec_medium_data['Month'], prefix='month')\n",
        "w2vec_medium_data = w2vec_medium_data.drop('Month',axis = 1)\n",
        "w2vec_medium_data = w2vec_medium_data.join(one_hot)\n",
        "\n",
        "one_hot = pd.get_dummies(w2vec_medium_data['Day'], prefix='day')\n",
        "w2vec_medium_data = w2vec_medium_data.drop('Day',axis = 1)\n",
        "w2vec_medium_data = w2vec_medium_data.join(one_hot)\n",
        "\n",
        "one_hot = pd.get_dummies(w2vec_medium_data['Image'], prefix='image')\n",
        "w2vec_medium_data = w2vec_medium_data.drop('Image',axis = 1)\n",
        "w2vec_medium_data = w2vec_medium_data.join(one_hot)\n",
        "\n",
        "one_hot = pd.get_dummies(w2vec_medium_data['Author'], prefix='author')\n",
        "w2vec_medium_data = w2vec_medium_data.drop('Author',axis = 1)\n",
        "w2vec_medium_data = w2vec_medium_data.join(one_hot)\n",
        "\n",
        "\n",
        "#w2vec_medium_data"
      ],
      "execution_count": 16,
      "outputs": [
        {
          "output_type": "stream",
          "text": [
            "/usr/local/lib/python3.6/dist-packages/ipykernel_launcher.py:8: SettingWithCopyWarning: \n",
            "A value is trying to be set on a copy of a slice from a DataFrame.\n",
            "Try using .loc[row_indexer,col_indexer] = value instead\n",
            "\n",
            "See the caveats in the documentation: https://pandas.pydata.org/pandas-docs/stable/user_guide/indexing.html#returning-a-view-versus-a-copy\n",
            "  \n",
            "/usr/local/lib/python3.6/dist-packages/ipykernel_launcher.py:35: SettingWithCopyWarning: \n",
            "A value is trying to be set on a copy of a slice from a DataFrame.\n",
            "Try using .loc[row_indexer,col_indexer] = value instead\n",
            "\n",
            "See the caveats in the documentation: https://pandas.pydata.org/pandas-docs/stable/user_guide/indexing.html#returning-a-view-versus-a-copy\n"
          ],
          "name": "stderr"
        }
      ]
    },
    {
      "cell_type": "code",
      "metadata": {
        "id": "tWFZAjWWi45F",
        "outputId": "b4eeb094-b1df-4022-d3a8-3fe005f7fd3a",
        "colab": {
          "base_uri": "https://localhost:8080/"
        }
      },
      "source": [
        "len(medium)"
      ],
      "execution_count": 17,
      "outputs": [
        {
          "output_type": "execute_result",
          "data": {
            "text/plain": [
              "1000"
            ]
          },
          "metadata": {
            "tags": []
          },
          "execution_count": 17
        }
      ]
    },
    {
      "cell_type": "code",
      "metadata": {
        "id": "HKna34IG_VRH"
      },
      "source": [
        "#после загрузки датасета из csv превращаем вектора из строк обратно в объекты\n",
        "from ast import literal_eval\n",
        "\n",
        "\n",
        "w2vec_medium_data['w2vec_subtitle'] = w2vec_medium_data['w2vec_subtitle'].apply(literal_eval)\n",
        "w2vec_medium_data['w2vec_title'] = w2vec_medium_data['w2vec_title'].apply(literal_eval)\n",
        "w2vec_medium_data['w2vec_subtitle_aug'] = w2vec_medium_data['w2vec_subtitle_aug'].apply(literal_eval)\n",
        "w2vec_medium_data['w2vec_title_aug'] = w2vec_medium_data['w2vec_title_aug'].apply(literal_eval)\n",
        "\n",
        "elmo_medium_data['elmo_subt'] = elmo_medium_data['elmo_subt'].apply(literal_eval)\n",
        "elmo_medium_data['elmo_title'] = elmo_medium_data['elmo_title'].apply(literal_eval)\n",
        "elmo_medium_data['elmo_subt_aug'] = elmo_medium_data['elmo_subt_aug'].apply(literal_eval)\n",
        "elmo_medium_data['elmo_title_aug'] = elmo_medium_data['elmo_title_aug'].apply(literal_eval)\n",
        "\n",
        "type(w2vec_medium_data['w2vec_subtitle'][0])"
      ],
      "execution_count": null,
      "outputs": []
    },
    {
      "cell_type": "code",
      "metadata": {
        "id": "DDdycAcCFeIa"
      },
      "source": [
        "from sklearn.model_selection import train_test_split\n",
        "\n",
        "elmo_train, elmo_test = train_test_split(elmo_medium_data, test_size=0.2)\n",
        "w2vec_train, w2vec_test = train_test_split(w2vec_medium_data, test_size=0.2)"
      ],
      "execution_count": 19,
      "outputs": []
    },
    {
      "cell_type": "code",
      "metadata": {
        "id": "T6ha1Ax2FzTK"
      },
      "source": [
        "#конкатинируем аугментированные данные с train, удаляем их из test\n",
        "elmo_test = elmo_test.drop(['elmo_subt_aug', 'elmo_title_aug'], axis=1)\n",
        "w2vec_test = w2vec_test.drop(['w2vec_subtitle_aug', 'w2vec_title_aug'], axis=1)\n",
        "\n",
        "elmo_train_aug = elmo_train.drop(['elmo_subt', 'elmo_title'], axis=1)\n",
        "w2vec_train_aug = w2vec_train.drop(['w2vec_subtitle', 'w2vec_title'], axis=1)\n",
        "\n",
        "elmo_train = elmo_train.drop(['elmo_subt_aug', 'elmo_title_aug'], axis=1)\n",
        "w2vec_train = w2vec_train.drop(['w2vec_subtitle_aug', 'w2vec_title_aug'], axis=1)\n",
        "\n",
        "elmo_train_aug = elmo_train_aug.rename(columns={'elmo_subt_aug': 'elmo_subt', 'elmo_title_aug': 'elmo_title'})\n",
        "w2vec_train_aug = w2vec_train_aug.rename(columns={'w2vec_subtitle_aug': 'w2vec_subtitle', 'w2vec_title_aug': 'w2vec_title'})\n",
        "\n",
        "elmo_train = pd.concat([elmo_train, elmo_train_aug], ignore_index=True)\n",
        "w2vec_train = pd.concat([w2vec_train, w2vec_train_aug], ignore_index=True)"
      ],
      "execution_count": 21,
      "outputs": []
    },
    {
      "cell_type": "code",
      "metadata": {
        "id": "Uzorb5k5QeDm"
      },
      "source": [
        "columns_names_elmo_subt = [str(i) + '_elmo_subt' for i in range(1024)]\n",
        "columns_names_elmo_title = [str(i) + '_elmo_title' for i in range(1024)]\n",
        "\n",
        "columns_names_w2v_subt = [str(i) + '_w2v_subt' for i in range(300)]\n",
        "columns_names_w2v_title = [str(i) + '_w2v_title' for i in range(300)]"
      ],
      "execution_count": 22,
      "outputs": []
    },
    {
      "cell_type": "code",
      "metadata": {
        "id": "OsL8_dWlEsXZ"
      },
      "source": [
        "#вектора превращаем в колонки датафрейма\n",
        "\n",
        "elmo_train[columns_names_elmo_subt] = pd.DataFrame(elmo_train['elmo_subt'].values.tolist(), index=elmo_train.index)\n",
        "elmo_train[columns_names_elmo_title] = pd.DataFrame(elmo_train['elmo_title'].values.tolist(), index=elmo_train.index)\n",
        "elmo_train = elmo_train.drop(['elmo_subt', 'elmo_title'], axis=1)\n",
        "\n",
        "elmo_test[columns_names_elmo_subt] = pd.DataFrame(elmo_test['elmo_subt'].values.tolist(), index=elmo_test.index)\n",
        "elmo_test[columns_names_elmo_title] = pd.DataFrame(elmo_test['elmo_title'].values.tolist(), index=elmo_test.index)\n",
        "elmo_test = elmo_test.drop(['elmo_subt', 'elmo_title'], axis=1)\n",
        "\n",
        "w2vec_train[columns_names_w2v_subt] = pd.DataFrame(w2vec_train['w2vec_subtitle'].values.tolist(), index=w2vec_train.index)\n",
        "w2vec_train[columns_names_w2v_title] = pd.DataFrame(w2vec_train['w2vec_title'].values.tolist(), index=w2vec_train.index)\n",
        "w2vec_train = w2vec_train.drop(['w2vec_title', 'w2vec_subtitle'], axis=1)\n",
        "\n",
        "w2vec_test[columns_names_w2v_subt] = pd.DataFrame(w2vec_test['w2vec_subtitle'].values.tolist(), index=w2vec_test.index)\n",
        "w2vec_test[columns_names_w2v_title] = pd.DataFrame(w2vec_test['w2vec_title'].values.tolist(), index=w2vec_test.index)\n",
        "w2vec_test = w2vec_test.drop(['w2vec_title', 'w2vec_subtitle'], axis=1)"
      ],
      "execution_count": 23,
      "outputs": []
    },
    {
      "cell_type": "code",
      "metadata": {
        "id": "JWiCmmKh2D9_",
        "outputId": "3e27c5a4-7d28-4715-df54-336a784b0797",
        "colab": {
          "base_uri": "https://localhost:8080/",
          "height": 160
        }
      },
      "source": [
        "w2vec_test.head(2)"
      ],
      "execution_count": 24,
      "outputs": [
        {
          "output_type": "execute_result",
          "data": {
            "text/html": [
              "<div>\n",
              "<style scoped>\n",
              "    .dataframe tbody tr th:only-of-type {\n",
              "        vertical-align: middle;\n",
              "    }\n",
              "\n",
              "    .dataframe tbody tr th {\n",
              "        vertical-align: top;\n",
              "    }\n",
              "\n",
              "    .dataframe thead th {\n",
              "        text-align: right;\n",
              "    }\n",
              "</style>\n",
              "<table border=\"1\" class=\"dataframe\">\n",
              "  <thead>\n",
              "    <tr style=\"text-align: right;\">\n",
              "      <th></th>\n",
              "      <th>Reading_Time</th>\n",
              "      <th>Claps</th>\n",
              "      <th>year_2017</th>\n",
              "      <th>year_2018</th>\n",
              "      <th>month_1</th>\n",
              "      <th>month_2</th>\n",
              "      <th>month_3</th>\n",
              "      <th>month_4</th>\n",
              "      <th>month_5</th>\n",
              "      <th>month_6</th>\n",
              "      <th>month_7</th>\n",
              "      <th>month_8</th>\n",
              "      <th>month_9</th>\n",
              "      <th>month_10</th>\n",
              "      <th>month_11</th>\n",
              "      <th>month_12</th>\n",
              "      <th>day_1</th>\n",
              "      <th>day_2</th>\n",
              "      <th>day_3</th>\n",
              "      <th>day_4</th>\n",
              "      <th>day_5</th>\n",
              "      <th>day_6</th>\n",
              "      <th>day_7</th>\n",
              "      <th>day_8</th>\n",
              "      <th>day_9</th>\n",
              "      <th>day_10</th>\n",
              "      <th>day_11</th>\n",
              "      <th>day_12</th>\n",
              "      <th>day_13</th>\n",
              "      <th>day_14</th>\n",
              "      <th>day_15</th>\n",
              "      <th>day_16</th>\n",
              "      <th>day_17</th>\n",
              "      <th>day_18</th>\n",
              "      <th>day_19</th>\n",
              "      <th>day_20</th>\n",
              "      <th>day_21</th>\n",
              "      <th>day_22</th>\n",
              "      <th>day_23</th>\n",
              "      <th>day_24</th>\n",
              "      <th>...</th>\n",
              "      <th>260_w2v_title</th>\n",
              "      <th>261_w2v_title</th>\n",
              "      <th>262_w2v_title</th>\n",
              "      <th>263_w2v_title</th>\n",
              "      <th>264_w2v_title</th>\n",
              "      <th>265_w2v_title</th>\n",
              "      <th>266_w2v_title</th>\n",
              "      <th>267_w2v_title</th>\n",
              "      <th>268_w2v_title</th>\n",
              "      <th>269_w2v_title</th>\n",
              "      <th>270_w2v_title</th>\n",
              "      <th>271_w2v_title</th>\n",
              "      <th>272_w2v_title</th>\n",
              "      <th>273_w2v_title</th>\n",
              "      <th>274_w2v_title</th>\n",
              "      <th>275_w2v_title</th>\n",
              "      <th>276_w2v_title</th>\n",
              "      <th>277_w2v_title</th>\n",
              "      <th>278_w2v_title</th>\n",
              "      <th>279_w2v_title</th>\n",
              "      <th>280_w2v_title</th>\n",
              "      <th>281_w2v_title</th>\n",
              "      <th>282_w2v_title</th>\n",
              "      <th>283_w2v_title</th>\n",
              "      <th>284_w2v_title</th>\n",
              "      <th>285_w2v_title</th>\n",
              "      <th>286_w2v_title</th>\n",
              "      <th>287_w2v_title</th>\n",
              "      <th>288_w2v_title</th>\n",
              "      <th>289_w2v_title</th>\n",
              "      <th>290_w2v_title</th>\n",
              "      <th>291_w2v_title</th>\n",
              "      <th>292_w2v_title</th>\n",
              "      <th>293_w2v_title</th>\n",
              "      <th>294_w2v_title</th>\n",
              "      <th>295_w2v_title</th>\n",
              "      <th>296_w2v_title</th>\n",
              "      <th>297_w2v_title</th>\n",
              "      <th>298_w2v_title</th>\n",
              "      <th>299_w2v_title</th>\n",
              "    </tr>\n",
              "  </thead>\n",
              "  <tbody>\n",
              "    <tr>\n",
              "      <th>526</th>\n",
              "      <td>0.031746</td>\n",
              "      <td>0</td>\n",
              "      <td>0</td>\n",
              "      <td>1</td>\n",
              "      <td>1</td>\n",
              "      <td>0</td>\n",
              "      <td>0</td>\n",
              "      <td>0</td>\n",
              "      <td>0</td>\n",
              "      <td>0</td>\n",
              "      <td>0</td>\n",
              "      <td>0</td>\n",
              "      <td>0</td>\n",
              "      <td>0</td>\n",
              "      <td>0</td>\n",
              "      <td>0</td>\n",
              "      <td>0</td>\n",
              "      <td>0</td>\n",
              "      <td>0</td>\n",
              "      <td>0</td>\n",
              "      <td>0</td>\n",
              "      <td>0</td>\n",
              "      <td>0</td>\n",
              "      <td>0</td>\n",
              "      <td>0</td>\n",
              "      <td>0</td>\n",
              "      <td>0</td>\n",
              "      <td>0</td>\n",
              "      <td>0</td>\n",
              "      <td>0</td>\n",
              "      <td>0</td>\n",
              "      <td>0</td>\n",
              "      <td>0</td>\n",
              "      <td>0</td>\n",
              "      <td>0</td>\n",
              "      <td>0</td>\n",
              "      <td>0</td>\n",
              "      <td>0</td>\n",
              "      <td>0</td>\n",
              "      <td>0</td>\n",
              "      <td>...</td>\n",
              "      <td>0.001487</td>\n",
              "      <td>-0.001333</td>\n",
              "      <td>-0.001636</td>\n",
              "      <td>0.002804</td>\n",
              "      <td>0.000774</td>\n",
              "      <td>0.003257</td>\n",
              "      <td>-0.000876</td>\n",
              "      <td>0.000521</td>\n",
              "      <td>-0.001602</td>\n",
              "      <td>-0.000379</td>\n",
              "      <td>0.002205</td>\n",
              "      <td>0.001634</td>\n",
              "      <td>0.003863</td>\n",
              "      <td>0.001991</td>\n",
              "      <td>0.000469</td>\n",
              "      <td>-0.000951</td>\n",
              "      <td>-0.000865</td>\n",
              "      <td>-0.003469</td>\n",
              "      <td>-0.000652</td>\n",
              "      <td>0.000046</td>\n",
              "      <td>0.000342</td>\n",
              "      <td>0.000387</td>\n",
              "      <td>0.002335</td>\n",
              "      <td>0.003400</td>\n",
              "      <td>0.000696</td>\n",
              "      <td>0.000032</td>\n",
              "      <td>-0.003341</td>\n",
              "      <td>-0.000986</td>\n",
              "      <td>0.002391</td>\n",
              "      <td>0.003442</td>\n",
              "      <td>-0.001839</td>\n",
              "      <td>0.001043</td>\n",
              "      <td>-0.002284</td>\n",
              "      <td>0.002092</td>\n",
              "      <td>-0.000200</td>\n",
              "      <td>-0.000473</td>\n",
              "      <td>-0.001915</td>\n",
              "      <td>-0.001442</td>\n",
              "      <td>-0.000247</td>\n",
              "      <td>-0.002358</td>\n",
              "    </tr>\n",
              "    <tr>\n",
              "      <th>472</th>\n",
              "      <td>0.047619</td>\n",
              "      <td>0</td>\n",
              "      <td>1</td>\n",
              "      <td>0</td>\n",
              "      <td>0</td>\n",
              "      <td>0</td>\n",
              "      <td>0</td>\n",
              "      <td>0</td>\n",
              "      <td>0</td>\n",
              "      <td>0</td>\n",
              "      <td>0</td>\n",
              "      <td>0</td>\n",
              "      <td>0</td>\n",
              "      <td>0</td>\n",
              "      <td>0</td>\n",
              "      <td>1</td>\n",
              "      <td>0</td>\n",
              "      <td>0</td>\n",
              "      <td>0</td>\n",
              "      <td>0</td>\n",
              "      <td>0</td>\n",
              "      <td>0</td>\n",
              "      <td>0</td>\n",
              "      <td>0</td>\n",
              "      <td>0</td>\n",
              "      <td>0</td>\n",
              "      <td>0</td>\n",
              "      <td>0</td>\n",
              "      <td>0</td>\n",
              "      <td>0</td>\n",
              "      <td>0</td>\n",
              "      <td>0</td>\n",
              "      <td>0</td>\n",
              "      <td>0</td>\n",
              "      <td>1</td>\n",
              "      <td>0</td>\n",
              "      <td>0</td>\n",
              "      <td>0</td>\n",
              "      <td>0</td>\n",
              "      <td>0</td>\n",
              "      <td>...</td>\n",
              "      <td>-0.000074</td>\n",
              "      <td>0.000662</td>\n",
              "      <td>-0.002111</td>\n",
              "      <td>0.000294</td>\n",
              "      <td>0.000860</td>\n",
              "      <td>0.003006</td>\n",
              "      <td>-0.000578</td>\n",
              "      <td>-0.000376</td>\n",
              "      <td>-0.002670</td>\n",
              "      <td>-0.000120</td>\n",
              "      <td>0.000756</td>\n",
              "      <td>0.000413</td>\n",
              "      <td>0.002848</td>\n",
              "      <td>0.000810</td>\n",
              "      <td>0.000463</td>\n",
              "      <td>-0.002171</td>\n",
              "      <td>-0.002761</td>\n",
              "      <td>-0.003659</td>\n",
              "      <td>-0.002307</td>\n",
              "      <td>0.001150</td>\n",
              "      <td>0.000136</td>\n",
              "      <td>0.001982</td>\n",
              "      <td>-0.000078</td>\n",
              "      <td>0.001337</td>\n",
              "      <td>0.001417</td>\n",
              "      <td>0.001072</td>\n",
              "      <td>-0.001685</td>\n",
              "      <td>-0.000321</td>\n",
              "      <td>0.002124</td>\n",
              "      <td>0.002050</td>\n",
              "      <td>-0.001216</td>\n",
              "      <td>0.000806</td>\n",
              "      <td>-0.002740</td>\n",
              "      <td>0.000863</td>\n",
              "      <td>0.000105</td>\n",
              "      <td>-0.001920</td>\n",
              "      <td>0.000072</td>\n",
              "      <td>-0.002926</td>\n",
              "      <td>-0.000802</td>\n",
              "      <td>-0.000825</td>\n",
              "    </tr>\n",
              "  </tbody>\n",
              "</table>\n",
              "<p>2 rows × 1630 columns</p>\n",
              "</div>"
            ],
            "text/plain": [
              "     Reading_Time  Claps  ...  298_w2v_title  299_w2v_title\n",
              "526      0.031746      0  ...      -0.000247      -0.002358\n",
              "472      0.047619      0  ...      -0.000802      -0.000825\n",
              "\n",
              "[2 rows x 1630 columns]"
            ]
          },
          "metadata": {
            "tags": []
          },
          "execution_count": 24
        }
      ]
    },
    {
      "cell_type": "code",
      "metadata": {
        "id": "ZMrkRM4ay4hW",
        "outputId": "daec88fb-bac5-4c47-c30f-f50c3c70f827",
        "colab": {
          "base_uri": "https://localhost:8080/"
        }
      },
      "source": [
        "#обучаем линейную регрессию для w2vec\n",
        "from sklearn.linear_model import LinearRegression\n",
        "\n",
        "X = w2vec_train.drop('Claps', axis=1)\n",
        "y = w2vec_train[['Claps']]\n",
        "reg = LinearRegression().fit(X, y)\n",
        "reg.coef_\n",
        "\n",
        "reg.score(X, y)"
      ],
      "execution_count": 71,
      "outputs": [
        {
          "output_type": "execute_result",
          "data": {
            "text/plain": [
              "1.0"
            ]
          },
          "metadata": {
            "tags": []
          },
          "execution_count": 71
        }
      ]
    },
    {
      "cell_type": "code",
      "metadata": {
        "id": "8L3P0yunUtQD",
        "outputId": "29bb1c8f-fa2d-4e15-ebc8-e0246fc28666",
        "colab": {
          "base_uri": "https://localhost:8080/",
          "height": 282
        }
      },
      "source": [
        "import matplotlib.pyplot as plt\n",
        "\n",
        "plt.scatter([i for i in range(len(reg.coef_[0]))], reg.coef_)"
      ],
      "execution_count": 37,
      "outputs": [
        {
          "output_type": "execute_result",
          "data": {
            "text/plain": [
              "<matplotlib.collections.PathCollection at 0x7f2a791f0128>"
            ]
          },
          "metadata": {
            "tags": []
          },
          "execution_count": 37
        },
        {
          "output_type": "display_data",
          "data": {
            "image/png": "[encoded data removed]",
            "text/plain": [
              "<Figure size 432x288 with 1 Axes>"
            ]
          },
          "metadata": {
            "tags": [],
            "needs_background": "light"
          }
        }
      ]
    },
    {
      "cell_type": "code",
      "metadata": {
        "id": "oYInaqJo7gih"
      },
      "source": [
        "X_w2vec_test = w2vec_test.drop('Claps', axis=1)\n",
        "y_w2vec_test = w2vec_test[['Claps']]\n",
        "\n",
        "y_pred_w2vec = reg.predict(X_w2vec_test)\n",
        "\n",
        "print(mean_squared_error(y_w2vec_test, y_pred_w2vec))\n",
        "print(math.sqrt(mean_squared_error(y_w2vec_test, y_w2vec_elmo)))"
      ],
      "execution_count": null,
      "outputs": []
    },
    {
      "cell_type": "code",
      "metadata": {
        "id": "FA_6Pe63XWQU",
        "outputId": "0cd611e3-691b-495e-a728-9daecee324be",
        "colab": {
          "base_uri": "https://localhost:8080/",
          "height": 282
        }
      },
      "source": [
        "X = elmo_train.drop('Claps', axis=1)\n",
        "y = elmo_train[['Claps']]\n",
        "reg = LinearRegression().fit(X, y)\n",
        "plt.scatter([i for i in range(len(reg.coef_[0]))], reg.coef_)"
      ],
      "execution_count": 74,
      "outputs": [
        {
          "output_type": "execute_result",
          "data": {
            "text/plain": [
              "<matplotlib.collections.PathCollection at 0x7f2a78c06320>"
            ]
          },
          "metadata": {
            "tags": []
          },
          "execution_count": 74
        },
        {
          "output_type": "display_data",
          "data": {
            "image/png": "[encoded data removed]",
            "text/plain": [
              "<Figure size 432x288 with 1 Axes>"
            ]
          },
          "metadata": {
            "tags": [],
            "needs_background": "light"
          }
        }
      ]
    },
    {
      "cell_type": "code",
      "metadata": {
        "id": "OewGJ98qXkmf",
        "outputId": "c61a970d-0900-4b2f-b122-259fad401934",
        "colab": {
          "base_uri": "https://localhost:8080/"
        }
      },
      "source": [
        "X = elmo_test.drop('Claps', axis=1)\n",
        "y = elmo_test[['Claps']]\n",
        "\n",
        "reg.score(X, y)"
      ],
      "execution_count": 75,
      "outputs": [
        {
          "output_type": "execute_result",
          "data": {
            "text/plain": [
              "-3.6222646289668976"
            ]
          },
          "metadata": {
            "tags": []
          },
          "execution_count": 75
        }
      ]
    },
    {
      "cell_type": "code",
      "metadata": {
        "id": "bh9Q-RLF8h6J",
        "outputId": "5b4aa898-01e8-4f86-fa59-dbcf7d50fe59",
        "colab": {
          "base_uri": "https://localhost:8080/"
        }
      },
      "source": [
        "X_elmo_test = elmo_test.drop('Claps', axis=1)\n",
        "y_elmo_test = elmo_test[['Claps']]\n",
        "\n",
        "y_pred_elmo = reg.predict(X_elmo_test)\n",
        "\n",
        "print(mean_squared_error(y_elmo_test, y_pred_elmo))\n",
        "print(math.sqrt(mean_squared_error(y_elmo_test, y_pred_elmo)))"
      ],
      "execution_count": 76,
      "outputs": [
        {
          "output_type": "stream",
          "text": [
            "625001.4669081405\n",
            "790.5703427957188\n"
          ],
          "name": "stdout"
        }
      ]
    },
    {
      "cell_type": "markdown",
      "metadata": {
        "id": "RFJUws-gv89E"
      },
      "source": [
        "Судя по графикам, модель оферфитится на авторов (у нас в начале датафрейма авторы). Надо добавить регуляризацию, которая будет штрафовать за большие коэфициенты или убрать авторов совсем. На нашем семпле скорее всего продуктивнее всего будет просто убрать авторов, но на всей большой выборке лучше штрафовать за большие коэфициенты, что мы и сделаем. Заодно будем подбирать гиперпараметры с посощью grid search\n",
        "\n",
        "\n"
      ]
    },
    {
      "cell_type": "code",
      "metadata": {
        "id": "8BO-izX_vEe2",
        "outputId": "f4717067-bdb8-4dc4-fc00-1e97d9daedb9",
        "colab": {
          "base_uri": "https://localhost:8080/"
        }
      },
      "source": [
        "m = max(reg.coef_[0])\n",
        "[i for i, j in enumerate(reg.coef_[0]) if j == m]"
      ],
      "execution_count": 45,
      "outputs": [
        {
          "output_type": "execute_result",
          "data": {
            "text/plain": [
              "[215]"
            ]
          },
          "metadata": {
            "tags": []
          },
          "execution_count": 45
        }
      ]
    },
    {
      "cell_type": "code",
      "metadata": {
        "id": "oguVeCR9xQZK",
        "outputId": "8987f839-03f9-47c1-ab2f-99444a09f943",
        "colab": {
          "base_uri": "https://localhost:8080/",
          "height": 37
        }
      },
      "source": [
        "w2vec_test.columns[215]"
      ],
      "execution_count": 46,
      "outputs": [
        {
          "output_type": "execute_result",
          "data": {
            "application/vnd.google.colaboratory.intrinsic+json": {
              "type": "string"
            },
            "text/plain": [
              "'author_Chris Darkes'"
            ]
          },
          "metadata": {
            "tags": []
          },
          "execution_count": 46
        }
      ]
    },
    {
      "cell_type": "code",
      "metadata": {
        "id": "AAFiOkGr1oBo"
      },
      "source": [
        "X_elmo_train = elmo_train.drop('Claps', axis=1)\n",
        "y_elmo_train = elmo_train[['Claps']]\n",
        "X_elmo_test = elmo_test.drop('Claps', axis=1)\n",
        "y_elmo_test = elmo_test[['Claps']]\n",
        "\n",
        "X_w2vec_train = w2vec_train.drop('Claps', axis=1)\n",
        "y_w2vec_train = w2vec_train[['Claps']]\n",
        "X_w2vec_test = w2vec_test.drop('Claps', axis=1)\n",
        "y_w2vec_test = w2vec_test[['Claps']]"
      ],
      "execution_count": 49,
      "outputs": []
    },
    {
      "cell_type": "code",
      "metadata": {
        "id": "RLB1rxbI19xp",
        "outputId": "abaed706-33a7-4a97-ed34-1df3bd03eed2",
        "colab": {
          "base_uri": "https://localhost:8080/"
        }
      },
      "source": [
        "from sklearn.model_selection import GridSearchCV\n",
        "from sklearn.linear_model import Ridge\n",
        "\n",
        "parameters = {'alpha':[5, 10, 15, 20, 1000, 1500, 2000]}\n",
        "\n",
        "model = Ridge()\n",
        "Ridge_reg_elmo = GridSearchCV(model, parameters, scoring='neg_mean_squared_error',cv=10, refit=False)\n",
        "Ridge_reg_w2vec = GridSearchCV(model, parameters, scoring='neg_mean_squared_error',cv=10, refit=False)\n",
        "\n",
        "Ridge_reg_elmo.fit(X_elmo_train,y_elmo_train)\n",
        "Ridge_reg_w2vec.fit(X_w2vec_train,y_w2vec_train)\n",
        "\n",
        "\n",
        "#best_model_elmo = Ridge_reg_elmo.best_estimator_\n",
        "#best_model_w2vec = Ridge_reg_w2vec.best_estimator_\n",
        "\n",
        "#best_model_elmo.fit(X_elmo_train,y_elmo_train)\n",
        "#best_model_w2vec.fit(X_w2vec_train,y_w2vec_train)"
      ],
      "execution_count": 113,
      "outputs": [
        {
          "output_type": "execute_result",
          "data": {
            "text/plain": [
              "GridSearchCV(cv=10, error_score=nan,\n",
              "             estimator=Ridge(alpha=1.0, copy_X=True, fit_intercept=True,\n",
              "                             max_iter=None, normalize=False, random_state=None,\n",
              "                             solver='auto', tol=0.001),\n",
              "             iid='deprecated', n_jobs=None,\n",
              "             param_grid={'alpha': [5, 10, 15, 20, 1000, 1500, 2000]},\n",
              "             pre_dispatch='2*n_jobs', refit=False, return_train_score=False,\n",
              "             scoring='neg_mean_squared_error', verbose=0)"
            ]
          },
          "metadata": {
            "tags": []
          },
          "execution_count": 113
        }
      ]
    },
    {
      "cell_type": "code",
      "metadata": {
        "id": "rbQcpz5lAw0i",
        "outputId": "044938e0-8687-4787-fcba-4ee1c65d9e9d",
        "colab": {
          "base_uri": "https://localhost:8080/",
          "height": 405
        }
      },
      "source": [
        "pd.DataFrame(Ridge_reg_elmo.cv_results_)"
      ],
      "execution_count": 114,
      "outputs": [
        {
          "output_type": "execute_result",
          "data": {
            "text/html": [
              "<div>\n",
              "<style scoped>\n",
              "    .dataframe tbody tr th:only-of-type {\n",
              "        vertical-align: middle;\n",
              "    }\n",
              "\n",
              "    .dataframe tbody tr th {\n",
              "        vertical-align: top;\n",
              "    }\n",
              "\n",
              "    .dataframe thead th {\n",
              "        text-align: right;\n",
              "    }\n",
              "</style>\n",
              "<table border=\"1\" class=\"dataframe\">\n",
              "  <thead>\n",
              "    <tr style=\"text-align: right;\">\n",
              "      <th></th>\n",
              "      <th>mean_fit_time</th>\n",
              "      <th>std_fit_time</th>\n",
              "      <th>mean_score_time</th>\n",
              "      <th>std_score_time</th>\n",
              "      <th>param_alpha</th>\n",
              "      <th>params</th>\n",
              "      <th>split0_test_score</th>\n",
              "      <th>split1_test_score</th>\n",
              "      <th>split2_test_score</th>\n",
              "      <th>split3_test_score</th>\n",
              "      <th>split4_test_score</th>\n",
              "      <th>split5_test_score</th>\n",
              "      <th>split6_test_score</th>\n",
              "      <th>split7_test_score</th>\n",
              "      <th>split8_test_score</th>\n",
              "      <th>split9_test_score</th>\n",
              "      <th>mean_test_score</th>\n",
              "      <th>std_test_score</th>\n",
              "      <th>rank_test_score</th>\n",
              "    </tr>\n",
              "  </thead>\n",
              "  <tbody>\n",
              "    <tr>\n",
              "      <th>0</th>\n",
              "      <td>0.391000</td>\n",
              "      <td>0.009103</td>\n",
              "      <td>0.009168</td>\n",
              "      <td>0.000214</td>\n",
              "      <td>5</td>\n",
              "      <td>{'alpha': 5}</td>\n",
              "      <td>-127231.531294</td>\n",
              "      <td>-1.789269e+06</td>\n",
              "      <td>-285225.199622</td>\n",
              "      <td>-261177.514907</td>\n",
              "      <td>-383584.752338</td>\n",
              "      <td>-154787.739499</td>\n",
              "      <td>-1.940698e+06</td>\n",
              "      <td>-223788.149020</td>\n",
              "      <td>-275449.166500</td>\n",
              "      <td>-406800.842288</td>\n",
              "      <td>-584801.229384</td>\n",
              "      <td>6.462322e+05</td>\n",
              "      <td>1</td>\n",
              "    </tr>\n",
              "    <tr>\n",
              "      <th>1</th>\n",
              "      <td>0.390701</td>\n",
              "      <td>0.011128</td>\n",
              "      <td>0.010095</td>\n",
              "      <td>0.001579</td>\n",
              "      <td>10</td>\n",
              "      <td>{'alpha': 10}</td>\n",
              "      <td>-101699.993841</td>\n",
              "      <td>-2.310844e+06</td>\n",
              "      <td>-241054.739367</td>\n",
              "      <td>-252410.256310</td>\n",
              "      <td>-439167.128193</td>\n",
              "      <td>-122714.259417</td>\n",
              "      <td>-2.416025e+06</td>\n",
              "      <td>-196667.259151</td>\n",
              "      <td>-271509.226620</td>\n",
              "      <td>-462000.290983</td>\n",
              "      <td>-681409.214057</td>\n",
              "      <td>8.485234e+05</td>\n",
              "      <td>2</td>\n",
              "    </tr>\n",
              "    <tr>\n",
              "      <th>2</th>\n",
              "      <td>0.397296</td>\n",
              "      <td>0.012375</td>\n",
              "      <td>0.009386</td>\n",
              "      <td>0.000565</td>\n",
              "      <td>15</td>\n",
              "      <td>{'alpha': 15}</td>\n",
              "      <td>-86192.182043</td>\n",
              "      <td>-2.594402e+06</td>\n",
              "      <td>-209134.888689</td>\n",
              "      <td>-244286.339875</td>\n",
              "      <td>-470834.385786</td>\n",
              "      <td>-103930.523473</td>\n",
              "      <td>-2.677141e+06</td>\n",
              "      <td>-174508.929874</td>\n",
              "      <td>-264009.391468</td>\n",
              "      <td>-493125.903438</td>\n",
              "      <td>-731756.494330</td>\n",
              "      <td>9.607280e+05</td>\n",
              "      <td>3</td>\n",
              "    </tr>\n",
              "    <tr>\n",
              "      <th>3</th>\n",
              "      <td>0.389345</td>\n",
              "      <td>0.006523</td>\n",
              "      <td>0.009380</td>\n",
              "      <td>0.000319</td>\n",
              "      <td>20</td>\n",
              "      <td>{'alpha': 20}</td>\n",
              "      <td>-75601.510970</td>\n",
              "      <td>-2.778244e+06</td>\n",
              "      <td>-185256.400095</td>\n",
              "      <td>-238071.548381</td>\n",
              "      <td>-492024.510603</td>\n",
              "      <td>-91671.844574</td>\n",
              "      <td>-2.847492e+06</td>\n",
              "      <td>-157283.359064</td>\n",
              "      <td>-257226.368398</td>\n",
              "      <td>-513917.490185</td>\n",
              "      <td>-763678.965741</td>\n",
              "      <td>1.034264e+06</td>\n",
              "      <td>4</td>\n",
              "    </tr>\n",
              "    <tr>\n",
              "      <th>4</th>\n",
              "      <td>0.392712</td>\n",
              "      <td>0.009859</td>\n",
              "      <td>0.010292</td>\n",
              "      <td>0.001987</td>\n",
              "      <td>1000</td>\n",
              "      <td>{'alpha': 1000}</td>\n",
              "      <td>-16958.581303</td>\n",
              "      <td>-3.863587e+06</td>\n",
              "      <td>-24841.814531</td>\n",
              "      <td>-194464.112295</td>\n",
              "      <td>-652462.128271</td>\n",
              "      <td>-20898.509632</td>\n",
              "      <td>-3.868591e+06</td>\n",
              "      <td>-26973.633491</td>\n",
              "      <td>-195286.310608</td>\n",
              "      <td>-656947.610470</td>\n",
              "      <td>-952101.117808</td>\n",
              "      <td>1.475251e+06</td>\n",
              "      <td>5</td>\n",
              "    </tr>\n",
              "    <tr>\n",
              "      <th>5</th>\n",
              "      <td>0.392746</td>\n",
              "      <td>0.007355</td>\n",
              "      <td>0.010012</td>\n",
              "      <td>0.002212</td>\n",
              "      <td>1500</td>\n",
              "      <td>{'alpha': 1500}</td>\n",
              "      <td>-16772.180430</td>\n",
              "      <td>-3.887229e+06</td>\n",
              "      <td>-22785.629742</td>\n",
              "      <td>-194301.579725</td>\n",
              "      <td>-658784.928491</td>\n",
              "      <td>-19544.140721</td>\n",
              "      <td>-3.890968e+06</td>\n",
              "      <td>-24284.514151</td>\n",
              "      <td>-194801.909309</td>\n",
              "      <td>-661961.739868</td>\n",
              "      <td>-957143.346981</td>\n",
              "      <td>1.484541e+06</td>\n",
              "      <td>6</td>\n",
              "    </tr>\n",
              "    <tr>\n",
              "      <th>6</th>\n",
              "      <td>0.383690</td>\n",
              "      <td>0.010364</td>\n",
              "      <td>0.009183</td>\n",
              "      <td>0.000269</td>\n",
              "      <td>2000</td>\n",
              "      <td>{'alpha': 2000}</td>\n",
              "      <td>-16726.527147</td>\n",
              "      <td>-3.900226e+06</td>\n",
              "      <td>-21666.326459</td>\n",
              "      <td>-194307.680550</td>\n",
              "      <td>-662466.356079</td>\n",
              "      <td>-18844.622122</td>\n",
              "      <td>-3.903235e+06</td>\n",
              "      <td>-22792.417601</td>\n",
              "      <td>-194649.531408</td>\n",
              "      <td>-664920.547948</td>\n",
              "      <td>-959983.486584</td>\n",
              "      <td>1.489616e+06</td>\n",
              "      <td>7</td>\n",
              "    </tr>\n",
              "  </tbody>\n",
              "</table>\n",
              "</div>"
            ],
            "text/plain": [
              "   mean_fit_time  std_fit_time  ...  std_test_score  rank_test_score\n",
              "0       0.391000      0.009103  ...    6.462322e+05                1\n",
              "1       0.390701      0.011128  ...    8.485234e+05                2\n",
              "2       0.397296      0.012375  ...    9.607280e+05                3\n",
              "3       0.389345      0.006523  ...    1.034264e+06                4\n",
              "4       0.392712      0.009859  ...    1.475251e+06                5\n",
              "5       0.392746      0.007355  ...    1.484541e+06                6\n",
              "6       0.383690      0.010364  ...    1.489616e+06                7\n",
              "\n",
              "[7 rows x 19 columns]"
            ]
          },
          "metadata": {
            "tags": []
          },
          "execution_count": 114
        }
      ]
    },
    {
      "cell_type": "code",
      "metadata": {
        "id": "FKh6SFtFCXlr",
        "outputId": "1ba84606-bcdc-4423-994c-f47823356253",
        "colab": {
          "base_uri": "https://localhost:8080/",
          "height": 405
        }
      },
      "source": [
        "pd.DataFrame(Ridge_reg_w2vec.cv_results_)"
      ],
      "execution_count": 117,
      "outputs": [
        {
          "output_type": "execute_result",
          "data": {
            "text/html": [
              "<div>\n",
              "<style scoped>\n",
              "    .dataframe tbody tr th:only-of-type {\n",
              "        vertical-align: middle;\n",
              "    }\n",
              "\n",
              "    .dataframe tbody tr th {\n",
              "        vertical-align: top;\n",
              "    }\n",
              "\n",
              "    .dataframe thead th {\n",
              "        text-align: right;\n",
              "    }\n",
              "</style>\n",
              "<table border=\"1\" class=\"dataframe\">\n",
              "  <thead>\n",
              "    <tr style=\"text-align: right;\">\n",
              "      <th></th>\n",
              "      <th>mean_fit_time</th>\n",
              "      <th>std_fit_time</th>\n",
              "      <th>mean_score_time</th>\n",
              "      <th>std_score_time</th>\n",
              "      <th>param_alpha</th>\n",
              "      <th>params</th>\n",
              "      <th>split0_test_score</th>\n",
              "      <th>split1_test_score</th>\n",
              "      <th>split2_test_score</th>\n",
              "      <th>split3_test_score</th>\n",
              "      <th>split4_test_score</th>\n",
              "      <th>split5_test_score</th>\n",
              "      <th>split6_test_score</th>\n",
              "      <th>split7_test_score</th>\n",
              "      <th>split8_test_score</th>\n",
              "      <th>split9_test_score</th>\n",
              "      <th>mean_test_score</th>\n",
              "      <th>std_test_score</th>\n",
              "      <th>rank_test_score</th>\n",
              "    </tr>\n",
              "  </thead>\n",
              "  <tbody>\n",
              "    <tr>\n",
              "      <th>0</th>\n",
              "      <td>0.261022</td>\n",
              "      <td>0.011095</td>\n",
              "      <td>0.006527</td>\n",
              "      <td>0.000534</td>\n",
              "      <td>5</td>\n",
              "      <td>{'alpha': 5}</td>\n",
              "      <td>-485983.040550</td>\n",
              "      <td>-85670.961964</td>\n",
              "      <td>-2.548989e+06</td>\n",
              "      <td>-129576.905710</td>\n",
              "      <td>-78008.684068</td>\n",
              "      <td>-485996.813484</td>\n",
              "      <td>-85671.367585</td>\n",
              "      <td>-2.548980e+06</td>\n",
              "      <td>-129576.502460</td>\n",
              "      <td>-78002.389625</td>\n",
              "      <td>-665645.601745</td>\n",
              "      <td>9.537613e+05</td>\n",
              "      <td>1</td>\n",
              "    </tr>\n",
              "    <tr>\n",
              "      <th>1</th>\n",
              "      <td>0.253040</td>\n",
              "      <td>0.006182</td>\n",
              "      <td>0.006219</td>\n",
              "      <td>0.000281</td>\n",
              "      <td>10</td>\n",
              "      <td>{'alpha': 10}</td>\n",
              "      <td>-579607.108147</td>\n",
              "      <td>-95094.025510</td>\n",
              "      <td>-3.057242e+06</td>\n",
              "      <td>-152848.035069</td>\n",
              "      <td>-90111.741580</td>\n",
              "      <td>-579615.916932</td>\n",
              "      <td>-95093.915652</td>\n",
              "      <td>-3.057238e+06</td>\n",
              "      <td>-152847.337472</td>\n",
              "      <td>-90107.563651</td>\n",
              "      <td>-794980.583297</td>\n",
              "      <td>1.145707e+06</td>\n",
              "      <td>2</td>\n",
              "    </tr>\n",
              "    <tr>\n",
              "      <th>2</th>\n",
              "      <td>0.260066</td>\n",
              "      <td>0.007042</td>\n",
              "      <td>0.006318</td>\n",
              "      <td>0.000183</td>\n",
              "      <td>15</td>\n",
              "      <td>{'alpha': 15}</td>\n",
              "      <td>-616659.009887</td>\n",
              "      <td>-96579.194579</td>\n",
              "      <td>-3.266102e+06</td>\n",
              "      <td>-161093.296009</td>\n",
              "      <td>-93041.769232</td>\n",
              "      <td>-616665.439660</td>\n",
              "      <td>-96578.965426</td>\n",
              "      <td>-3.266100e+06</td>\n",
              "      <td>-161092.565850</td>\n",
              "      <td>-93038.602273</td>\n",
              "      <td>-846695.063963</td>\n",
              "      <td>1.225329e+06</td>\n",
              "      <td>3</td>\n",
              "    </tr>\n",
              "    <tr>\n",
              "      <th>3</th>\n",
              "      <td>0.256604</td>\n",
              "      <td>0.007572</td>\n",
              "      <td>0.006818</td>\n",
              "      <td>0.000658</td>\n",
              "      <td>20</td>\n",
              "      <td>{'alpha': 20}</td>\n",
              "      <td>-636259.882342</td>\n",
              "      <td>-96101.692184</td>\n",
              "      <td>-3.381794e+06</td>\n",
              "      <td>-164901.613514</td>\n",
              "      <td>-93516.860735</td>\n",
              "      <td>-636264.938458</td>\n",
              "      <td>-96101.426822</td>\n",
              "      <td>-3.381792e+06</td>\n",
              "      <td>-164900.911027</td>\n",
              "      <td>-93514.290318</td>\n",
              "      <td>-874514.740378</td>\n",
              "      <td>1.269854e+06</td>\n",
              "      <td>4</td>\n",
              "    </tr>\n",
              "    <tr>\n",
              "      <th>4</th>\n",
              "      <td>0.259378</td>\n",
              "      <td>0.010889</td>\n",
              "      <td>0.006991</td>\n",
              "      <td>0.001145</td>\n",
              "      <td>1000</td>\n",
              "      <td>{'alpha': 1000}</td>\n",
              "      <td>-702591.064108</td>\n",
              "      <td>-79530.819986</td>\n",
              "      <td>-3.869583e+06</td>\n",
              "      <td>-171836.971799</td>\n",
              "      <td>-78861.180673</td>\n",
              "      <td>-702591.170900</td>\n",
              "      <td>-79530.807290</td>\n",
              "      <td>-3.869583e+06</td>\n",
              "      <td>-171836.928145</td>\n",
              "      <td>-78861.100231</td>\n",
              "      <td>-980480.654210</td>\n",
              "      <td>1.463056e+06</td>\n",
              "      <td>5</td>\n",
              "    </tr>\n",
              "    <tr>\n",
              "      <th>5</th>\n",
              "      <td>0.265185</td>\n",
              "      <td>0.005526</td>\n",
              "      <td>0.006789</td>\n",
              "      <td>0.000456</td>\n",
              "      <td>1500</td>\n",
              "      <td>{'alpha': 1500}</td>\n",
              "      <td>-703971.214858</td>\n",
              "      <td>-79924.437808</td>\n",
              "      <td>-3.878198e+06</td>\n",
              "      <td>-172494.070794</td>\n",
              "      <td>-78935.307518</td>\n",
              "      <td>-703971.285078</td>\n",
              "      <td>-79924.429124</td>\n",
              "      <td>-3.878198e+06</td>\n",
              "      <td>-172494.040926</td>\n",
              "      <td>-78935.253505</td>\n",
              "      <td>-982704.652412</td>\n",
              "      <td>1.466276e+06</td>\n",
              "      <td>6</td>\n",
              "    </tr>\n",
              "    <tr>\n",
              "      <th>6</th>\n",
              "      <td>0.268178</td>\n",
              "      <td>0.011581</td>\n",
              "      <td>0.006819</td>\n",
              "      <td>0.000491</td>\n",
              "      <td>2000</td>\n",
              "      <td>{'alpha': 2000}</td>\n",
              "      <td>-704798.896160</td>\n",
              "      <td>-80245.372656</td>\n",
              "      <td>-3.882873e+06</td>\n",
              "      <td>-172938.788627</td>\n",
              "      <td>-79058.786298</td>\n",
              "      <td>-704798.948369</td>\n",
              "      <td>-80245.366012</td>\n",
              "      <td>-3.882873e+06</td>\n",
              "      <td>-172938.765893</td>\n",
              "      <td>-79058.745644</td>\n",
              "      <td>-983983.011580</td>\n",
              "      <td>1.467987e+06</td>\n",
              "      <td>7</td>\n",
              "    </tr>\n",
              "  </tbody>\n",
              "</table>\n",
              "</div>"
            ],
            "text/plain": [
              "   mean_fit_time  std_fit_time  ...  std_test_score  rank_test_score\n",
              "0       0.261022      0.011095  ...    9.537613e+05                1\n",
              "1       0.253040      0.006182  ...    1.145707e+06                2\n",
              "2       0.260066      0.007042  ...    1.225329e+06                3\n",
              "3       0.256604      0.007572  ...    1.269854e+06                4\n",
              "4       0.259378      0.010889  ...    1.463056e+06                5\n",
              "5       0.265185      0.005526  ...    1.466276e+06                6\n",
              "6       0.268178      0.011581  ...    1.467987e+06                7\n",
              "\n",
              "[7 rows x 19 columns]"
            ]
          },
          "metadata": {
            "tags": []
          },
          "execution_count": 117
        }
      ]
    },
    {
      "cell_type": "code",
      "metadata": {
        "id": "0RidL1Tc5wNU",
        "outputId": "56b89561-9ea3-4791-d5bb-c15460d2d249",
        "colab": {
          "base_uri": "https://localhost:8080/"
        }
      },
      "source": [
        "from sklearn.metrics import mean_squared_error\n",
        "import math\n",
        "\n",
        "clf = Ridge(alpha=1500)\n",
        "clf.fit(X_elmo_train, y_elmo_train)\n",
        "print(clf.score(X_elmo_train, y_elmo_train))\n",
        "\n",
        "y_pred_elmo = clf.predict(X_elmo_test)\n",
        "\n",
        "print(mean_squared_error(y_elmo_test, y_pred_elmo))\n",
        "print(math.sqrt(mean_squared_error(y_elmo_test, y_pred_elmo)))"
      ],
      "execution_count": 118,
      "outputs": [
        {
          "output_type": "stream",
          "text": [
            "0.0326745931242014\n",
            "131596.71689641898\n",
            "362.76261783212857\n"
          ],
          "name": "stdout"
        }
      ]
    },
    {
      "cell_type": "code",
      "metadata": {
        "id": "pQIWxsmi6IIq",
        "outputId": "fb743658-5395-4b0f-996e-c0576e41ef1c",
        "colab": {
          "base_uri": "https://localhost:8080/"
        }
      },
      "source": [
        "from sklearn.metrics import mean_squared_error\n",
        "import math\n",
        "\n",
        "clf = Ridge(alpha=1000)\n",
        "clf.fit(X_w2vec_train, y_w2vec_train)\n",
        "print(clf.score(X_w2vec_train, y_w2vec_train))\n",
        "\n",
        "y_pred_w2vec = clf.predict(X_w2vec_test)\n",
        "\n",
        "print(mean_squared_error(y_w2vec_test, y_pred_w2vec))\n",
        "print(math.sqrt(mean_squared_error(y_w2vec_test, y_pred_w2vec)))"
      ],
      "execution_count": 119,
      "outputs": [
        {
          "output_type": "stream",
          "text": [
            "0.014642079505400307\n",
            "73127.05618986495\n",
            "270.4201475294785\n"
          ],
          "name": "stdout"
        }
      ]
    },
    {
      "cell_type": "markdown",
      "metadata": {
        "id": "m9SrNOmbEf_p"
      },
      "source": [
        "### Блок 3: Paraphrase Detection (до 8 баллов)\n",
        "\n",
        "\n",
        "* [Статья по русскоязычному корпусу парафразов](https://www.aclweb.org/anthology/2020.ngt-1.6/)\n",
        "* [Еще статья](http://www.dialog-21.ru/media/3928/loukachevitchnvetal.pdf)\n",
        "* [Сайт корпуса](http://paraphraser.ru/)\n",
        "\n",
        "Отформатированные данные можно скачать [здесь](https://yadi.sk/d/OIgbnRA6OVJ4VQ)\n",
        "\n",
        "\n",
        "1.   Эксплоративный анализ данных (1 балл)\n",
        "2.   Поиск гиперпараметров, минимизация переобучения (2 балла)\n",
        "3.   Аугментация данных (1 балл)\n",
        "4.   Сравнение качества моделей, выбор наилучшей (1 балл)\n",
        "5.   Конструирование текстовых признаков (2 балла)\n",
        "6.   Анализ ошибок (1 балл)\n",
        "\n"
      ]
    },
    {
      "cell_type": "code",
      "metadata": {
        "id": "iDXYQu_uWSGm",
        "outputId": "c22df01f-bafe-44fd-a1c6-9584e2d13b9e",
        "colab": {
          "base_uri": "https://localhost:8080/",
          "height": 204
        }
      },
      "source": [
        "para = pd.read_csv(\"paraphrases.tsv\", sep=\"\\t\")\n",
        "para.head()"
      ],
      "execution_count": 120,
      "outputs": [
        {
          "output_type": "execute_result",
          "data": {
            "text/html": [
              "<div>\n",
              "<style scoped>\n",
              "    .dataframe tbody tr th:only-of-type {\n",
              "        vertical-align: middle;\n",
              "    }\n",
              "\n",
              "    .dataframe tbody tr th {\n",
              "        vertical-align: top;\n",
              "    }\n",
              "\n",
              "    .dataframe thead th {\n",
              "        text-align: right;\n",
              "    }\n",
              "</style>\n",
              "<table border=\"1\" class=\"dataframe\">\n",
              "  <thead>\n",
              "    <tr style=\"text-align: right;\">\n",
              "      <th></th>\n",
              "      <th>text_1</th>\n",
              "      <th>text_2</th>\n",
              "      <th>class</th>\n",
              "    </tr>\n",
              "  </thead>\n",
              "  <tbody>\n",
              "    <tr>\n",
              "      <th>0</th>\n",
              "      <td>Совет юстиции Бразилии легализовал однополые б...</td>\n",
              "      <td>Совет юстиции Бразилии разрешил однополые браки.</td>\n",
              "      <td>1</td>\n",
              "    </tr>\n",
              "    <tr>\n",
              "      <th>1</th>\n",
              "      <td>\"Магнит\" поручится перед \"Абсолют Банком\" за к...</td>\n",
              "      <td>Выпуск сигарет в России упал из-за антитабачно...</td>\n",
              "      <td>-1</td>\n",
              "    </tr>\n",
              "    <tr>\n",
              "      <th>2</th>\n",
              "      <td>ЕС призвал США не бомбить Сирию до публикации ...</td>\n",
              "      <td>Евросоюз призвал США дождаться доклада ООН по ...</td>\n",
              "      <td>-1</td>\n",
              "    </tr>\n",
              "    <tr>\n",
              "      <th>3</th>\n",
              "      <td>Депо Московского метрополитена впервые перейде...</td>\n",
              "      <td>Частной компании впервые отдадут депо в москов...</td>\n",
              "      <td>1</td>\n",
              "    </tr>\n",
              "    <tr>\n",
              "      <th>4</th>\n",
              "      <td>Два человека погибли в столкновениях между кур...</td>\n",
              "      <td>Один человек погиб при столкновении судов у бе...</td>\n",
              "      <td>-1</td>\n",
              "    </tr>\n",
              "  </tbody>\n",
              "</table>\n",
              "</div>"
            ],
            "text/plain": [
              "                                              text_1  ... class\n",
              "0  Совет юстиции Бразилии легализовал однополые б...  ...     1\n",
              "1  \"Магнит\" поручится перед \"Абсолют Банком\" за к...  ...    -1\n",
              "2  ЕС призвал США не бомбить Сирию до публикации ...  ...    -1\n",
              "3  Депо Московского метрополитена впервые перейде...  ...     1\n",
              "4  Два человека погибли в столкновениях между кур...  ...    -1\n",
              "\n",
              "[5 rows x 3 columns]"
            ]
          },
          "metadata": {
            "tags": []
          },
          "execution_count": 120
        }
      ]
    },
    {
      "cell_type": "code",
      "metadata": {
        "id": "fZ_JqjbnONFg",
        "outputId": "e3106d5a-9cb9-44a1-fec4-e56533e1a9b5",
        "colab": {
          "base_uri": "https://localhost:8080/"
        }
      },
      "source": [
        "para.info()"
      ],
      "execution_count": 121,
      "outputs": [
        {
          "output_type": "stream",
          "text": [
            "<class 'pandas.core.frame.DataFrame'>\n",
            "RangeIndex: 8540 entries, 0 to 8539\n",
            "Data columns (total 3 columns):\n",
            " #   Column  Non-Null Count  Dtype \n",
            "---  ------  --------------  ----- \n",
            " 0   text_1  8540 non-null   object\n",
            " 1   text_2  8540 non-null   object\n",
            " 2   class   8540 non-null   int64 \n",
            "dtypes: int64(1), object(2)\n",
            "memory usage: 200.3+ KB\n"
          ],
          "name": "stdout"
        }
      ]
    },
    {
      "cell_type": "code",
      "metadata": {
        "id": "vDe-87DFOQve",
        "outputId": "affc5fc4-45e2-4de7-a1b1-081e1d868cbf",
        "colab": {
          "base_uri": "https://localhost:8080/"
        }
      },
      "source": [
        "para['class'].value_counts()"
      ],
      "execution_count": 123,
      "outputs": [
        {
          "output_type": "execute_result",
          "data": {
            "text/plain": [
              "-1    5164\n",
              " 1    3376\n",
              "Name: class, dtype: int64"
            ]
          },
          "metadata": {
            "tags": []
          },
          "execution_count": 123
        }
      ]
    },
    {
      "cell_type": "code",
      "metadata": {
        "id": "x2DwGGkTcO7m"
      },
      "source": [
        "para = para.sample(100)"
      ],
      "execution_count": 162,
      "outputs": []
    },
    {
      "cell_type": "code",
      "metadata": {
        "id": "IU_uYVEVUoy8"
      },
      "source": [
        "para['text_1_aug'] = para['text_1'].apply(augment_word2vec_pos)\n",
        "para['text_2_aug'] = para['text_2'].apply(augment_word2vec_pos)"
      ],
      "execution_count": 163,
      "outputs": []
    },
    {
      "cell_type": "code",
      "metadata": {
        "id": "UfU1jmiHcjA7",
        "outputId": "d8d723f3-78cc-4934-d150-35cb56aa0a24",
        "colab": {
          "base_uri": "https://localhost:8080/",
          "height": 289
        }
      },
      "source": [
        "para.head()"
      ],
      "execution_count": 165,
      "outputs": [
        {
          "output_type": "execute_result",
          "data": {
            "text/html": [
              "<div>\n",
              "<style scoped>\n",
              "    .dataframe tbody tr th:only-of-type {\n",
              "        vertical-align: middle;\n",
              "    }\n",
              "\n",
              "    .dataframe tbody tr th {\n",
              "        vertical-align: top;\n",
              "    }\n",
              "\n",
              "    .dataframe thead th {\n",
              "        text-align: right;\n",
              "    }\n",
              "</style>\n",
              "<table border=\"1\" class=\"dataframe\">\n",
              "  <thead>\n",
              "    <tr style=\"text-align: right;\">\n",
              "      <th></th>\n",
              "      <th>text_1</th>\n",
              "      <th>text_2</th>\n",
              "      <th>class</th>\n",
              "      <th>text_1_aug</th>\n",
              "      <th>text_2_aug</th>\n",
              "    </tr>\n",
              "  </thead>\n",
              "  <tbody>\n",
              "    <tr>\n",
              "      <th>3720</th>\n",
              "      <td>Молодые футболисты ЦСКА обыграли \"Баварию\" в Л...</td>\n",
              "      <td>«Бавария» разгромила ЦСКА в матче Лиги чемпионов.</td>\n",
              "      <td>-1</td>\n",
              "      <td>Молодые хоккеисты ЦСКА обыграли Баварию в Лиге</td>\n",
              "      <td>« Бавария » разгромила ЦСКА в матче</td>\n",
              "    </tr>\n",
              "    <tr>\n",
              "      <th>6662</th>\n",
              "      <td>В США во время учений погибли два сотрудника ФБР.</td>\n",
              "      <td>Два агента ФБР погибли на учениях.</td>\n",
              "      <td>1</td>\n",
              "      <td>В США во время учений погибли два руководителя...</td>\n",
              "      <td>Два шпиона ФБР погибли на учениях</td>\n",
              "    </tr>\n",
              "    <tr>\n",
              "      <th>3459</th>\n",
              "      <td>На центральную таможню России пришли с обыском.</td>\n",
              "      <td>Что Россия и Черногория значат друг для друга.</td>\n",
              "      <td>-1</td>\n",
              "      <td>На центральную таможню России пришли с арестом</td>\n",
              "      <td>Что Россия и болгария значат друг для друга</td>\n",
              "    </tr>\n",
              "    <tr>\n",
              "      <th>7206</th>\n",
              "      <td>Финансовая G20 решила отказаться от валютных в...</td>\n",
              "      <td>G20 отказалась вести валютные войны.</td>\n",
              "      <td>1</td>\n",
              "      <td>Финансовая G 20 решила отказаться</td>\n",
              "      <td>G 20 отказалась</td>\n",
              "    </tr>\n",
              "    <tr>\n",
              "      <th>2904</th>\n",
              "      <td>Скончался основатель рок-группы Soft Machine.</td>\n",
              "      <td>Скончался основатель британской рок-группы Sof...</td>\n",
              "      <td>1</td>\n",
              "      <td>Скончался основоположник рок-группы</td>\n",
              "      <td>Скончался основоположник британской рок-группы</td>\n",
              "    </tr>\n",
              "  </tbody>\n",
              "</table>\n",
              "</div>"
            ],
            "text/plain": [
              "                                                 text_1  ...                                      text_2_aug\n",
              "3720  Молодые футболисты ЦСКА обыграли \"Баварию\" в Л...  ...             « Бавария » разгромила ЦСКА в матче\n",
              "6662  В США во время учений погибли два сотрудника ФБР.  ...               Два шпиона ФБР погибли на учениях\n",
              "3459    На центральную таможню России пришли с обыском.  ...     Что Россия и болгария значат друг для друга\n",
              "7206  Финансовая G20 решила отказаться от валютных в...  ...                                 G 20 отказалась\n",
              "2904      Скончался основатель рок-группы Soft Machine.  ...  Скончался основоположник британской рок-группы\n",
              "\n",
              "[5 rows x 5 columns]"
            ]
          },
          "metadata": {
            "tags": []
          },
          "execution_count": 165
        }
      ]
    },
    {
      "cell_type": "code",
      "metadata": {
        "id": "FfzkUpatOuqA"
      },
      "source": [
        "list_para = [para[i:i+100] for i in range(0,medium.shape[0],100)]\n",
        "elmo_text_1 = [elmo_vectors(x['text_1']) for x in list_para]\n",
        "elmo_text_1_new = np.concatenate(elmo_text_1, axis = 0)\n",
        "list_para"
      ],
      "execution_count": null,
      "outputs": []
    },
    {
      "cell_type": "code",
      "metadata": {
        "id": "29zsDkUke19s"
      },
      "source": [
        "para['text_1_elmo'].apply(elmo_text_1_new)"
      ],
      "execution_count": null,
      "outputs": []
    },
    {
      "cell_type": "code",
      "metadata": {
        "id": "ntURauAHdeq8"
      },
      "source": [
        "elmo_text_2 = [elmo_vectors(x['text_2']) for x in list_para]\n",
        "elmo_text_2_new = np.concatenate(elmo_text_1, axis = 0)"
      ],
      "execution_count": null,
      "outputs": []
    },
    {
      "cell_type": "code",
      "metadata": {
        "id": "PLgGS6Y6fph7"
      },
      "source": [
        "para['text_2_elmo'].apply(elmo_text_2_new)"
      ],
      "execution_count": null,
      "outputs": []
    },
    {
      "cell_type": "code",
      "metadata": {
        "id": "NNeK9171ft0f"
      },
      "source": [
        ""
      ],
      "execution_count": null,
      "outputs": []
    }
  ]
}