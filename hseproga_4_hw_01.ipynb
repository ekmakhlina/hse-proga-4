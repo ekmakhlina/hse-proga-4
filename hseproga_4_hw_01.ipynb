{
  "nbformat": 4,
  "nbformat_minor": 0,
  "metadata": {
    "colab": {
      "name": "hseproga-4-hw-01.ipynb",
      "provenance": [],
      "collapsed_sections": []
    },
    "kernelspec": {
      "name": "python3",
      "display_name": "Python 3"
    }
  },
  "cells": [
    {
      "cell_type": "markdown",
      "metadata": {
        "id": "nzfD_Wk1ZN6L"
      },
      "source": [
        "# Домашнее задание №1\n",
        "\n",
        "### **Dataset of depressive posts in Russian language collected from social media** [(paper)](https://www.sciencedirect.com/science/article/pii/S2352340920300895)\n",
        "\n",
        "Скачать датасет в формате .tsv можно [здесь](https://yadi.sk/d/G5rq-R3AK8SOuw).\n",
        "\n",
        "\n",
        "В качестве задания предлагается:\n",
        "1. Использовать ```pandas``` и ряд инструментов для автоматической обработки текстов на русском языке, чтобы ответить на вопросы.\n",
        "2. Написать функции для извлечения текстовых признаков.\n",
        "\n",
        "Не рекомендуется использовать ```nltk``` для сегментации/токенизации текстов, поскольку существуют инструменты, которые выполняют свою задачу для русского значительно лучше – их мы обсуждали с вами на занятии.\n",
        "\n",
        "\n",
        "**Дедлайн**: 23 сентября 23:59"
      ]
    },
    {
      "cell_type": "code",
      "metadata": {
        "id": "cc6oSJ9D6zVw"
      },
      "source": [
        "#!pip3 install wldhx.yadisk-direct"
      ],
      "execution_count": 1,
      "outputs": []
    },
    {
      "cell_type": "code",
      "metadata": {
        "id": "OT6SWaLIJjkp"
      },
      "source": [
        "#!curl -L $(yadisk-direct https://disk.yandex.ru/d/G5rq-R3AK8SOuw) -o depression_data.tsv"
      ],
      "execution_count": 2,
      "outputs": []
    },
    {
      "cell_type": "code",
      "metadata": {
        "id": "9tsSaFBdgu1B",
        "outputId": "891a93eb-59b8-4043-8108-52a6516140a6",
        "colab": {
          "base_uri": "https://localhost:8080/",
          "height": 204
        }
      },
      "source": [
        "import pandas as pd\n",
        "\n",
        "df = pd.read_csv(\"depression_data.tsv\", sep=\"\\t\")\n",
        "df.head()"
      ],
      "execution_count": 7,
      "outputs": [
        {
          "output_type": "execute_result",
          "data": {
            "text/html": [
              "<div>\n",
              "<style scoped>\n",
              "    .dataframe tbody tr th:only-of-type {\n",
              "        vertical-align: middle;\n",
              "    }\n",
              "\n",
              "    .dataframe tbody tr th {\n",
              "        vertical-align: top;\n",
              "    }\n",
              "\n",
              "    .dataframe thead th {\n",
              "        text-align: right;\n",
              "    }\n",
              "</style>\n",
              "<table border=\"1\" class=\"dataframe\">\n",
              "  <thead>\n",
              "    <tr style=\"text-align: right;\">\n",
              "      <th></th>\n",
              "      <th>text</th>\n",
              "      <th>label</th>\n",
              "      <th>age</th>\n",
              "    </tr>\n",
              "  </thead>\n",
              "  <tbody>\n",
              "    <tr>\n",
              "      <th>0</th>\n",
              "      <td>Когда-то я был добрым романтиком, который стре...</td>\n",
              "      <td>1</td>\n",
              "      <td>32.0</td>\n",
              "    </tr>\n",
              "    <tr>\n",
              "      <th>1</th>\n",
              "      <td>Здраствуйте! Я каждый день просыпаюсь с мыслью...</td>\n",
              "      <td>1</td>\n",
              "      <td>28.0</td>\n",
              "    </tr>\n",
              "    <tr>\n",
              "      <th>2</th>\n",
              "      <td>У меня проблемы с девушкой. Каждую ссору я не ...</td>\n",
              "      <td>1</td>\n",
              "      <td>16.0</td>\n",
              "    </tr>\n",
              "    <tr>\n",
              "      <th>3</th>\n",
              "      <td>Вся моя жизнь это один сплошной ад, в котором ...</td>\n",
              "      <td>1</td>\n",
              "      <td>32.0</td>\n",
              "    </tr>\n",
              "    <tr>\n",
              "      <th>4</th>\n",
              "      <td>Я хочу уснуть и не проснуться.каждый день одно...</td>\n",
              "      <td>1</td>\n",
              "      <td>14.0</td>\n",
              "    </tr>\n",
              "  </tbody>\n",
              "</table>\n",
              "</div>"
            ],
            "text/plain": [
              "                                                text  label   age\n",
              "0  Когда-то я был добрым романтиком, который стре...      1  32.0\n",
              "1  Здраствуйте! Я каждый день просыпаюсь с мыслью...      1  28.0\n",
              "2  У меня проблемы с девушкой. Каждую ссору я не ...      1  16.0\n",
              "3  Вся моя жизнь это один сплошной ад, в котором ...      1  32.0\n",
              "4  Я хочу уснуть и не проснуться.каждый день одно...      1  14.0"
            ]
          },
          "metadata": {
            "tags": []
          },
          "execution_count": 7
        }
      ]
    },
    {
      "cell_type": "markdown",
      "metadata": {
        "id": "jgwa7XyGfuCI"
      },
      "source": [
        "### Часть 1: Простая статистика (2 балла)"
      ]
    },
    {
      "cell_type": "markdown",
      "metadata": {
        "id": "YP1iOWbjh2zw"
      },
      "source": [
        "Зачастую в данных, с которыми вы работаете, может быть много неприятных для обработки вещей. Например, мы видим, что в колонке ```age``` очень грязные значения."
      ]
    },
    {
      "cell_type": "code",
      "metadata": {
        "id": "uDW6JMhwZuS8",
        "outputId": "7133475f-ce87-491d-e570-0880c3b58181",
        "colab": {
          "base_uri": "https://localhost:8080/",
          "height": 221
        }
      },
      "source": [
        "df[\"age\"].value_counts()"
      ],
      "execution_count": 8,
      "outputs": [
        {
          "output_type": "execute_result",
          "data": {
            "text/plain": [
              "16.0      1823\n",
              "17.0      1811\n",
              "18.0      1661\n",
              "15.0      1582\n",
              "20.0      1543\n",
              "          ... \n",
              "116.0        1\n",
              "295.0        1\n",
              "2425.0       1\n",
              "92.0         1\n",
              "830.0        1\n",
              "Name: age, Length: 128, dtype: int64"
            ]
          },
          "metadata": {
            "tags": []
          },
          "execution_count": 8
        }
      ]
    },
    {
      "cell_type": "markdown",
      "metadata": {
        "id": "5SqrBy6iloMd"
      },
      "source": [
        "1. Найдите среднее значение возраста в диапазоне от 14 до 50 лет включительно."
      ]
    },
    {
      "cell_type": "code",
      "metadata": {
        "id": "6AbzQhkakRfc",
        "outputId": "9839128c-14b8-4660-f048-01765287a42c",
        "colab": {
          "base_uri": "https://localhost:8080/",
          "height": 34
        }
      },
      "source": [
        "df[df[\"age\"].between(14, 50, inclusive=True)]['age'].mean()"
      ],
      "execution_count": 9,
      "outputs": [
        {
          "output_type": "execute_result",
          "data": {
            "text/plain": [
              "22.704171601526518"
            ]
          },
          "metadata": {
            "tags": []
          },
          "execution_count": 9
        }
      ]
    },
    {
      "cell_type": "markdown",
      "metadata": {
        "id": "Pw5gpMkDk4R6"
      },
      "source": [
        "2. Какую долю 16-летние авторы составляют в диапазоне от 16 до 26 лет включительно?"
      ]
    },
    {
      "cell_type": "code",
      "metadata": {
        "id": "qXejPDLZj3eX",
        "outputId": "bb2ea94a-810b-4f5c-fdb8-331d44e52cf2",
        "colab": {
          "base_uri": "https://localhost:8080/",
          "height": 34
        }
      },
      "source": [
        "my_df = df[df[\"age\"].between(16, 26, inclusive=True)]\n",
        "len(my_df[my_df['age']==16])/len(my_df)"
      ],
      "execution_count": 10,
      "outputs": [
        {
          "output_type": "execute_result",
          "data": {
            "text/plain": [
              "0.1259412780656304"
            ]
          },
          "metadata": {
            "tags": []
          },
          "execution_count": 10
        }
      ]
    },
    {
      "cell_type": "markdown",
      "metadata": {
        "id": "vGinA-Swjvlc"
      },
      "source": [
        "3. Сколько в датасете текстов, авторам которых 28 или 30 лет?"
      ]
    },
    {
      "cell_type": "code",
      "metadata": {
        "id": "QNz0sLmjYLxr",
        "outputId": "dad89fc1-0a3d-49fa-a4ac-f4fa56ecac5a",
        "colab": {
          "base_uri": "https://localhost:8080/",
          "height": 34
        }
      },
      "source": [
        "len(df[(df['age']==28)|(df['age']==30)])"
      ],
      "execution_count": 11,
      "outputs": [
        {
          "output_type": "execute_result",
          "data": {
            "text/plain": [
              "1185"
            ]
          },
          "metadata": {
            "tags": []
          },
          "execution_count": 11
        }
      ]
    },
    {
      "cell_type": "markdown",
      "metadata": {
        "id": "WIiciL_BnJzl"
      },
      "source": [
        "4. С помощью одной встроенной в ```pandas``` функции отобразите всю статистику по колонке ```age``` в диапазоне от 18 до 30 лет включительно."
      ]
    },
    {
      "cell_type": "code",
      "metadata": {
        "id": "q2cC4Sxanka6",
        "outputId": "e8ce674e-64fc-4c51-c014-17eb4acdd087",
        "colab": {
          "base_uri": "https://localhost:8080/",
          "height": 170
        }
      },
      "source": [
        "my_df = df[df[\"age\"].between(18, 30, inclusive=True)]\n",
        "my_df['age'].describe()"
      ],
      "execution_count": 12,
      "outputs": [
        {
          "output_type": "execute_result",
          "data": {
            "text/plain": [
              "count    13205.000000\n",
              "mean        22.676638\n",
              "std          3.550254\n",
              "min         18.000000\n",
              "25%         20.000000\n",
              "50%         22.000000\n",
              "75%         25.000000\n",
              "max         30.000000\n",
              "Name: age, dtype: float64"
            ]
          },
          "metadata": {
            "tags": []
          },
          "execution_count": 12
        }
      ]
    },
    {
      "cell_type": "markdown",
      "metadata": {
        "id": "CT99FXGjoGs1"
      },
      "source": [
        "5. Сколько в датасете положительных / отрицательных примеров?"
      ]
    },
    {
      "cell_type": "code",
      "metadata": {
        "id": "j-nelLWJoMpT",
        "outputId": "71d473af-94a6-48b8-f71d-28b8ca5144a5",
        "colab": {
          "base_uri": "https://localhost:8080/",
          "height": 142
        }
      },
      "source": [
        "df.groupby(\"label\").count()"
      ],
      "execution_count": 13,
      "outputs": [
        {
          "output_type": "execute_result",
          "data": {
            "text/html": [
              "<div>\n",
              "<style scoped>\n",
              "    .dataframe tbody tr th:only-of-type {\n",
              "        vertical-align: middle;\n",
              "    }\n",
              "\n",
              "    .dataframe tbody tr th {\n",
              "        vertical-align: top;\n",
              "    }\n",
              "\n",
              "    .dataframe thead th {\n",
              "        text-align: right;\n",
              "    }\n",
              "</style>\n",
              "<table border=\"1\" class=\"dataframe\">\n",
              "  <thead>\n",
              "    <tr style=\"text-align: right;\">\n",
              "      <th></th>\n",
              "      <th>text</th>\n",
              "      <th>age</th>\n",
              "    </tr>\n",
              "    <tr>\n",
              "      <th>label</th>\n",
              "      <th></th>\n",
              "      <th></th>\n",
              "    </tr>\n",
              "  </thead>\n",
              "  <tbody>\n",
              "    <tr>\n",
              "      <th>0</th>\n",
              "      <td>32021</td>\n",
              "      <td>0</td>\n",
              "    </tr>\n",
              "    <tr>\n",
              "      <th>1</th>\n",
              "      <td>32018</td>\n",
              "      <td>24325</td>\n",
              "    </tr>\n",
              "  </tbody>\n",
              "</table>\n",
              "</div>"
            ],
            "text/plain": [
              "        text    age\n",
              "label              \n",
              "0      32021      0\n",
              "1      32018  24325"
            ]
          },
          "metadata": {
            "tags": []
          },
          "execution_count": 13
        }
      ]
    },
    {
      "cell_type": "code",
      "metadata": {
        "id": "Sb9Za1O6BBj8",
        "outputId": "08367e7d-9258-4bfb-a7bf-c99d9ec16dc1",
        "colab": {
          "base_uri": "https://localhost:8080/",
          "height": 68
        }
      },
      "source": [
        "df[\"label\"].value_counts()"
      ],
      "execution_count": 14,
      "outputs": [
        {
          "output_type": "execute_result",
          "data": {
            "text/plain": [
              "0    32021\n",
              "1    32018\n",
              "Name: label, dtype: int64"
            ]
          },
          "metadata": {
            "tags": []
          },
          "execution_count": 14
        }
      ]
    },
    {
      "cell_type": "markdown",
      "metadata": {
        "id": "QHldQF5FoAyB"
      },
      "source": [
        "### Часть 2: Предобработка (3 балла)"
      ]
    },
    {
      "cell_type": "markdown",
      "metadata": {
        "id": "Mc1d4G-q671X"
      },
      "source": [
        "1. Посчитайте количество предложений в каждом тексте. Сохраните эти значения в отдельной колонке датафрейма."
      ]
    },
    {
      "cell_type": "code",
      "metadata": {
        "id": "HTni9dHd-NMz"
      },
      "source": [
        "from razdel import sentenize\n",
        "\n",
        "\n",
        "def get_num_sentences(text):\n",
        "    segmented_sentences = sentenize(text)\n",
        "    num_sentences = len(list(segmented_sentences))\n",
        "    return num_sentences\n",
        "\n",
        "df['num_sentences'] = [get_num_sentences(text) for text in df['text']]"
      ],
      "execution_count": 16,
      "outputs": []
    },
    {
      "cell_type": "markdown",
      "metadata": {
        "id": "NX7FxEafFTiy"
      },
      "source": [
        "2. Напишите функцию для токенизации текста. Удалите стоп-слова."
      ]
    },
    {
      "cell_type": "code",
      "metadata": {
        "id": "RttNTgEMClEw"
      },
      "source": [
        "#!pip install natasha"
      ],
      "execution_count": 13,
      "outputs": []
    },
    {
      "cell_type": "code",
      "metadata": {
        "id": "cwmui7ymLM1n"
      },
      "source": [
        "import nltk\n",
        "#nltk.download('stopwords')\n",
        "from nltk.corpus import stopwords"
      ],
      "execution_count": 18,
      "outputs": []
    },
    {
      "cell_type": "code",
      "metadata": {
        "id": "Y1S782xBFlIi"
      },
      "source": [
        "from razdel import tokenize\n",
        "import string\n",
        "\n",
        "stopwords_ru = stopwords.words(\"russian\")\n",
        "\n",
        "def is_sw(x, stopwords=stopwords_ru):\n",
        "  if x in stopwords_ru:\n",
        "    return False\n",
        "  if x in string.punctuation:\n",
        "    return False\n",
        "  else:\n",
        "    return True\n",
        "\n",
        "\n",
        "def get_tokens(text):\n",
        "    tokenized_text = tokenize(text)\n",
        "    return [t.text for t in tokenized_text if is_sw(t.text)]\n",
        "\n",
        "\n",
        "def get_tokens_num(text):\n",
        "    tokenized_text = tokenize(text)\n",
        "    tokenized_text_wo_sw = [t.text for t in tokenized_text if is_sw(t.text)]\n",
        "    num_tokens = len(list(tokenized_text_wo_sw))\n",
        "    return num_tokens"
      ],
      "execution_count": 19,
      "outputs": []
    },
    {
      "cell_type": "markdown",
      "metadata": {
        "id": "HVq8if4s8q_1"
      },
      "source": [
        "3. Посчитайте количество токенов в тексте (без стоп-слов). Найдите среднее этих значений как по всей выборке, так и внутри каждого класса. "
      ]
    },
    {
      "cell_type": "code",
      "metadata": {
        "id": "ShpSTOZJDydz"
      },
      "source": [
        "df['num_tokens'] = df['text'].apply(get_tokens_num)"
      ],
      "execution_count": 20,
      "outputs": []
    },
    {
      "cell_type": "code",
      "metadata": {
        "id": "W8EESE35jmog"
      },
      "source": [
        "df.to_csv('depression_data_add.csv')"
      ],
      "execution_count": 21,
      "outputs": []
    },
    {
      "cell_type": "code",
      "metadata": {
        "id": "Wq2m-JflNiIs",
        "outputId": "d1e3aa92-ed00-4277-88a7-3a3c0db01682",
        "colab": {
          "base_uri": "https://localhost:8080/",
          "height": 34
        }
      },
      "source": [
        "df['num_tokens'].mean()"
      ],
      "execution_count": 22,
      "outputs": [
        {
          "output_type": "execute_result",
          "data": {
            "text/plain": [
              "119.77477786973563"
            ]
          },
          "metadata": {
            "tags": []
          },
          "execution_count": 22
        }
      ]
    },
    {
      "cell_type": "code",
      "metadata": {
        "id": "nM1RVp24Nn_H",
        "outputId": "61f4211b-fafc-41ef-92f5-880cf1a761e8",
        "colab": {
          "base_uri": "https://localhost:8080/",
          "height": 142
        }
      },
      "source": [
        "df[['num_tokens', 'label']].groupby(\"label\").mean()"
      ],
      "execution_count": 23,
      "outputs": [
        {
          "output_type": "execute_result",
          "data": {
            "text/html": [
              "<div>\n",
              "<style scoped>\n",
              "    .dataframe tbody tr th:only-of-type {\n",
              "        vertical-align: middle;\n",
              "    }\n",
              "\n",
              "    .dataframe tbody tr th {\n",
              "        vertical-align: top;\n",
              "    }\n",
              "\n",
              "    .dataframe thead th {\n",
              "        text-align: right;\n",
              "    }\n",
              "</style>\n",
              "<table border=\"1\" class=\"dataframe\">\n",
              "  <thead>\n",
              "    <tr style=\"text-align: right;\">\n",
              "      <th></th>\n",
              "      <th>num_tokens</th>\n",
              "    </tr>\n",
              "    <tr>\n",
              "      <th>label</th>\n",
              "      <th></th>\n",
              "    </tr>\n",
              "  </thead>\n",
              "  <tbody>\n",
              "    <tr>\n",
              "      <th>0</th>\n",
              "      <td>160.671434</td>\n",
              "    </tr>\n",
              "    <tr>\n",
              "      <th>1</th>\n",
              "      <td>78.874289</td>\n",
              "    </tr>\n",
              "  </tbody>\n",
              "</table>\n",
              "</div>"
            ],
            "text/plain": [
              "       num_tokens\n",
              "label            \n",
              "0      160.671434\n",
              "1       78.874289"
            ]
          },
          "metadata": {
            "tags": []
          },
          "execution_count": 23
        }
      ]
    },
    {
      "cell_type": "markdown",
      "metadata": {
        "id": "xXsyP9NHG-gO"
      },
      "source": [
        "4. Напишите функцию, которая переводит текст в последовательность лемм."
      ]
    },
    {
      "cell_type": "code",
      "metadata": {
        "id": "ldf81w_RNFdk",
        "outputId": "bd3b2d93-a728-4045-bb63-73d2b83a3e87",
        "colab": {
          "base_uri": "https://localhost:8080/",
          "height": 326
        }
      },
      "source": [
        "!wget http://download.cdn.yandex.net/mystem/mystem-3.0-linux3.1-64bit.tar.gz\n",
        "!tar -xvf mystem-3.0-linux3.1-64bit.tar.gz\n",
        "#!mkdir /root/.local/bin\n",
        "!cp mystem /root/.local/bin/mystem"
      ],
      "execution_count": 24,
      "outputs": [
        {
          "output_type": "stream",
          "text": [
            "--2020-10-22 14:24:20--  http://download.cdn.yandex.net/mystem/mystem-3.0-linux3.1-64bit.tar.gz\n",
            "Resolving download.cdn.yandex.net (download.cdn.yandex.net)... 5.45.205.245, 5.45.205.244, 5.45.205.242, ...\n",
            "Connecting to download.cdn.yandex.net (download.cdn.yandex.net)|5.45.205.245|:80... connected.\n",
            "HTTP request sent, awaiting response... 302 Found\n",
            "Location: http://cache-mskstoredata09.cdn.yandex.net/download.cdn.yandex.net/mystem/mystem-3.0-linux3.1-64bit.tar.gz [following]\n",
            "--2020-10-22 14:24:21--  http://cache-mskstoredata09.cdn.yandex.net/download.cdn.yandex.net/mystem/mystem-3.0-linux3.1-64bit.tar.gz\n",
            "Resolving cache-mskstoredata09.cdn.yandex.net (cache-mskstoredata09.cdn.yandex.net)... 37.9.96.20, 2a02:6b8:0:3706::18\n",
            "Connecting to cache-mskstoredata09.cdn.yandex.net (cache-mskstoredata09.cdn.yandex.net)|37.9.96.20|:80... connected.\n",
            "HTTP request sent, awaiting response... 200 OK\n",
            "Length: 16457938 (16M) [application/octet-stream]\n",
            "Saving to: ‘mystem-3.0-linux3.1-64bit.tar.gz.3’\n",
            "\n",
            "mystem-3.0-linux3.1 100%[===================>]  15.70M  8.82MB/s    in 1.8s    \n",
            "\n",
            "2020-10-22 14:24:24 (8.82 MB/s) - ‘mystem-3.0-linux3.1-64bit.tar.gz.3’ saved [16457938/16457938]\n",
            "\n",
            "mystem\n"
          ],
          "name": "stdout"
        }
      ]
    },
    {
      "cell_type": "code",
      "metadata": {
        "id": "n1o_Rh2iHDmH"
      },
      "source": [
        "#эта лемматизация работает быстрее, чем pymorphy и прочее за счёт соединения\n",
        "#набора текстов в 1 гиппертекст и лемматизации его\n",
        "#идея взята из этого обсуждения на хабре: https://habr.com/ru/post/503420/\n",
        "from pymystem3 import Mystem\n",
        "import numpy as np\n",
        "\n",
        "mystem = Mystem()\n",
        "def my_lemmatize(texts, mystem=mystem):\n",
        "    lol = lambda lst, sz: [lst[i:i+sz] for i in range(0, len(lst), sz)]\n",
        "    txtpart = lol(texts, 1000)\n",
        "    res = []\n",
        "    for txtp in txtpart:\n",
        "        alltexts = ' '.join([txt + ' brf ' for txt in txtp])\n",
        "        words = mystem.lemmatize(alltexts)\n",
        "        doc = []\n",
        "        for txt in words:\n",
        "            if txt != '\\n' and txt.strip() != '':\n",
        "                if txt == 'brf':\n",
        "                    res.append(doc)\n",
        "                    doc = []\n",
        "                else:\n",
        "                    doc.append(txt)\n",
        "    return res"
      ],
      "execution_count": 76,
      "outputs": []
    },
    {
      "cell_type": "code",
      "metadata": {
        "id": "MyQjzS-AVrq4",
        "outputId": "3bc63792-3981-4ea0-85a8-c2d7c17e7c38",
        "colab": {
          "base_uri": "https://localhost:8080/",
          "height": 34
        }
      },
      "source": [
        "text = ['мама мыла раму']\n",
        "\n",
        "my_lemmatize(text)"
      ],
      "execution_count": 32,
      "outputs": [
        {
          "output_type": "execute_result",
          "data": {
            "text/plain": [
              "[['мама', 'мыть', 'рама']]"
            ]
          },
          "metadata": {
            "tags": []
          },
          "execution_count": 32
        }
      ]
    },
    {
      "cell_type": "markdown",
      "metadata": {
        "id": "D5kyEWTZ98r3"
      },
      "source": [
        "5. Напишите функцию, которая переводит текст в последовательность частеречных тегов."
      ]
    },
    {
      "cell_type": "code",
      "metadata": {
        "id": "83EABAwH756M"
      },
      "source": [
        "from pymorphy2 import MorphAnalyzer\n",
        "morph = MorphAnalyzer()\n",
        "\n",
        "def pos_tags(text, morph=morph):\n",
        "    tokens = get_tokens(text)\n",
        "    analyses = [morph.parse(word) for word in tokens]\n",
        "    pos_tags = [a[0].tag.POS for a in analyses]\n",
        "    return pos_tags"
      ],
      "execution_count": 56,
      "outputs": []
    },
    {
      "cell_type": "code",
      "metadata": {
        "id": "f5n1Ndg2WDL5",
        "outputId": "c68bf6b0-84d1-44e1-f266-2e4a677878b4",
        "colab": {
          "base_uri": "https://localhost:8080/",
          "height": 34
        }
      },
      "source": [
        "text = 'мама мыла раму, а папа курил бамбук'\n",
        "pos_tags(text)"
      ],
      "execution_count": 57,
      "outputs": [
        {
          "output_type": "execute_result",
          "data": {
            "text/plain": [
              "['NOUN', 'NOUN', 'NOUN', 'NOUN', 'VERB', 'NOUN']"
            ]
          },
          "metadata": {
            "tags": []
          },
          "execution_count": 57
        }
      ]
    },
    {
      "cell_type": "markdown",
      "metadata": {
        "id": "d7VAjC4VHSyi"
      },
      "source": [
        "6. Какие слова мы можем добавить в список стоп-слов? Приведите примеры и объясните, почему."
      ]
    },
    {
      "cell_type": "markdown",
      "metadata": {
        "id": "ndm3ras1RXFc"
      },
      "source": [
        "Мы хотим избавиться от слов, которые не вносят много дополнительного смысла в тексты, чтобы облегчить хранение и обработку данных. Обычно стоп-слова – это частотные слова. Действительно, если слово есть почти в любом тексте, то для различения этих текстов между собой большую роль такое слово не играет. В русском языке это обычно союзы,местоимения, частицы, предлоги"
      ]
    },
    {
      "cell_type": "markdown",
      "metadata": {
        "id": "vcLlYOZfIWRX"
      },
      "source": [
        "### Часть 3: Визуализация (1 балл)"
      ]
    },
    {
      "cell_type": "markdown",
      "metadata": {
        "id": "b9s_mHYIoOjg"
      },
      "source": [
        "1. Визуализируйте распределение количество предложений / текст."
      ]
    },
    {
      "cell_type": "code",
      "metadata": {
        "id": "CUgLhfWoIvKa",
        "outputId": "c8b646d0-5d08-43bc-88e0-361b2386acca",
        "colab": {
          "base_uri": "https://localhost:8080/",
          "height": 282
        }
      },
      "source": [
        "df['num_sentences'].hist(bins=100, alpha=0.9, color='g')"
      ],
      "execution_count": 42,
      "outputs": [
        {
          "output_type": "execute_result",
          "data": {
            "text/plain": [
              "<matplotlib.axes._subplots.AxesSubplot at 0x7f21b539c438>"
            ]
          },
          "metadata": {
            "tags": []
          },
          "execution_count": 42
        },
        {
          "output_type": "display_data",
          "data": {
            "image/png": "[encoded data removed]",
            "text/plain": [
              "<Figure size 432x288 with 1 Axes>"
            ]
          },
          "metadata": {
            "tags": [],
            "needs_background": "light"
          }
        }
      ]
    },
    {
      "cell_type": "markdown",
      "metadata": {
        "id": "PzPsrj36KJ7n"
      },
      "source": [
        "2. Визуализируйте распределение количество-предложений / текст внутри каждого класса."
      ]
    },
    {
      "cell_type": "code",
      "metadata": {
        "id": "z7R5719eV2Me",
        "outputId": "1feaa56f-53c8-45f0-f133-081bcbfee8be",
        "colab": {
          "base_uri": "https://localhost:8080/",
          "height": 613
        }
      },
      "source": [
        "df[['label', 'num_sentences']].groupby(\"label\").hist(bins=100, alpha=0.9, color='g')"
      ],
      "execution_count": 44,
      "outputs": [
        {
          "output_type": "execute_result",
          "data": {
            "text/plain": [
              "label\n",
              "0    [[AxesSubplot(0.125,0.125;0.775x0.755)]]\n",
              "1    [[AxesSubplot(0.125,0.125;0.775x0.755)]]\n",
              "dtype: object"
            ]
          },
          "metadata": {
            "tags": []
          },
          "execution_count": 44
        },
        {
          "output_type": "display_data",
          "data": {
            "image/png": "[encoded data removed]",
            "text/plain": [
              "<Figure size 432x288 with 1 Axes>"
            ]
          },
          "metadata": {
            "tags": [],
            "needs_background": "light"
          }
        },
        {
          "output_type": "display_data",
          "data": {
            "image/png": "[encoded data removed]",
            "text/plain": [
              "<Figure size 432x288 with 1 Axes>"
            ]
          },
          "metadata": {
            "tags": [],
            "needs_background": "light"
          }
        }
      ]
    },
    {
      "cell_type": "markdown",
      "metadata": {
        "id": "5zGMiWUBQKRi"
      },
      "source": [
        "3. Верно ли, что количество предложений в тексте коррелирует с возрастом автора в подвыборке от 16 до 32 лет включительно? Если да, какая это корреляция – положительная или отрицательная? Визуализируйте матрицу корреляции."
      ]
    },
    {
      "cell_type": "markdown",
      "metadata": {
        "id": "BbxZBCU6c0jm"
      },
      "source": [
        "Есть оч маленькая положительная корреляция, "
      ]
    },
    {
      "cell_type": "code",
      "metadata": {
        "id": "qAeNmcoqQi5x",
        "outputId": "594a9767-9763-4d32-c4e9-307bc0ef0107",
        "colab": {
          "base_uri": "https://localhost:8080/",
          "height": 111
        }
      },
      "source": [
        "my_df = df[df[\"age\"].between(16, 32, inclusive=True)][['age', 'num_sentences']]\n",
        "my_df.corr()"
      ],
      "execution_count": 59,
      "outputs": [
        {
          "output_type": "execute_result",
          "data": {
            "text/html": [
              "<div>\n",
              "<style scoped>\n",
              "    .dataframe tbody tr th:only-of-type {\n",
              "        vertical-align: middle;\n",
              "    }\n",
              "\n",
              "    .dataframe tbody tr th {\n",
              "        vertical-align: top;\n",
              "    }\n",
              "\n",
              "    .dataframe thead th {\n",
              "        text-align: right;\n",
              "    }\n",
              "</style>\n",
              "<table border=\"1\" class=\"dataframe\">\n",
              "  <thead>\n",
              "    <tr style=\"text-align: right;\">\n",
              "      <th></th>\n",
              "      <th>age</th>\n",
              "      <th>num_sentences</th>\n",
              "    </tr>\n",
              "  </thead>\n",
              "  <tbody>\n",
              "    <tr>\n",
              "      <th>age</th>\n",
              "      <td>1.000000</td>\n",
              "      <td>0.039831</td>\n",
              "    </tr>\n",
              "    <tr>\n",
              "      <th>num_sentences</th>\n",
              "      <td>0.039831</td>\n",
              "      <td>1.000000</td>\n",
              "    </tr>\n",
              "  </tbody>\n",
              "</table>\n",
              "</div>"
            ],
            "text/plain": [
              "                    age  num_sentences\n",
              "age            1.000000       0.039831\n",
              "num_sentences  0.039831       1.000000"
            ]
          },
          "metadata": {
            "tags": []
          },
          "execution_count": 59
        }
      ]
    },
    {
      "cell_type": "code",
      "metadata": {
        "id": "yDXawSc3cQnE",
        "outputId": "002e9d20-7e39-4a0f-b0c3-84bc30d7b082",
        "colab": {
          "base_uri": "https://localhost:8080/",
          "height": 339
        }
      },
      "source": [
        "import matplotlib.pyplot as plt\n",
        "import seaborn as sns\n",
        "sns.set(style=\"whitegrid\")\n",
        "fig, ax = plt.subplots(figsize=(10, 5))\n",
        "\n",
        "sns.heatmap(\n",
        "    data=my_df.corr(), \n",
        "    annot=True,\n",
        "    ax=ax\n",
        ")\n",
        "\n",
        "plt.title(\"Корреляция между возрастом и количеством предложений\")\n",
        "plt.show()"
      ],
      "execution_count": 61,
      "outputs": [
        {
          "output_type": "display_data",
          "data": {
            "image/png": "[encoded data removed]",
            "text/plain": [
              "<Figure size 720x360 with 2 Axes>"
            ]
          },
          "metadata": {
            "tags": []
          }
        }
      ]
    },
    {
      "cell_type": "markdown",
      "metadata": {
        "id": "nBpo_1O5Ld7H"
      },
      "source": [
        "### Часть 4: Извлечение текстовых признаков (4 балла)"
      ]
    },
    {
      "cell_type": "markdown",
      "metadata": {
        "id": "oqZUzenfL2sF"
      },
      "source": [
        "1. Самостоятельно реализуйте функцию для получения посимвольных н-грамм (без использования библиотек)."
      ]
    },
    {
      "cell_type": "code",
      "metadata": {
        "id": "UOOp61e1MCU-"
      },
      "source": [
        "def char_ngrams(s, n):\n",
        "  s = list(s)\n",
        "  return [s[i:i+n] for i in range(len(s)-n+1)]"
      ],
      "execution_count": 44,
      "outputs": []
    },
    {
      "cell_type": "code",
      "metadata": {
        "id": "LctAR2cEMV0s",
        "outputId": "d051a3c7-9c67-419d-bb0c-a0be301fe168",
        "colab": {
          "base_uri": "https://localhost:8080/",
          "height": 187
        }
      },
      "source": [
        "# пример работы функции\n",
        "\n",
        "text = \"уставшая мама мыла грязную раму\"\n",
        "\n",
        "char_ngrams(text, n=3)[:10]"
      ],
      "execution_count": 45,
      "outputs": [
        {
          "output_type": "execute_result",
          "data": {
            "text/plain": [
              "[['у', 'с', 'т'],\n",
              " ['с', 'т', 'а'],\n",
              " ['т', 'а', 'в'],\n",
              " ['а', 'в', 'ш'],\n",
              " ['в', 'ш', 'а'],\n",
              " ['ш', 'а', 'я'],\n",
              " ['а', 'я', ' '],\n",
              " ['я', ' ', 'м'],\n",
              " [' ', 'м', 'а'],\n",
              " ['м', 'а', 'м']]"
            ]
          },
          "metadata": {
            "tags": []
          },
          "execution_count": 45
        }
      ]
    },
    {
      "cell_type": "markdown",
      "metadata": {
        "id": "CnPgflCeNsZA"
      },
      "source": [
        "2. Самостоятельно реализуйте функцию для получения пословных н-грамм (без использования библиотек)."
      ]
    },
    {
      "cell_type": "code",
      "metadata": {
        "id": "fX_6RyMFOGL2"
      },
      "source": [
        "def word_ngrams(s, n):\n",
        "    s = s.split()\n",
        "    return [s[i:i+n] for i in range(len(s)-n+1)]"
      ],
      "execution_count": 46,
      "outputs": []
    },
    {
      "cell_type": "code",
      "metadata": {
        "id": "7b-XHdadOVm5",
        "outputId": "e44f0fb9-dd64-411e-c8d2-b417db8d51f4",
        "colab": {
          "base_uri": "https://localhost:8080/",
          "height": 119
        }
      },
      "source": [
        "# пример работы функции\n",
        "word_ngrams(text, n=2)"
      ],
      "execution_count": 117,
      "outputs": [
        {
          "output_type": "execute_result",
          "data": {
            "text/plain": [
              "[['мама', 'мыла'],\n",
              " ['мыла', 'раму,'],\n",
              " ['раму,', 'а'],\n",
              " ['а', 'папа'],\n",
              " ['папа', 'курил'],\n",
              " ['курил', 'бамбук']]"
            ]
          },
          "metadata": {
            "tags": []
          },
          "execution_count": 117
        }
      ]
    },
    {
      "cell_type": "code",
      "metadata": {
        "id": "anLUGeXROekT",
        "outputId": "873e4c68-d8cb-4fd0-eb98-a2e485b34085",
        "colab": {
          "base_uri": "https://localhost:8080/",
          "height": 34
        }
      },
      "source": [
        "word_ngrams(text, n=4)"
      ],
      "execution_count": 48,
      "outputs": [
        {
          "output_type": "execute_result",
          "data": {
            "text/plain": [
              "[['уставшая', 'мама', 'мыла', 'грязную'], ['мама', 'мыла', 'грязную', 'раму']]"
            ]
          },
          "metadata": {
            "tags": []
          },
          "execution_count": 48
        }
      ]
    },
    {
      "cell_type": "markdown",
      "metadata": {
        "id": "zU4PJTZVOvcQ"
      },
      "source": [
        "3. Самостоятельно реализуйте функцию для получения н-грамм лемм (без использования библиотек)."
      ]
    },
    {
      "cell_type": "code",
      "metadata": {
        "id": "dgWG3NdLO0JF"
      },
      "source": [
        "def lemma_ngrams(s, n):\n",
        "    s = my_lemmatize([s])[0]\n",
        "    return [s[i:i+n] for i in range(len(s)-n+1)]"
      ],
      "execution_count": 51,
      "outputs": []
    },
    {
      "cell_type": "code",
      "metadata": {
        "id": "BfER14VDO8I3",
        "outputId": "23c4d84b-745d-41f8-a3f0-03bdfa52b2fd",
        "colab": {
          "base_uri": "https://localhost:8080/",
          "height": 68
        }
      },
      "source": [
        "# пример работы функции\n",
        "\n",
        "lemma_ngrams(text, n=3)"
      ],
      "execution_count": 52,
      "outputs": [
        {
          "output_type": "execute_result",
          "data": {
            "text/plain": [
              "[['уставать', 'мама', 'мыло'],\n",
              " ['мама', 'мыло', 'грязный'],\n",
              " ['мыло', 'грязный', 'рама']]"
            ]
          },
          "metadata": {
            "tags": []
          },
          "execution_count": 52
        }
      ]
    },
    {
      "cell_type": "code",
      "metadata": {
        "id": "k1XmkQ_rO_p1",
        "outputId": "a688c9c7-fe15-4d09-8324-77b7d0eb7a13",
        "colab": {
          "base_uri": "https://localhost:8080/",
          "height": 34
        }
      },
      "source": [
        "lemma_ngrams(text, n=4)"
      ],
      "execution_count": 53,
      "outputs": [
        {
          "output_type": "execute_result",
          "data": {
            "text/plain": [
              "[['уставать', 'мама', 'мыло', 'грязный'], ['мама', 'мыло', 'грязный', 'рама']]"
            ]
          },
          "metadata": {
            "tags": []
          },
          "execution_count": 53
        }
      ]
    },
    {
      "cell_type": "markdown",
      "metadata": {
        "id": "LHUo6LdLOblj"
      },
      "source": [
        "4. Самостоятельно реализуйте функцию для получения н-грамм частеречных тегов (без использования библиотек)."
      ]
    },
    {
      "cell_type": "code",
      "metadata": {
        "id": "YlPDRUCcOoCX"
      },
      "source": [
        "def pos_ngrams(s, n):\n",
        "    s = pos_tags(s)\n",
        "    return [s[i:i+n] for i in range(len(s)-n+1)]"
      ],
      "execution_count": 54,
      "outputs": []
    },
    {
      "cell_type": "code",
      "metadata": {
        "id": "a4kQmEqiPHPv",
        "outputId": "4886ba05-2a65-4021-a232-4d213898e849",
        "colab": {
          "base_uri": "https://localhost:8080/",
          "height": 85
        }
      },
      "source": [
        "# пример работы функции\n",
        "\n",
        "pos_ngrams(text, n=3)"
      ],
      "execution_count": 58,
      "outputs": [
        {
          "output_type": "execute_result",
          "data": {
            "text/plain": [
              "[['NOUN', 'NOUN', 'NOUN'],\n",
              " ['NOUN', 'NOUN', 'NOUN'],\n",
              " ['NOUN', 'NOUN', 'VERB'],\n",
              " ['NOUN', 'VERB', 'NOUN']]"
            ]
          },
          "metadata": {
            "tags": []
          },
          "execution_count": 58
        }
      ]
    },
    {
      "cell_type": "code",
      "metadata": {
        "id": "iBh5fRbOPKsn",
        "outputId": "04287a7c-4c86-4546-9f0c-3558afabd4e8",
        "colab": {
          "base_uri": "https://localhost:8080/",
          "height": 68
        }
      },
      "source": [
        "pos_ngrams(text, n=4)"
      ],
      "execution_count": 59,
      "outputs": [
        {
          "output_type": "execute_result",
          "data": {
            "text/plain": [
              "[['NOUN', 'NOUN', 'NOUN', 'NOUN'],\n",
              " ['NOUN', 'NOUN', 'NOUN', 'VERB'],\n",
              " ['NOUN', 'NOUN', 'VERB', 'NOUN']]"
            ]
          },
          "metadata": {
            "tags": []
          },
          "execution_count": 59
        }
      ]
    },
    {
      "cell_type": "markdown",
      "metadata": {
        "id": "ZnUBQ6hLPNb3"
      },
      "source": [
        "5. Самостоятельно реализуйте функцию для получения частотного словаря частеречных тегов по коллекции документов."
      ]
    },
    {
      "cell_type": "code",
      "metadata": {
        "id": "P69DZahVPctr"
      },
      "source": [
        "def build_pos_dict(corpus):\n",
        "  all_tags = []\n",
        "  for text in corpus:\n",
        "    all_tags.extend(pos_tags(text))\n",
        "  return {i:all_tags.count(i) for i in set(all_tags)}  "
      ],
      "execution_count": 69,
      "outputs": []
    },
    {
      "cell_type": "code",
      "metadata": {
        "id": "7ZLFo264Pa4b",
        "outputId": "e88ca4d9-a034-445f-a559-7f795dcf6f82",
        "colab": {
          "base_uri": "https://localhost:8080/",
          "height": 34
        }
      },
      "source": [
        "# пример работы функции\n",
        "\n",
        "corpus = [\n",
        "    \"мама мыла уставшую раму\",\n",
        "    \"высшая школа экономики\",\n",
        "    \"компьютерная лингвистика\",\n",
        "    \"осень наступила\"\n",
        "]\n",
        "\n",
        "build_pos_dict(corpus)"
      ],
      "execution_count": 70,
      "outputs": [
        {
          "output_type": "execute_result",
          "data": {
            "text/plain": [
              "{'ADJF': 2, 'NOUN': 7, 'PRTF': 1, 'VERB': 1}"
            ]
          },
          "metadata": {
            "tags": []
          },
          "execution_count": 70
        }
      ]
    },
    {
      "cell_type": "markdown",
      "metadata": {
        "id": "yb_mcJ8sSr3-"
      },
      "source": [
        "6. Постройте частотный словарь лемм по текстам внутри каждого класса. Найдите топ-15 лемм для текстов каждого класса. Есть ли между этими списками пересечение? Если да, сколько лемм пересекается?"
      ]
    },
    {
      "cell_type": "code",
      "metadata": {
        "id": "onRZficw0Qzw"
      },
      "source": [
        "lemmas = my_lemmatize(df['text'])"
      ],
      "execution_count": 77,
      "outputs": []
    },
    {
      "cell_type": "code",
      "metadata": {
        "id": "iBycTZ8ww-da"
      },
      "source": [
        "df['lemmas'] = lemmas"
      ],
      "execution_count": 78,
      "outputs": []
    },
    {
      "cell_type": "code",
      "metadata": {
        "id": "nP6_MZbHTLtf"
      },
      "source": [
        "def build_lemma_dict(lemmas_corpus):\n",
        "  all_lemmas = []\n",
        "  i = 0\n",
        "  for text_lemmas in lemmas_corpus:\n",
        "    i += 1\n",
        "    if i%10==0:\n",
        "      print(i*100/len(lemmas_))\n",
        "    all_lemmas.extend(text_lemmas)\n",
        "  return {i:all_lemmas.count(i) for i in set(all_lemmas)}  "
      ],
      "execution_count": 81,
      "outputs": []
    },
    {
      "cell_type": "code",
      "metadata": {
        "id": "m_erxUlA3q2s"
      },
      "source": [
        "%%time \n",
        "#у меня коллаб тупить начинает, если считать на всех данных, так что посчитаю на части\n",
        "df1 = df[df['label']==1]\n",
        "df1_lemma_dict = build_lemma_dict(df1['lemmas'][:1000])"
      ],
      "execution_count": null,
      "outputs": []
    },
    {
      "cell_type": "code",
      "metadata": {
        "id": "vckf57XF32MN",
        "outputId": "7450cf8d-f177-4088-e9cf-8cf2e81e34d5",
        "colab": {
          "base_uri": "https://localhost:8080/"
        }
      },
      "source": [
        "%%time \n",
        "df0 = df[df['label']==0]\n",
        "df0_lemma_dict = build_lemma_dict(df0['lemmas'][:1000])"
      ],
      "execution_count": 98,
      "outputs": [
        {
          "output_type": "stream",
          "text": [
            "CPU times: user 3min 10s, sys: 16.5 ms, total: 3min 10s\n",
            "Wall time: 3min 10s\n"
          ],
          "name": "stdout"
        }
      ]
    },
    {
      "cell_type": "code",
      "metadata": {
        "id": "G81-1NnoikG5"
      },
      "source": [
        "df0_lemma_dict"
      ],
      "execution_count": null,
      "outputs": []
    },
    {
      "cell_type": "code",
      "metadata": {
        "id": "J-sO-iGpi444",
        "outputId": "a00f6462-44f1-4dc5-9f57-0e18552dfad0",
        "colab": {
          "base_uri": "https://localhost:8080/",
          "height": 34
        }
      },
      "source": [
        "import operator\n",
        "sorted_df1 = sorted(df1_lemma_dict.items(), key=operator.itemgetter(1), reverse=True)\n",
        "sorted_df0 = sorted(df0_lemma_dict.items(), key=operator.itemgetter(1), reverse=True)\n",
        "list1 = [i[0] for i in sorted_df1[:15]]\n",
        "list0 = [i[0] for i in sorted_df0[:15]]\n",
        "len(list(set(list1) & set(list0)))"
      ],
      "execution_count": 109,
      "outputs": [
        {
          "output_type": "execute_result",
          "data": {
            "text/plain": [
              "8"
            ]
          },
          "metadata": {
            "tags": []
          },
          "execution_count": 109
        }
      ]
    },
    {
      "cell_type": "code",
      "metadata": {
        "id": "G-8W-YEjkSQi",
        "outputId": "31a407ec-2918-4ef8-a279-49c73ec6d4e8",
        "colab": {
          "base_uri": "https://localhost:8080/",
          "height": 221
        }
      },
      "source": [
        "#я не удаляла из лемм стоп-слова (но это, кажется, и не требовалось по тексту задания)\n",
        "#но всё же возьмем побольше лемм ради интереса\n",
        "\n",
        "sorted_df1 = sorted(df1_lemma_dict.items(), key=operator.itemgetter(1), reverse=True)\n",
        "sorted_df0 = sorted(df0_lemma_dict.items(), key=operator.itemgetter(1), reverse=True)\n",
        "list1 = [i[0] for i in sorted_df1[:100]]\n",
        "list0 = [i[0] for i in sorted_df0[:100]]\n",
        "common = list(set(list1) & set(list0))\n",
        "common_wo_sp = [c for c in common if c not in stopwords_ru and c.strip(' ,.-!') not in string.punctuation]\n",
        "common_wo_sp"
      ],
      "execution_count": 116,
      "outputs": [
        {
          "output_type": "execute_result",
          "data": {
            "text/plain": [
              "['ребенок',\n",
              " 'это',\n",
              " 'работа',\n",
              " 'весь',\n",
              " 'человек',\n",
              " 'каждый',\n",
              " 'год',\n",
              " 'свой',\n",
              " 'становиться',\n",
              " 'время',\n",
              " 'день',\n",
              " 'который']"
            ]
          },
          "metadata": {
            "tags": []
          },
          "execution_count": 116
        }
      ]
    },
    {
      "cell_type": "markdown",
      "metadata": {
        "id": "AqfZJ4csRSxZ"
      },
      "source": [
        "7. Какие текстовые признаки могли бы быть полезными для решения задачи классификации на этих данных? Приведите примеры и перечислите ресурсы, которые вы бы использовали для конструирования этих признаков."
      ]
    },
    {
      "cell_type": "markdown",
      "metadata": {
        "id": "nqxspYFUDHCy"
      },
      "source": [
        "Количество и тип знаков препинания, количество слов из определенного набора, вектора лемм, вектор каждого текста по отдельности. Для векторов можно использовать w2v или какие-нибудь новомодные трансформеры."
      ]
    }
  ]
}