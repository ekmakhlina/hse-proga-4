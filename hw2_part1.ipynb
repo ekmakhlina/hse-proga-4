{
  "nbformat": 4,
  "nbformat_minor": 0,
  "metadata": {
    "colab": {
      "name": "hw2-part1.ipynb",
      "provenance": [],
      "toc_visible": true
    },
    "kernelspec": {
      "name": "python3",
      "display_name": "Python 3"
    }
  },
  "cells": [
    {
      "cell_type": "markdown",
      "metadata": {
        "id": "view-in-github"
      },
      "source": [
        "<a href=\"https://colab.research.google.com/gist/oserikov/f430e81939ffff48cafd6377b9e67b9c/.ipynb\" target=\"_parent\"><img src=\"https://colab.research.google.com/assets/colab-badge.svg\" alt=\"Open In Colab\"/></a>"
      ]
    },
    {
      "cell_type": "markdown",
      "metadata": {
        "id": "Uh6wr5m8ZFot"
      },
      "source": [
        "# Домашнее задание о векторизации текстов"
      ]
    },
    {
      "cell_type": "markdown",
      "metadata": {
        "id": "_bm1AFbqZFIY"
      },
      "source": [
        "В задании вам предстоит сравнить несколько методов снижения размерности\n",
        "* PCA\n",
        "* t-SNE\n",
        "\n",
        "а так же попробовать осуществить тематическое моделирование методом LDA.\n",
        "\n",
        "**Формат сдачи задания** -- указание в гуглформе ссылки на тетрадь с решением + ответ на вопросы (см. последние вопросы первой задачи) в форме. Форма появится ближе к дедлайну.\n",
        "\n",
        "**Дедлайн** 23.59 7 октября MSK.  \n",
        "\n",
        "ДЗ предполагает возможность получения **до 12 баллов** по десятибалльной шкале. Оценки 11 и 12 поступают в ведомость, как оценки 11 и 12.\n",
        "\n",
        "---\n",
        "\n",
        "Если вы уже хорошо знакомы с снижением размерности, реализуйте первую задачу, используя не Bag-of-Words векторы текстов, а эмбеддинги текстов, полученные алгоритмом на ваш выбор. \n",
        "**Если вы собираетесь решать задачу так, то, приступая, сообщите об этом @oserikov в телеграме.**\n",
        "\n",
        "Если вы уже хорошо знакомы ещё и с векторизацией текстов эмбеддингами, напишите @oserikov для обсуждения замены первой задачи на другую.\n"
      ]
    },
    {
      "cell_type": "markdown",
      "metadata": {
        "id": "EHqgPgL_Z9XF"
      },
      "source": [
        "# [6 баллов] Задача о снижении размерности\n",
        "\n",
        "\n"
      ]
    },
    {
      "cell_type": "markdown",
      "metadata": {
        "id": "jYhZCZwHnSan"
      },
      "source": [
        "[Вот](https://drive.google.com/drive/folders/1HX5rz4UZHtbzhPguUFolOg-xm6HFc0KO?usp=sharing) корпус, однажды собранный без особенных размышлений.\n",
        "Это -- корпус любительской литературы. Он был собран для забавы и непонятно, какая природа у представленных там текстов.\n",
        "\n",
        "Вам предстоит оценить, насколько эти тексты интересны в качестве простого датасета для задачи классификации: информативны ли Bag-of-Words векторы в смысле разделения текстов по жанрам.\n",
        "\n",
        "---\n",
        "\n",
        "### Постановка задачи\n",
        "\n",
        "**Задача**: взяв фанифики и два каких-то других жанра из корпуса, визуализировать их BoW-представления на плоскости.\n",
        "\n",
        "---\n",
        "\n",
        "Визуализацию стоит осуществлять scatter-плотом, информацию о принадлежности документа какому-то жанру стоит передавать цветом.\n",
        "\n",
        "Количество документов, представляющих каждый жанр, стоит подобрать семплированием нужного количества элементов под доступные вычислительные ресурсы -- полный корпус точно слишком велик.\n",
        "\n",
        "Гиперпараметры BoW-векторизатора стоит подобрать под доступные вычислительные ресурсы -- если код работает дольше часа, то стоит упростить вычислительную задачу: подобрать другие гиперпараметры векторизации или уменьшить выборку."
      ]
    },
    {
      "cell_type": "markdown",
      "metadata": {
        "id": "zIbAkSSnnOp8"
      },
      "source": [
        "#### Критерии\n",
        "\n",
        "\n",
        "* **1 БАЛЛ**: \n",
        "  * В выбранных документах осуществлена какая-то **стандартная предобработка текста**: удалены стоп-слова и мусорные токены (e.g. html-теги), проведена лемматизация.  \n",
        "  Решение о каждой конкретной детали предобработки остаётся на усмотрение студентов: каждое нестандартное действие (e.g. отказ от лемматизации или удаление каких-то особенных токенов) стоит пояснить коротким комментарием, описывающим мотивацию.\n",
        "  * Получены **Bag-of-Words векторы** документов, выбранных для исследования. \n",
        "* **1 БАЛЛ**: получена визуализация документов на плоскости **методом главных компонент** снижения размерности Bag-of-Words векторов.\n",
        "* **1 БАЛЛ**: получена визуализация документов на плоскости методом **t-SNE** снижения размерности Bag-of-Words векторов.\n",
        "* **1 БАЛЛ**: на полученных визуализациях **получилось передать цветом точек классы** документов; понятно, точка какого цвета относится к какому классу.\n",
        "\n",
        "\n",
        "Скорее всего визуализация t-SNE и PCA заметно отличаются раскладкой точек по плоскости: один метод как будто раскладывает их вдоль двух пересекающихся прямых, за другим такого свойства скорее всего нет. Ответ на два вопроса ниже вам предстоит указать в гуглформе, сдавая задание.\n",
        "* **1 БАЛЛ**: верно указано, какой метод укладывает точки примерно вдоль прямых, а какой -- нет\n",
        "* **1 БАЛЛ**: предложено верное описание тому, почему у одного из методов всегда результаты располагаются вдоль некоторых прямых. \n",
        "\n"
      ]
    },
    {
      "cell_type": "code",
      "metadata": {
        "id": "VF8blUfJFf8q",
        "outputId": "9efae420-da51-4502-b5c8-f68840fddbae",
        "colab": {
          "base_uri": "https://localhost:8080/",
          "height": 54
        }
      },
      "source": [
        "from google.colab import drive\n",
        "drive.mount('/content/drive')"
      ],
      "execution_count": 1,
      "outputs": [
        {
          "output_type": "stream",
          "text": [
            "Drive already mounted at /content/drive; to attempt to forcibly remount, call drive.mount(\"/content/drive\", force_remount=True).\n"
          ],
          "name": "stdout"
        }
      ]
    },
    {
      "cell_type": "code",
      "metadata": {
        "id": "62zqw_soHBSR"
      },
      "source": [
        "import pandas as pd\n",
        "df = pd.DataFrame(columns=['text', 'genre'])"
      ],
      "execution_count": 2,
      "outputs": []
    },
    {
      "cell_type": "code",
      "metadata": {
        "id": "-TwnGZZzGEHB"
      },
      "source": [
        "import os\n",
        "all_texts = []\n",
        "all_genres = []\n",
        "path = '/content/drive/My Drive/Colab Notebooks/amcorpus'\n",
        "for folder in os.listdir(path):\n",
        "  folder_path = path + '/' + folder\n",
        "  for fn in os.listdir(folder_path):\n",
        "    filepath = folder_path + '/' + fn\n",
        "    with open(filepath, 'r') as f:\n",
        "      all_texts.append(f.read())\n",
        "      all_genres.append(folder)"
      ],
      "execution_count": 3,
      "outputs": []
    },
    {
      "cell_type": "code",
      "metadata": {
        "id": "mIxO30DXLlWE"
      },
      "source": [
        "df['text'] = all_texts\n",
        "df['genre'] = all_genres"
      ],
      "execution_count": 4,
      "outputs": []
    },
    {
      "cell_type": "code",
      "metadata": {
        "id": "lRHZJ1idMS5w"
      },
      "source": [
        "df1 = df[df['genre']=='Детская'].sample(n=100)\n",
        "df2 = df[df['genre']=='Религия'].sample(n=100)\n",
        "df3 = df[df['genre']=='Фанфик'].sample(n=100)"
      ],
      "execution_count": 5,
      "outputs": []
    },
    {
      "cell_type": "code",
      "metadata": {
        "id": "TIb3K6xzNcoN",
        "outputId": "f84caf4f-c6cb-4409-f85b-5a2c21131dee",
        "colab": {
          "base_uri": "https://localhost:8080/"
        }
      },
      "source": [
        "sample_df = pd.concat([df1, df2, df3])\n",
        "sample_df = sample_df.reset_index(drop=True)\n",
        "sample_df.head()"
      ],
      "execution_count": 6,
      "outputs": [
        {
          "output_type": "execute_result",
          "data": {
            "text/html": [
              "<div>\n",
              "<style scoped>\n",
              "    .dataframe tbody tr th:only-of-type {\n",
              "        vertical-align: middle;\n",
              "    }\n",
              "\n",
              "    .dataframe tbody tr th {\n",
              "        vertical-align: top;\n",
              "    }\n",
              "\n",
              "    .dataframe thead th {\n",
              "        text-align: right;\n",
              "    }\n",
              "</style>\n",
              "<table border=\"1\" class=\"dataframe\">\n",
              "  <thead>\n",
              "    <tr style=\"text-align: right;\">\n",
              "      <th></th>\n",
              "      <th>text</th>\n",
              "      <th>genre</th>\n",
              "    </tr>\n",
              "  </thead>\n",
              "  <tbody>\n",
              "    <tr>\n",
              "      <th>0</th>\n",
              "      <td>\\n\\n\\n\\n\\n\\n\\n\\n\\n\\n\\n                        ...</td>\n",
              "      <td>Детская</td>\n",
              "    </tr>\n",
              "    <tr>\n",
              "      <th>1</th>\n",
              "      <td>\\n\\n\\n                    \\n   ЧЕРЕПАХИН  ХВОС...</td>\n",
              "      <td>Детская</td>\n",
              "    </tr>\n",
              "    <tr>\n",
              "      <th>2</th>\n",
              "      <td>\\n\\n\\n\\n\\nАлександр Парфе\\n\\nПро мышку Соню\\n\\...</td>\n",
              "      <td>Детская</td>\n",
              "    </tr>\n",
              "    <tr>\n",
              "      <th>3</th>\n",
              "      <td>\\n\\n \\n \\n\\n\\n\\n Кажется, в 3 классе задали на...</td>\n",
              "      <td>Детская</td>\n",
              "    </tr>\n",
              "    <tr>\n",
              "      <th>4</th>\n",
              "      <td>\\n\\n \\n \\n\\n\\n\\n Андрей Богдарин\\n \\n Весёлые ...</td>\n",
              "      <td>Детская</td>\n",
              "    </tr>\n",
              "  </tbody>\n",
              "</table>\n",
              "</div>"
            ],
            "text/plain": [
              "                                                text    genre\n",
              "0  \\n\\n\\n\\n\\n\\n\\n\\n\\n\\n\\n                        ...  Детская\n",
              "1  \\n\\n\\n                    \\n   ЧЕРЕПАХИН  ХВОС...  Детская\n",
              "2  \\n\\n\\n\\n\\nАлександр Парфе\\n\\nПро мышку Соню\\n\\...  Детская\n",
              "3  \\n\\n \\n \\n\\n\\n\\n Кажется, в 3 классе задали на...  Детская\n",
              "4  \\n\\n \\n \\n\\n\\n\\n Андрей Богдарин\\n \\n Весёлые ...  Детская"
            ]
          },
          "metadata": {
            "tags": []
          },
          "execution_count": 6
        }
      ]
    },
    {
      "cell_type": "code",
      "metadata": {
        "id": "RAfo7ZGlLgWu"
      },
      "source": [
        "#df.to_csv('am_corpus.csv')"
      ],
      "execution_count": 7,
      "outputs": []
    },
    {
      "cell_type": "code",
      "metadata": {
        "id": "6xXuD-pGOAGd"
      },
      "source": [
        "#sample_df.to_csv('am_corpus_sample.csv')"
      ],
      "execution_count": 8,
      "outputs": []
    },
    {
      "cell_type": "code",
      "metadata": {
        "id": "tH0nwlqrO7Mu"
      },
      "source": [
        "!wget http://download.cdn.yandex.net/mystem/mystem-3.0-linux3.1-64bit.tar.gz\n",
        "!tar -xvf mystem-3.0-linux3.1-64bit.tar.gz\n",
        "#!mkdir /root/.local/bin\n",
        "!cp mystem /root/.local/bin/mystem"
      ],
      "execution_count": null,
      "outputs": []
    },
    {
      "cell_type": "code",
      "metadata": {
        "id": "x7NmxmZZO0xv",
        "outputId": "f7044b97-9e5d-46b9-e40d-effe02960e88",
        "colab": {
          "base_uri": "https://localhost:8080/",
          "height": 51
        }
      },
      "source": [
        "import nltk\n",
        "nltk.download('stopwords')\n",
        "from nltk.corpus import stopwords\n",
        "stopwords_ru = stopwords.words(\"russian\")"
      ],
      "execution_count": 10,
      "outputs": [
        {
          "output_type": "stream",
          "text": [
            "[nltk_data] Downloading package stopwords to /root/nltk_data...\n",
            "[nltk_data]   Package stopwords is already up-to-date!\n"
          ],
          "name": "stdout"
        }
      ]
    },
    {
      "cell_type": "code",
      "metadata": {
        "id": "AHf-YyxZOJeP"
      },
      "source": [
        "from pymystem3 import Mystem\n",
        "import numpy as np\n",
        "import string\n",
        "\n",
        "mystem = Mystem()\n",
        "\n",
        "def preprocessing(texts, mystem=mystem):\n",
        "    lol = lambda lst, sz: [lst[i:i+sz] for i in range(0, len(lst), sz)]\n",
        "    txtpart = lol(texts, 1000)\n",
        "    res = []\n",
        "    for txtp in txtpart:\n",
        "        alltexts = ' '.join([txt + ' brt ' for txt in txtp])\n",
        "        all_words = mystem.lemmatize(alltexts)\n",
        "        words = []\n",
        "        for w in all_words:\n",
        "          w = w.strip()\n",
        "          if w not in stopwords_ru and w not in string.punctuation:\n",
        "            words.append(w)\n",
        "        doc = []\n",
        "        for txt in words:\n",
        "            if txt != '\\n' and txt.strip() != '':\n",
        "                if txt == 'brt':\n",
        "                    res.append(doc)\n",
        "                    doc = []\n",
        "                else:\n",
        "                    doc.append(txt)\n",
        "    return res"
      ],
      "execution_count": 11,
      "outputs": []
    },
    {
      "cell_type": "code",
      "metadata": {
        "id": "2pI3vIlXP4D1",
        "outputId": "0a965b52-7bf4-4495-9006-a38f58039b97",
        "colab": {
          "base_uri": "https://localhost:8080/",
          "height": 34
        }
      },
      "source": [
        "preprocessing(['мама мыла раму'])"
      ],
      "execution_count": 12,
      "outputs": [
        {
          "output_type": "execute_result",
          "data": {
            "text/plain": [
              "[['мама', 'мыть', 'рама']]"
            ]
          },
          "metadata": {
            "tags": []
          },
          "execution_count": 12
        }
      ]
    },
    {
      "cell_type": "code",
      "metadata": {
        "id": "7pa3AFX_PJQH"
      },
      "source": [
        "sample_df['lemmas'] = preprocessing(sample_df['text'])"
      ],
      "execution_count": 13,
      "outputs": []
    },
    {
      "cell_type": "code",
      "metadata": {
        "id": "x1EPdDS8PdJz"
      },
      "source": [
        "sample_df['clean_text'] = [' '.join(lemmas) for lemmas in sample_df['lemmas']]"
      ],
      "execution_count": 14,
      "outputs": []
    },
    {
      "cell_type": "code",
      "metadata": {
        "id": "ByFVcIO_d34L"
      },
      "source": [
        "sample_df.to_csv('sample_corpus_clean.csv')"
      ],
      "execution_count": 15,
      "outputs": []
    },
    {
      "cell_type": "code",
      "metadata": {
        "id": "XhMpBh7ltku2"
      },
      "source": [
        "sample_df = pd.read_csv('sample_corpus_clean.csv')"
      ],
      "execution_count": 16,
      "outputs": []
    },
    {
      "cell_type": "code",
      "metadata": {
        "id": "-ivZ-ZyVhpNb"
      },
      "source": [
        "from sklearn.feature_extraction.text import CountVectorizer\n",
        "vectorizer = CountVectorizer()\n",
        "corpus_matrix = vectorizer.fit_transform(sample_df['clean_text'])"
      ],
      "execution_count": 17,
      "outputs": []
    },
    {
      "cell_type": "code",
      "metadata": {
        "id": "C0PitWPVmVNH"
      },
      "source": [
        "sample_df['vector'] = corpus_matrix"
      ],
      "execution_count": 18,
      "outputs": []
    },
    {
      "cell_type": "code",
      "metadata": {
        "id": "HAiITNJ6h07y"
      },
      "source": [
        "import matplotlib.pyplot as plt\n",
        "import matplotlib.cm as cm\n",
        "import numpy as np\n",
        "\n",
        "from sklearn.cluster import MiniBatchKMeans\n",
        "from sklearn.decomposition import PCA\n",
        "from sklearn.manifold import TSNE"
      ],
      "execution_count": 19,
      "outputs": []
    },
    {
      "cell_type": "code",
      "metadata": {
        "id": "lI9DOGm_HKk6"
      },
      "source": [
        "labels = []\n",
        "genres = sample_df['genre'].unique()\n",
        "for i in sample_df['genre']:\n",
        "  if i==genres[0]:\n",
        "    labels.append(0)\n",
        "  if i==genres[1]:\n",
        "    labels.append(1)\n",
        "  if i==genres[2]:\n",
        "    labels.append(2)"
      ],
      "execution_count": 20,
      "outputs": []
    },
    {
      "cell_type": "code",
      "metadata": {
        "id": "8ACaWZDoKEmm"
      },
      "source": [
        "import matplotlib.patches as mpatches\n",
        "\n",
        "classes = ['A','B','C']\n",
        "class_colours = ['r','b','g']\n",
        "recs = []\n",
        "for i in range(0,len(class_colours)):\n",
        "    recs.append(mpatches.Rectangle((0,0),1,1,fc=class_colours[i]))\n",
        "plt.legend(recs,classes,loc=4)"
      ],
      "execution_count": null,
      "outputs": []
    },
    {
      "cell_type": "code",
      "metadata": {
        "id": "QjXdAhnfnRKT",
        "outputId": "d75a9b27-baef-43f1-fb87-0048a539db63",
        "colab": {
          "base_uri": "https://localhost:8080/",
          "height": 390
        }
      },
      "source": [
        "def plot_tsne_pca(data, labels): \n",
        "    pca = PCA(n_components=2).fit_transform(data.todense())\n",
        "    tsne = TSNE().fit_transform(PCA(n_components=50).fit_transform(data.todense()))\n",
        "    group = np.array(labels)\n",
        "    cdict = {0: 'red', 1: 'blue', 2: 'green'}\n",
        "    groupdict = {0: 'Детская', 1: 'Религия', 2: 'Фанфик'}\n",
        "       \n",
        "    idx = [i for i in range(300)]\n",
        "    f, ax = plt.subplots(1, 2, figsize=(14, 6))\n",
        "    \n",
        "    for g in np.unique(group):\n",
        "      ix = np.where(group == g)\n",
        "      ax[0].scatter(pca[ix, 0], pca[ix, 1], c = cdict[g], label = groupdict[g])\n",
        "    ax[0].legend()\n",
        "    ax[0].set_title('PCA Plot')\n",
        "\n",
        "    for g in np.unique(group):\n",
        "      ix = np.where(group == g)\n",
        "      ax[1].scatter(tsne[ix, 0], tsne[ix, 1], c = cdict[g], label = groupdict[g])\n",
        "    ax[1].legend()\n",
        "    ax[1].set_title('TSNE Plot')\n",
        "    \n",
        "plot_tsne_pca(corpus_matrix, labels)"
      ],
      "execution_count": 46,
      "outputs": [
        {
          "output_type": "display_data",
          "data": {
            "image/png": "[encoded data removed]",
            "text/plain": [
              "<Figure size 1008x432 with 2 Axes>"
            ]
          },
          "metadata": {
            "tags": [],
            "needs_background": "light"
          }
        }
      ]
    }
  ]
}